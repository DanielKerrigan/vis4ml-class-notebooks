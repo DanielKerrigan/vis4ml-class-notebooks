{
 "cells": [
  {
   "cell_type": "markdown",
   "id": "f7faaed8",
   "metadata": {},
   "source": [
    "# 05: Shapley Values \n",
    "\n",
    "See sections in Molnar's book on [Shapley Values](https://christophm.github.io/interpretable-ml-book/shapley.html) and [SHAP](https://christophm.github.io/interpretable-ml-book/shap.html) for background information. For actual use, see the [shap package](https://github.com/slundberg/shap)."
   ]
  },
  {
   "cell_type": "markdown",
   "id": "51aeffc8",
   "metadata": {},
   "source": [
    "## Imports"
   ]
  },
  {
   "cell_type": "code",
   "execution_count": 1,
   "id": "83fb0a9e",
   "metadata": {},
   "outputs": [],
   "source": [
    "from dataclasses import dataclass, field\n",
    "from itertools import product\n",
    "import random\n",
    "\n",
    "import altair as alt\n",
    "import numpy as np\n",
    "import pandas as pd\n",
    "import pmlb\n",
    "\n",
    "from sklearn.model_selection import train_test_split, GridSearchCV\n",
    "from sklearn.ensemble import RandomForestRegressor\n",
    "from sklearn.inspection import PartialDependenceDisplay"
   ]
  },
  {
   "cell_type": "code",
   "execution_count": 2,
   "id": "09ce258e",
   "metadata": {},
   "outputs": [
    {
     "data": {
      "text/plain": [
       "DataTransformerRegistry.enable('json')"
      ]
     },
     "execution_count": 2,
     "metadata": {},
     "output_type": "execute_result"
    }
   ],
   "source": [
    "# If you're running this code locally, then you can uncomment this to automatically\n",
    "# save the chart data in files, rather than including the data in the spec. \n",
    "\n",
    "!mkdir -p data\n",
    "alt.data_transformers.enable('json', prefix='data/altair-data')"
   ]
  },
  {
   "cell_type": "markdown",
   "id": "ea058baa",
   "metadata": {},
   "source": [
    "## Data Preparation and Modeling\n",
    "\n",
    "For this lab, we'll be using a bike rental dataset. This is a regression dataset where the goal is to predict the number of bikes that were rented at a particular day and time. This dataset is from the [UCI ML Repository](https://archive.ics.uci.edu/ml/datasets/bike+sharing+dataset). The data processing was guided by [Molnar's IML book](https://christophm.github.io/interpretable-ml-book/bike-data.html)."
   ]
  },
  {
   "cell_type": "code",
   "execution_count": 3,
   "id": "e9acd58c",
   "metadata": {},
   "outputs": [],
   "source": [
    "df = pd.read_csv('https://gist.githubusercontent.com/DanielKerrigan/f324b392dc9a58d8bd8f8d79e1101a12/raw/c3b4760c9facfac26bcab2cd7465c4cab88ef304/bike-hour.csv')"
   ]
  },
  {
   "cell_type": "markdown",
   "id": "832a46f5",
   "metadata": {},
   "source": [
    "To reduce computation times, we'll drop some of the columns."
   ]
  },
  {
   "cell_type": "code",
   "execution_count": 4,
   "id": "538d4db5",
   "metadata": {},
   "outputs": [],
   "source": [
    "df.drop(columns=['yr', 'mnth', 'atemp'], inplace=True)"
   ]
  },
  {
   "cell_type": "code",
   "execution_count": 5,
   "id": "1fee5289",
   "metadata": {},
   "outputs": [
    {
     "data": {
      "text/html": [
       "<div>\n",
       "<style scoped>\n",
       "    .dataframe tbody tr th:only-of-type {\n",
       "        vertical-align: middle;\n",
       "    }\n",
       "\n",
       "    .dataframe tbody tr th {\n",
       "        vertical-align: top;\n",
       "    }\n",
       "\n",
       "    .dataframe thead th {\n",
       "        text-align: right;\n",
       "    }\n",
       "</style>\n",
       "<table border=\"1\" class=\"dataframe\">\n",
       "  <thead>\n",
       "    <tr style=\"text-align: right;\">\n",
       "      <th></th>\n",
       "      <th>days_since_2011</th>\n",
       "      <th>season</th>\n",
       "      <th>hr</th>\n",
       "      <th>holiday</th>\n",
       "      <th>weekday</th>\n",
       "      <th>workingday</th>\n",
       "      <th>weathersit</th>\n",
       "      <th>temp</th>\n",
       "      <th>hum</th>\n",
       "      <th>windspeed</th>\n",
       "      <th>cnt</th>\n",
       "    </tr>\n",
       "  </thead>\n",
       "  <tbody>\n",
       "    <tr>\n",
       "      <th>0</th>\n",
       "      <td>0</td>\n",
       "      <td>1</td>\n",
       "      <td>0</td>\n",
       "      <td>0</td>\n",
       "      <td>6</td>\n",
       "      <td>0</td>\n",
       "      <td>1</td>\n",
       "      <td>0.24</td>\n",
       "      <td>0.81</td>\n",
       "      <td>0.0</td>\n",
       "      <td>16</td>\n",
       "    </tr>\n",
       "    <tr>\n",
       "      <th>1</th>\n",
       "      <td>0</td>\n",
       "      <td>1</td>\n",
       "      <td>1</td>\n",
       "      <td>0</td>\n",
       "      <td>6</td>\n",
       "      <td>0</td>\n",
       "      <td>1</td>\n",
       "      <td>0.22</td>\n",
       "      <td>0.80</td>\n",
       "      <td>0.0</td>\n",
       "      <td>40</td>\n",
       "    </tr>\n",
       "    <tr>\n",
       "      <th>2</th>\n",
       "      <td>0</td>\n",
       "      <td>1</td>\n",
       "      <td>2</td>\n",
       "      <td>0</td>\n",
       "      <td>6</td>\n",
       "      <td>0</td>\n",
       "      <td>1</td>\n",
       "      <td>0.22</td>\n",
       "      <td>0.80</td>\n",
       "      <td>0.0</td>\n",
       "      <td>32</td>\n",
       "    </tr>\n",
       "    <tr>\n",
       "      <th>3</th>\n",
       "      <td>0</td>\n",
       "      <td>1</td>\n",
       "      <td>3</td>\n",
       "      <td>0</td>\n",
       "      <td>6</td>\n",
       "      <td>0</td>\n",
       "      <td>1</td>\n",
       "      <td>0.24</td>\n",
       "      <td>0.75</td>\n",
       "      <td>0.0</td>\n",
       "      <td>13</td>\n",
       "    </tr>\n",
       "    <tr>\n",
       "      <th>4</th>\n",
       "      <td>0</td>\n",
       "      <td>1</td>\n",
       "      <td>4</td>\n",
       "      <td>0</td>\n",
       "      <td>6</td>\n",
       "      <td>0</td>\n",
       "      <td>1</td>\n",
       "      <td>0.24</td>\n",
       "      <td>0.75</td>\n",
       "      <td>0.0</td>\n",
       "      <td>1</td>\n",
       "    </tr>\n",
       "  </tbody>\n",
       "</table>\n",
       "</div>"
      ],
      "text/plain": [
       "   days_since_2011  season  hr  holiday  weekday  workingday  weathersit  \\\n",
       "0                0       1   0        0        6           0           1   \n",
       "1                0       1   1        0        6           0           1   \n",
       "2                0       1   2        0        6           0           1   \n",
       "3                0       1   3        0        6           0           1   \n",
       "4                0       1   4        0        6           0           1   \n",
       "\n",
       "   temp   hum  windspeed  cnt  \n",
       "0  0.24  0.81        0.0   16  \n",
       "1  0.22  0.80        0.0   40  \n",
       "2  0.22  0.80        0.0   32  \n",
       "3  0.24  0.75        0.0   13  \n",
       "4  0.24  0.75        0.0    1  "
      ]
     },
     "execution_count": 5,
     "metadata": {},
     "output_type": "execute_result"
    }
   ],
   "source": [
    "df.head()"
   ]
  },
  {
   "cell_type": "markdown",
   "id": "acc77501",
   "metadata": {},
   "source": [
    "We'll use the data from 2011 for training."
   ]
  },
  {
   "cell_type": "code",
   "execution_count": 6,
   "id": "6a29b599",
   "metadata": {},
   "outputs": [],
   "source": [
    "df_train = df[df['days_since_2011'] < 365].copy()"
   ]
  },
  {
   "cell_type": "code",
   "execution_count": 7,
   "id": "e86c2255",
   "metadata": {},
   "outputs": [],
   "source": [
    "X_train = df_train.drop(columns=['cnt'])\n",
    "y_train = df_train['cnt'].values"
   ]
  },
  {
   "cell_type": "markdown",
   "id": "96804363",
   "metadata": {},
   "source": [
    "Next we'll train a random forest model on this dataset. We'll do a grid search with cross-validation to find reasonable hyperparameters."
   ]
  },
  {
   "cell_type": "code",
   "execution_count": 8,
   "id": "391e3e06",
   "metadata": {},
   "outputs": [
    {
     "data": {
      "text/html": [
       "<style>#sk-container-id-1 {color: black;background-color: white;}#sk-container-id-1 pre{padding: 0;}#sk-container-id-1 div.sk-toggleable {background-color: white;}#sk-container-id-1 label.sk-toggleable__label {cursor: pointer;display: block;width: 100%;margin-bottom: 0;padding: 0.3em;box-sizing: border-box;text-align: center;}#sk-container-id-1 label.sk-toggleable__label-arrow:before {content: \"▸\";float: left;margin-right: 0.25em;color: #696969;}#sk-container-id-1 label.sk-toggleable__label-arrow:hover:before {color: black;}#sk-container-id-1 div.sk-estimator:hover label.sk-toggleable__label-arrow:before {color: black;}#sk-container-id-1 div.sk-toggleable__content {max-height: 0;max-width: 0;overflow: hidden;text-align: left;background-color: #f0f8ff;}#sk-container-id-1 div.sk-toggleable__content pre {margin: 0.2em;color: black;border-radius: 0.25em;background-color: #f0f8ff;}#sk-container-id-1 input.sk-toggleable__control:checked~div.sk-toggleable__content {max-height: 200px;max-width: 100%;overflow: auto;}#sk-container-id-1 input.sk-toggleable__control:checked~label.sk-toggleable__label-arrow:before {content: \"▾\";}#sk-container-id-1 div.sk-estimator input.sk-toggleable__control:checked~label.sk-toggleable__label {background-color: #d4ebff;}#sk-container-id-1 div.sk-label input.sk-toggleable__control:checked~label.sk-toggleable__label {background-color: #d4ebff;}#sk-container-id-1 input.sk-hidden--visually {border: 0;clip: rect(1px 1px 1px 1px);clip: rect(1px, 1px, 1px, 1px);height: 1px;margin: -1px;overflow: hidden;padding: 0;position: absolute;width: 1px;}#sk-container-id-1 div.sk-estimator {font-family: monospace;background-color: #f0f8ff;border: 1px dotted black;border-radius: 0.25em;box-sizing: border-box;margin-bottom: 0.5em;}#sk-container-id-1 div.sk-estimator:hover {background-color: #d4ebff;}#sk-container-id-1 div.sk-parallel-item::after {content: \"\";width: 100%;border-bottom: 1px solid gray;flex-grow: 1;}#sk-container-id-1 div.sk-label:hover label.sk-toggleable__label {background-color: #d4ebff;}#sk-container-id-1 div.sk-serial::before {content: \"\";position: absolute;border-left: 1px solid gray;box-sizing: border-box;top: 0;bottom: 0;left: 50%;z-index: 0;}#sk-container-id-1 div.sk-serial {display: flex;flex-direction: column;align-items: center;background-color: white;padding-right: 0.2em;padding-left: 0.2em;position: relative;}#sk-container-id-1 div.sk-item {position: relative;z-index: 1;}#sk-container-id-1 div.sk-parallel {display: flex;align-items: stretch;justify-content: center;background-color: white;position: relative;}#sk-container-id-1 div.sk-item::before, #sk-container-id-1 div.sk-parallel-item::before {content: \"\";position: absolute;border-left: 1px solid gray;box-sizing: border-box;top: 0;bottom: 0;left: 50%;z-index: -1;}#sk-container-id-1 div.sk-parallel-item {display: flex;flex-direction: column;z-index: 1;position: relative;background-color: white;}#sk-container-id-1 div.sk-parallel-item:first-child::after {align-self: flex-end;width: 50%;}#sk-container-id-1 div.sk-parallel-item:last-child::after {align-self: flex-start;width: 50%;}#sk-container-id-1 div.sk-parallel-item:only-child::after {width: 0;}#sk-container-id-1 div.sk-dashed-wrapped {border: 1px dashed gray;margin: 0 0.4em 0.5em 0.4em;box-sizing: border-box;padding-bottom: 0.4em;background-color: white;}#sk-container-id-1 div.sk-label label {font-family: monospace;font-weight: bold;display: inline-block;line-height: 1.2em;}#sk-container-id-1 div.sk-label-container {text-align: center;}#sk-container-id-1 div.sk-container {/* jupyter's `normalize.less` sets `[hidden] { display: none; }` but bootstrap.min.css set `[hidden] { display: none !important; }` so we also need the `!important` here to be able to override the default hidden behavior on the sphinx rendered scikit-learn.org. See: https://github.com/scikit-learn/scikit-learn/issues/21755 */display: inline-block !important;position: relative;}#sk-container-id-1 div.sk-text-repr-fallback {display: none;}</style><div id=\"sk-container-id-1\" class=\"sk-top-container\"><div class=\"sk-text-repr-fallback\"><pre>GridSearchCV(estimator=RandomForestRegressor(), n_jobs=-1,\n",
       "             param_grid={&#x27;bootstrap&#x27;: [True], &#x27;max_depth&#x27;: [6, 12],\n",
       "                         &#x27;max_features&#x27;: [&#x27;sqrt&#x27;, 1.0],\n",
       "                         &#x27;min_samples_split&#x27;: [2, 8], &#x27;n_estimators&#x27;: [10]},\n",
       "             scoring=&#x27;neg_mean_squared_error&#x27;)</pre><b>In a Jupyter environment, please rerun this cell to show the HTML representation or trust the notebook. <br />On GitHub, the HTML representation is unable to render, please try loading this page with nbviewer.org.</b></div><div class=\"sk-container\" hidden><div class=\"sk-item sk-dashed-wrapped\"><div class=\"sk-label-container\"><div class=\"sk-label sk-toggleable\"><input class=\"sk-toggleable__control sk-hidden--visually\" id=\"sk-estimator-id-1\" type=\"checkbox\" ><label for=\"sk-estimator-id-1\" class=\"sk-toggleable__label sk-toggleable__label-arrow\">GridSearchCV</label><div class=\"sk-toggleable__content\"><pre>GridSearchCV(estimator=RandomForestRegressor(), n_jobs=-1,\n",
       "             param_grid={&#x27;bootstrap&#x27;: [True], &#x27;max_depth&#x27;: [6, 12],\n",
       "                         &#x27;max_features&#x27;: [&#x27;sqrt&#x27;, 1.0],\n",
       "                         &#x27;min_samples_split&#x27;: [2, 8], &#x27;n_estimators&#x27;: [10]},\n",
       "             scoring=&#x27;neg_mean_squared_error&#x27;)</pre></div></div></div><div class=\"sk-parallel\"><div class=\"sk-parallel-item\"><div class=\"sk-item\"><div class=\"sk-label-container\"><div class=\"sk-label sk-toggleable\"><input class=\"sk-toggleable__control sk-hidden--visually\" id=\"sk-estimator-id-2\" type=\"checkbox\" ><label for=\"sk-estimator-id-2\" class=\"sk-toggleable__label sk-toggleable__label-arrow\">estimator: RandomForestRegressor</label><div class=\"sk-toggleable__content\"><pre>RandomForestRegressor()</pre></div></div></div><div class=\"sk-serial\"><div class=\"sk-item\"><div class=\"sk-estimator sk-toggleable\"><input class=\"sk-toggleable__control sk-hidden--visually\" id=\"sk-estimator-id-3\" type=\"checkbox\" ><label for=\"sk-estimator-id-3\" class=\"sk-toggleable__label sk-toggleable__label-arrow\">RandomForestRegressor</label><div class=\"sk-toggleable__content\"><pre>RandomForestRegressor()</pre></div></div></div></div></div></div></div></div></div></div>"
      ],
      "text/plain": [
       "GridSearchCV(estimator=RandomForestRegressor(), n_jobs=-1,\n",
       "             param_grid={'bootstrap': [True], 'max_depth': [6, 12],\n",
       "                         'max_features': ['sqrt', 1.0],\n",
       "                         'min_samples_split': [2, 8], 'n_estimators': [10]},\n",
       "             scoring='neg_mean_squared_error')"
      ]
     },
     "execution_count": 8,
     "metadata": {},
     "output_type": "execute_result"
    }
   ],
   "source": [
    "param_grid = {\n",
    "    'n_estimators': [10],\n",
    "    'bootstrap': [True],\n",
    "    'max_features': ['sqrt', 1.0],\n",
    "    'max_depth': [6, 12],\n",
    "    'min_samples_split': [2, 8],\n",
    "}\n",
    "\n",
    "cv = GridSearchCV(estimator=RandomForestRegressor(), param_grid=param_grid, scoring='neg_mean_squared_error', n_jobs=-1)\n",
    "\n",
    "cv.fit(X_train, y_train)"
   ]
  },
  {
   "cell_type": "code",
   "execution_count": 9,
   "id": "9a6f75a7",
   "metadata": {},
   "outputs": [
    {
     "data": {
      "text/plain": [
       "{'bootstrap': True,\n",
       " 'max_depth': 12,\n",
       " 'max_features': 1.0,\n",
       " 'min_samples_split': 2,\n",
       " 'n_estimators': 10}"
      ]
     },
     "execution_count": 9,
     "metadata": {},
     "output_type": "execute_result"
    }
   ],
   "source": [
    "cv.best_params_"
   ]
  },
  {
   "cell_type": "code",
   "execution_count": 10,
   "id": "c2cb6a6a",
   "metadata": {},
   "outputs": [
    {
     "data": {
      "text/plain": [
       "-3143.4512307274085"
      ]
     },
     "execution_count": 10,
     "metadata": {},
     "output_type": "execute_result"
    }
   ],
   "source": [
    "cv.best_score_"
   ]
  },
  {
   "cell_type": "code",
   "execution_count": 11,
   "id": "ad1bdc2a",
   "metadata": {},
   "outputs": [],
   "source": [
    "model = cv.best_estimator_"
   ]
  },
  {
   "cell_type": "markdown",
   "id": "df4ab01b",
   "metadata": {},
   "source": [
    "## Shapley Implementation\n",
    "\n",
    "**Exercise 1:**\n",
    "\n",
    "First, we will write a function to approximately calculate a feature's Shapley value for a given instance. Our algorithm will be similar to the one that Molnar details in [Section 9.5.3.3](https://christophm.github.io/interpretable-ml-book/shapley.html#estimating-the-shapley-value).\n",
    "\n",
    "*1a)* Select a random instance from the dataframe `df`. [df.sample()](https://pandas.pydata.org/docs/reference/api/pandas.DataFrame.sample.html#pandas-dataframe-sample) is useful for this.\n",
    "\n",
    "*1b)* Select a random set of features, not including the feature that we are calculating the shapley value for (`feature`). [random.randrange()](https://docs.python.org/3/library/random.html#random.randrange) and [random.sample()](https://docs.python.org/3/library/random.html#random.sample) are useful for this.\n",
    "\n",
    "*1c)* Make a copy of the instance `x`. For the features randomly selected in 1b, replace the value in `x` with the value in the random instance from 1a.\n",
    "\n",
    "*1d)* Make a copy of the instance from 1c. Replace the value of `feature` with the value from the random instance from 1a.\n",
    "\n",
    "*1e)* Get the predicted values of the instances from 1c and 1d. Calculate the difference between the predictions."
   ]
  },
  {
   "cell_type": "code",
   "execution_count": 12,
   "id": "c7bd0c2a",
   "metadata": {},
   "outputs": [],
   "source": [
    "'''\n",
    "df - dataframe containing the entire dataset\n",
    "x - dataframe containing a single instance\n",
    "model - trained sklearn model\n",
    "feature - the name of the feature that we are computing the Shapley value for\n",
    "iterations - number of iterations to run for\n",
    "'''\n",
    "def calculate_shapley_value(df, x, model, feature, iterations):\n",
    "    # keep track of the total from the summation\n",
    "    value = 0\n",
    "    \n",
    "    # list of features besides the one we are computing the shapley value for\n",
    "    other_features = [f for f in df.columns if f != feature]\n",
    "\n",
    "    for _ in range(iterations):\n",
    "        # 1a: get a random instance from the df\n",
    "        random_instance = df.sample()\n",
    "        \n",
    "        # 1b: select a random set of features\n",
    "        num_features_to_change = random.randrange(len(other_features))\n",
    "        features_to_change = random.sample(other_features, num_features_to_change)\n",
    "        \n",
    "        # 1c: make a copy of the instance x for the randomly selected features,\n",
    "        # replace the value of that feature in x with the value in random_instance\n",
    "        z_original = x.copy()\n",
    "        \n",
    "        for f in features_to_change:\n",
    "            z_original[f] = random_instance[f].values\n",
    "            \n",
    "        # 1d: make a copy of z_original. replace the value\n",
    "        # of feature with the value in random_instance\n",
    "        z_different = z_original.copy()\n",
    "        z_different[feature] = random_instance[feature].values\n",
    "        \n",
    "        \n",
    "        # 1e: get the predicted values for z_original and z_different.\n",
    "        # calculate the difference between them\n",
    "        pred_original = model.predict(z_original)[0]\n",
    "        pred_different = model.predict(z_different)[0]\n",
    "        difference = pred_original - pred_different\n",
    "        \n",
    "        value += difference\n",
    "        \n",
    "    # take the mean\n",
    "    return value / iterations"
   ]
  },
  {
   "cell_type": "code",
   "execution_count": 13,
   "id": "5955b06d",
   "metadata": {},
   "outputs": [
    {
     "data": {
      "text/plain": [
       "-50.68144163285584"
      ]
     },
     "execution_count": 13,
     "metadata": {},
     "output_type": "execute_result"
    }
   ],
   "source": [
    "calculate_shapley_value(X_train, X_train.iloc[[0]], model, 'hr', 50)"
   ]
  },
  {
   "cell_type": "markdown",
   "id": "50683175",
   "metadata": {},
   "source": [
    "The below `shapley_values` function calculates the shapley value of every feature for every instance in `df`. It returns a dataframe containing the shapley values."
   ]
  },
  {
   "cell_type": "code",
   "execution_count": 14,
   "id": "d56a0d86",
   "metadata": {},
   "outputs": [],
   "source": [
    "def shapley_values(df, model, iterations):\n",
    "    rows = []\n",
    "    \n",
    "    for i in range(df.shape[0]):\n",
    "        x = df.iloc[[i]]\n",
    "        \n",
    "        row = {}\n",
    "        \n",
    "        for feature in df.columns:\n",
    "            row[feature] = calculate_shapley_value(df, x, model, feature, iterations)\n",
    "            \n",
    "        rows.append(row)\n",
    "        \n",
    "    return pd.DataFrame(rows)"
   ]
  },
  {
   "cell_type": "code",
   "execution_count": 15,
   "id": "056a4854",
   "metadata": {},
   "outputs": [],
   "source": [
    "subset = X_train.sample(100).reset_index(drop=True)"
   ]
  },
  {
   "cell_type": "code",
   "execution_count": 16,
   "id": "ed8e905e",
   "metadata": {},
   "outputs": [],
   "source": [
    "shapley = shapley_values(subset, model, 50)"
   ]
  },
  {
   "cell_type": "code",
   "execution_count": 17,
   "id": "bdbadca9",
   "metadata": {},
   "outputs": [
    {
     "data": {
      "text/html": [
       "<div>\n",
       "<style scoped>\n",
       "    .dataframe tbody tr th:only-of-type {\n",
       "        vertical-align: middle;\n",
       "    }\n",
       "\n",
       "    .dataframe tbody tr th {\n",
       "        vertical-align: top;\n",
       "    }\n",
       "\n",
       "    .dataframe thead th {\n",
       "        text-align: right;\n",
       "    }\n",
       "</style>\n",
       "<table border=\"1\" class=\"dataframe\">\n",
       "  <thead>\n",
       "    <tr style=\"text-align: right;\">\n",
       "      <th></th>\n",
       "      <th>days_since_2011</th>\n",
       "      <th>season</th>\n",
       "      <th>hr</th>\n",
       "      <th>holiday</th>\n",
       "      <th>weekday</th>\n",
       "      <th>workingday</th>\n",
       "      <th>weathersit</th>\n",
       "      <th>temp</th>\n",
       "      <th>hum</th>\n",
       "      <th>windspeed</th>\n",
       "    </tr>\n",
       "  </thead>\n",
       "  <tbody>\n",
       "    <tr>\n",
       "      <th>0</th>\n",
       "      <td>-2.815161</td>\n",
       "      <td>4.560136</td>\n",
       "      <td>-26.083873</td>\n",
       "      <td>-0.014000</td>\n",
       "      <td>1.951663</td>\n",
       "      <td>-10.283737</td>\n",
       "      <td>-0.223514</td>\n",
       "      <td>-13.120838</td>\n",
       "      <td>-56.602621</td>\n",
       "      <td>-7.636265</td>\n",
       "    </tr>\n",
       "    <tr>\n",
       "      <th>1</th>\n",
       "      <td>-1.688119</td>\n",
       "      <td>-3.013772</td>\n",
       "      <td>-90.001023</td>\n",
       "      <td>0.000000</td>\n",
       "      <td>2.594263</td>\n",
       "      <td>-3.996067</td>\n",
       "      <td>-8.109947</td>\n",
       "      <td>-21.813887</td>\n",
       "      <td>-3.176943</td>\n",
       "      <td>1.391765</td>\n",
       "    </tr>\n",
       "    <tr>\n",
       "      <th>2</th>\n",
       "      <td>-9.996812</td>\n",
       "      <td>-5.480538</td>\n",
       "      <td>-112.950096</td>\n",
       "      <td>0.200667</td>\n",
       "      <td>-1.049944</td>\n",
       "      <td>-7.387078</td>\n",
       "      <td>4.890793</td>\n",
       "      <td>-5.842176</td>\n",
       "      <td>3.385598</td>\n",
       "      <td>1.322995</td>\n",
       "    </tr>\n",
       "    <tr>\n",
       "      <th>3</th>\n",
       "      <td>-10.889281</td>\n",
       "      <td>-5.738438</td>\n",
       "      <td>-72.152826</td>\n",
       "      <td>0.022667</td>\n",
       "      <td>4.253667</td>\n",
       "      <td>-2.826117</td>\n",
       "      <td>7.235033</td>\n",
       "      <td>-6.833868</td>\n",
       "      <td>0.279517</td>\n",
       "      <td>-1.518159</td>\n",
       "    </tr>\n",
       "    <tr>\n",
       "      <th>4</th>\n",
       "      <td>11.028830</td>\n",
       "      <td>9.194761</td>\n",
       "      <td>-11.366552</td>\n",
       "      <td>-1.750558</td>\n",
       "      <td>-8.041960</td>\n",
       "      <td>7.815798</td>\n",
       "      <td>8.693378</td>\n",
       "      <td>46.460001</td>\n",
       "      <td>5.711070</td>\n",
       "      <td>-1.176574</td>\n",
       "    </tr>\n",
       "    <tr>\n",
       "      <th>...</th>\n",
       "      <td>...</td>\n",
       "      <td>...</td>\n",
       "      <td>...</td>\n",
       "      <td>...</td>\n",
       "      <td>...</td>\n",
       "      <td>...</td>\n",
       "      <td>...</td>\n",
       "      <td>...</td>\n",
       "      <td>...</td>\n",
       "      <td>...</td>\n",
       "    </tr>\n",
       "    <tr>\n",
       "      <th>95</th>\n",
       "      <td>3.578285</td>\n",
       "      <td>3.943863</td>\n",
       "      <td>-25.104553</td>\n",
       "      <td>0.000000</td>\n",
       "      <td>2.531870</td>\n",
       "      <td>-4.565778</td>\n",
       "      <td>1.186392</td>\n",
       "      <td>28.098604</td>\n",
       "      <td>-4.642077</td>\n",
       "      <td>-2.322825</td>\n",
       "    </tr>\n",
       "    <tr>\n",
       "      <th>96</th>\n",
       "      <td>0.799643</td>\n",
       "      <td>5.934853</td>\n",
       "      <td>-155.542659</td>\n",
       "      <td>0.000000</td>\n",
       "      <td>-0.147764</td>\n",
       "      <td>-0.151071</td>\n",
       "      <td>1.477086</td>\n",
       "      <td>6.559958</td>\n",
       "      <td>-5.303210</td>\n",
       "      <td>0.197507</td>\n",
       "    </tr>\n",
       "    <tr>\n",
       "      <th>97</th>\n",
       "      <td>-16.872682</td>\n",
       "      <td>-5.892395</td>\n",
       "      <td>-92.019163</td>\n",
       "      <td>0.000000</td>\n",
       "      <td>-1.718797</td>\n",
       "      <td>-1.322607</td>\n",
       "      <td>4.056109</td>\n",
       "      <td>-24.621600</td>\n",
       "      <td>0.226264</td>\n",
       "      <td>-0.431661</td>\n",
       "    </tr>\n",
       "    <tr>\n",
       "      <th>98</th>\n",
       "      <td>7.126300</td>\n",
       "      <td>-8.595986</td>\n",
       "      <td>61.774908</td>\n",
       "      <td>0.148000</td>\n",
       "      <td>1.255995</td>\n",
       "      <td>1.413424</td>\n",
       "      <td>2.810180</td>\n",
       "      <td>-23.307894</td>\n",
       "      <td>5.295075</td>\n",
       "      <td>0.276501</td>\n",
       "    </tr>\n",
       "    <tr>\n",
       "      <th>99</th>\n",
       "      <td>8.814631</td>\n",
       "      <td>-4.594214</td>\n",
       "      <td>99.476964</td>\n",
       "      <td>0.000000</td>\n",
       "      <td>-6.196871</td>\n",
       "      <td>23.433243</td>\n",
       "      <td>-26.270132</td>\n",
       "      <td>76.662519</td>\n",
       "      <td>-26.058507</td>\n",
       "      <td>0.228546</td>\n",
       "    </tr>\n",
       "  </tbody>\n",
       "</table>\n",
       "<p>100 rows × 10 columns</p>\n",
       "</div>"
      ],
      "text/plain": [
       "    days_since_2011    season          hr   holiday   weekday  workingday  \\\n",
       "0         -2.815161  4.560136  -26.083873 -0.014000  1.951663  -10.283737   \n",
       "1         -1.688119 -3.013772  -90.001023  0.000000  2.594263   -3.996067   \n",
       "2         -9.996812 -5.480538 -112.950096  0.200667 -1.049944   -7.387078   \n",
       "3        -10.889281 -5.738438  -72.152826  0.022667  4.253667   -2.826117   \n",
       "4         11.028830  9.194761  -11.366552 -1.750558 -8.041960    7.815798   \n",
       "..              ...       ...         ...       ...       ...         ...   \n",
       "95         3.578285  3.943863  -25.104553  0.000000  2.531870   -4.565778   \n",
       "96         0.799643  5.934853 -155.542659  0.000000 -0.147764   -0.151071   \n",
       "97       -16.872682 -5.892395  -92.019163  0.000000 -1.718797   -1.322607   \n",
       "98         7.126300 -8.595986   61.774908  0.148000  1.255995    1.413424   \n",
       "99         8.814631 -4.594214   99.476964  0.000000 -6.196871   23.433243   \n",
       "\n",
       "    weathersit       temp        hum  windspeed  \n",
       "0    -0.223514 -13.120838 -56.602621  -7.636265  \n",
       "1    -8.109947 -21.813887  -3.176943   1.391765  \n",
       "2     4.890793  -5.842176   3.385598   1.322995  \n",
       "3     7.235033  -6.833868   0.279517  -1.518159  \n",
       "4     8.693378  46.460001   5.711070  -1.176574  \n",
       "..         ...        ...        ...        ...  \n",
       "95    1.186392  28.098604  -4.642077  -2.322825  \n",
       "96    1.477086   6.559958  -5.303210   0.197507  \n",
       "97    4.056109 -24.621600   0.226264  -0.431661  \n",
       "98    2.810180 -23.307894   5.295075   0.276501  \n",
       "99  -26.270132  76.662519 -26.058507   0.228546  \n",
       "\n",
       "[100 rows x 10 columns]"
      ]
     },
     "execution_count": 17,
     "metadata": {},
     "output_type": "execute_result"
    }
   ],
   "source": [
    "shapley"
   ]
  },
  {
   "cell_type": "markdown",
   "id": "c663eeef",
   "metadata": {},
   "source": [
    "## Visualizations"
   ]
  },
  {
   "cell_type": "markdown",
   "id": "31b42307",
   "metadata": {},
   "source": [
    "### Feature Importance Bar Chart\n",
    "\n",
    "**Exercise 2:** Create a bar chart that shows the feature importance of each feature based on the shapley values.\n",
    "\n",
    "*2a)* Calculate the mean absolute values for each feature in `shapley`. The [mean](https://pandas.pydata.org/pandas-docs/stable/reference/api/pandas.DataFrame.mean.html) and [abs](https://pandas.pydata.org/pandas-docs/stable/reference/api/pandas.DataFrame.abs.html) functions will be useful. We will want a dataframe that has two columns: one for the feature and one for the value."
   ]
  },
  {
   "cell_type": "code",
   "execution_count": 18,
   "id": "8a19c67a",
   "metadata": {
    "scrolled": true
   },
   "outputs": [
    {
     "data": {
      "text/html": [
       "<div>\n",
       "<style scoped>\n",
       "    .dataframe tbody tr th:only-of-type {\n",
       "        vertical-align: middle;\n",
       "    }\n",
       "\n",
       "    .dataframe tbody tr th {\n",
       "        vertical-align: top;\n",
       "    }\n",
       "\n",
       "    .dataframe thead th {\n",
       "        text-align: right;\n",
       "    }\n",
       "</style>\n",
       "<table border=\"1\" class=\"dataframe\">\n",
       "  <thead>\n",
       "    <tr style=\"text-align: right;\">\n",
       "      <th></th>\n",
       "      <th>feature</th>\n",
       "      <th>value</th>\n",
       "    </tr>\n",
       "  </thead>\n",
       "  <tbody>\n",
       "    <tr>\n",
       "      <th>0</th>\n",
       "      <td>days_since_2011</td>\n",
       "      <td>55.663289</td>\n",
       "    </tr>\n",
       "    <tr>\n",
       "      <th>1</th>\n",
       "      <td>season</td>\n",
       "      <td>44.969222</td>\n",
       "    </tr>\n",
       "    <tr>\n",
       "      <th>2</th>\n",
       "      <td>hr</td>\n",
       "      <td>277.460272</td>\n",
       "    </tr>\n",
       "    <tr>\n",
       "      <th>3</th>\n",
       "      <td>holiday</td>\n",
       "      <td>4.808652</td>\n",
       "    </tr>\n",
       "    <tr>\n",
       "      <th>4</th>\n",
       "      <td>weekday</td>\n",
       "      <td>26.244380</td>\n",
       "    </tr>\n",
       "    <tr>\n",
       "      <th>5</th>\n",
       "      <td>workingday</td>\n",
       "      <td>88.818758</td>\n",
       "    </tr>\n",
       "    <tr>\n",
       "      <th>6</th>\n",
       "      <td>weathersit</td>\n",
       "      <td>87.774509</td>\n",
       "    </tr>\n",
       "    <tr>\n",
       "      <th>7</th>\n",
       "      <td>temp</td>\n",
       "      <td>101.677170</td>\n",
       "    </tr>\n",
       "    <tr>\n",
       "      <th>8</th>\n",
       "      <td>hum</td>\n",
       "      <td>56.602621</td>\n",
       "    </tr>\n",
       "    <tr>\n",
       "      <th>9</th>\n",
       "      <td>windspeed</td>\n",
       "      <td>12.778257</td>\n",
       "    </tr>\n",
       "  </tbody>\n",
       "</table>\n",
       "</div>"
      ],
      "text/plain": [
       "           feature       value\n",
       "0  days_since_2011   55.663289\n",
       "1           season   44.969222\n",
       "2               hr  277.460272\n",
       "3          holiday    4.808652\n",
       "4          weekday   26.244380\n",
       "5       workingday   88.818758\n",
       "6       weathersit   87.774509\n",
       "7             temp  101.677170\n",
       "8              hum   56.602621\n",
       "9        windspeed   12.778257"
      ]
     },
     "execution_count": 18,
     "metadata": {},
     "output_type": "execute_result"
    }
   ],
   "source": [
    "feature_importance = pd.DataFrame(shapley.abs().max()).reset_index()\n",
    "feature_importance.columns = ['feature', 'value']\n",
    "\n",
    "feature_importance"
   ]
  },
  {
   "cell_type": "markdown",
   "id": "5d281958",
   "metadata": {},
   "source": [
    "*2b)* Plot the feature importances in a bar chart."
   ]
  },
  {
   "cell_type": "code",
   "execution_count": 19,
   "id": "9658ca63",
   "metadata": {},
   "outputs": [
    {
     "name": "stderr",
     "output_type": "stream",
     "text": [
      "/Users/danielkerrigan/opt/miniconda3/envs/vis4ml/lib/python3.10/site-packages/altair/utils/core.py:317: FutureWarning: iteritems is deprecated and will be removed in a future version. Use .items instead.\n",
      "  for col_name, dtype in df.dtypes.iteritems():\n"
     ]
    },
    {
     "data": {
      "text/html": [
       "\n",
       "<div id=\"altair-viz-1bbc009321a94522a011e10f5c5286b7\"></div>\n",
       "<script type=\"text/javascript\">\n",
       "  var VEGA_DEBUG = (typeof VEGA_DEBUG == \"undefined\") ? {} : VEGA_DEBUG;\n",
       "  (function(spec, embedOpt){\n",
       "    let outputDiv = document.currentScript.previousElementSibling;\n",
       "    if (outputDiv.id !== \"altair-viz-1bbc009321a94522a011e10f5c5286b7\") {\n",
       "      outputDiv = document.getElementById(\"altair-viz-1bbc009321a94522a011e10f5c5286b7\");\n",
       "    }\n",
       "    const paths = {\n",
       "      \"vega\": \"https://cdn.jsdelivr.net/npm//vega@5?noext\",\n",
       "      \"vega-lib\": \"https://cdn.jsdelivr.net/npm//vega-lib?noext\",\n",
       "      \"vega-lite\": \"https://cdn.jsdelivr.net/npm//vega-lite@4.17.0?noext\",\n",
       "      \"vega-embed\": \"https://cdn.jsdelivr.net/npm//vega-embed@6?noext\",\n",
       "    };\n",
       "\n",
       "    function maybeLoadScript(lib, version) {\n",
       "      var key = `${lib.replace(\"-\", \"\")}_version`;\n",
       "      return (VEGA_DEBUG[key] == version) ?\n",
       "        Promise.resolve(paths[lib]) :\n",
       "        new Promise(function(resolve, reject) {\n",
       "          var s = document.createElement('script');\n",
       "          document.getElementsByTagName(\"head\")[0].appendChild(s);\n",
       "          s.async = true;\n",
       "          s.onload = () => {\n",
       "            VEGA_DEBUG[key] = version;\n",
       "            return resolve(paths[lib]);\n",
       "          };\n",
       "          s.onerror = () => reject(`Error loading script: ${paths[lib]}`);\n",
       "          s.src = paths[lib];\n",
       "        });\n",
       "    }\n",
       "\n",
       "    function showError(err) {\n",
       "      outputDiv.innerHTML = `<div class=\"error\" style=\"color:red;\">${err}</div>`;\n",
       "      throw err;\n",
       "    }\n",
       "\n",
       "    function displayChart(vegaEmbed) {\n",
       "      vegaEmbed(outputDiv, spec, embedOpt)\n",
       "        .catch(err => showError(`Javascript Error: ${err.message}<br>This usually means there's a typo in your chart specification. See the javascript console for the full traceback.`));\n",
       "    }\n",
       "\n",
       "    if(typeof define === \"function\" && define.amd) {\n",
       "      requirejs.config({paths});\n",
       "      require([\"vega-embed\"], displayChart, err => showError(`Error loading script: ${err.message}`));\n",
       "    } else {\n",
       "      maybeLoadScript(\"vega\", \"5\")\n",
       "        .then(() => maybeLoadScript(\"vega-lite\", \"4.17.0\"))\n",
       "        .then(() => maybeLoadScript(\"vega-embed\", \"6\"))\n",
       "        .catch(showError)\n",
       "        .then(() => displayChart(vegaEmbed));\n",
       "    }\n",
       "  })({\"config\": {\"view\": {\"continuousWidth\": 400, \"continuousHeight\": 300}}, \"data\": {\"url\": \"data/altair-data-20c3eab00e6ed399104110895bf905fa.json\", \"format\": {\"type\": \"json\"}}, \"mark\": \"bar\", \"encoding\": {\"x\": {\"field\": \"value\", \"title\": \"mean absolute shapley value\", \"type\": \"quantitative\"}, \"y\": {\"field\": \"feature\", \"sort\": \"-x\", \"type\": \"nominal\"}}, \"$schema\": \"https://vega.github.io/schema/vega-lite/v4.17.0.json\"}, {\"mode\": \"vega-lite\"});\n",
       "</script>"
      ],
      "text/plain": [
       "alt.Chart(...)"
      ]
     },
     "execution_count": 19,
     "metadata": {},
     "output_type": "execute_result"
    }
   ],
   "source": [
    "alt.Chart(feature_importance).mark_bar().encode(\n",
    "    y=alt.Y('feature', sort='-x'),\n",
    "    x=alt.X('value', title='mean absolute shapley value')\n",
    ")"
   ]
  },
  {
   "cell_type": "markdown",
   "id": "9a21b69d",
   "metadata": {},
   "source": [
    "### Dependence Scatter Plot\n",
    "\n",
    "**Exercise 3:** For a given feature, we can create a scatterplot that shows the relationship between an instance's value for that feature (x-axis) and its shapley value for that feature (y-axis). This works as an alternative to PDPs. Complete the function below to create a dependence plot for the given feature.\n",
    "\n",
    "*3a)* Create a dataframe containing the feature values and shapley values for the given `feature`. This dataframe should have two columns: feature_value and shapley_value. Each row represents an instance.\n",
    "\n",
    "*3b)* Return a scatterplot of the dataframe."
   ]
  },
  {
   "cell_type": "code",
   "execution_count": 20,
   "id": "b43fcbb6",
   "metadata": {},
   "outputs": [],
   "source": [
    "def plot_dependence(instances, shapley, feature):\n",
    "    # 3a: create a dataframe containing the feature values and shapley values \n",
    "    dependence = pd.DataFrame({\n",
    "        'feature_value': instances[feature],\n",
    "        'shapley_value': shapley[feature]\n",
    "    })\n",
    "    \n",
    "    # 3b: plot the values in a scatterplot\n",
    "    return alt.Chart(dependence).mark_point().encode(\n",
    "        x=alt.X('feature_value', title=feature),\n",
    "        y='shapley_value'\n",
    "    )"
   ]
  },
  {
   "cell_type": "code",
   "execution_count": 21,
   "id": "e603943b",
   "metadata": {},
   "outputs": [
    {
     "data": {
      "text/html": [
       "\n",
       "<div id=\"altair-viz-cb8ac7a216924b8497a48a8443ed3625\"></div>\n",
       "<script type=\"text/javascript\">\n",
       "  var VEGA_DEBUG = (typeof VEGA_DEBUG == \"undefined\") ? {} : VEGA_DEBUG;\n",
       "  (function(spec, embedOpt){\n",
       "    let outputDiv = document.currentScript.previousElementSibling;\n",
       "    if (outputDiv.id !== \"altair-viz-cb8ac7a216924b8497a48a8443ed3625\") {\n",
       "      outputDiv = document.getElementById(\"altair-viz-cb8ac7a216924b8497a48a8443ed3625\");\n",
       "    }\n",
       "    const paths = {\n",
       "      \"vega\": \"https://cdn.jsdelivr.net/npm//vega@5?noext\",\n",
       "      \"vega-lib\": \"https://cdn.jsdelivr.net/npm//vega-lib?noext\",\n",
       "      \"vega-lite\": \"https://cdn.jsdelivr.net/npm//vega-lite@4.17.0?noext\",\n",
       "      \"vega-embed\": \"https://cdn.jsdelivr.net/npm//vega-embed@6?noext\",\n",
       "    };\n",
       "\n",
       "    function maybeLoadScript(lib, version) {\n",
       "      var key = `${lib.replace(\"-\", \"\")}_version`;\n",
       "      return (VEGA_DEBUG[key] == version) ?\n",
       "        Promise.resolve(paths[lib]) :\n",
       "        new Promise(function(resolve, reject) {\n",
       "          var s = document.createElement('script');\n",
       "          document.getElementsByTagName(\"head\")[0].appendChild(s);\n",
       "          s.async = true;\n",
       "          s.onload = () => {\n",
       "            VEGA_DEBUG[key] = version;\n",
       "            return resolve(paths[lib]);\n",
       "          };\n",
       "          s.onerror = () => reject(`Error loading script: ${paths[lib]}`);\n",
       "          s.src = paths[lib];\n",
       "        });\n",
       "    }\n",
       "\n",
       "    function showError(err) {\n",
       "      outputDiv.innerHTML = `<div class=\"error\" style=\"color:red;\">${err}</div>`;\n",
       "      throw err;\n",
       "    }\n",
       "\n",
       "    function displayChart(vegaEmbed) {\n",
       "      vegaEmbed(outputDiv, spec, embedOpt)\n",
       "        .catch(err => showError(`Javascript Error: ${err.message}<br>This usually means there's a typo in your chart specification. See the javascript console for the full traceback.`));\n",
       "    }\n",
       "\n",
       "    if(typeof define === \"function\" && define.amd) {\n",
       "      requirejs.config({paths});\n",
       "      require([\"vega-embed\"], displayChart, err => showError(`Error loading script: ${err.message}`));\n",
       "    } else {\n",
       "      maybeLoadScript(\"vega\", \"5\")\n",
       "        .then(() => maybeLoadScript(\"vega-lite\", \"4.17.0\"))\n",
       "        .then(() => maybeLoadScript(\"vega-embed\", \"6\"))\n",
       "        .catch(showError)\n",
       "        .then(() => displayChart(vegaEmbed));\n",
       "    }\n",
       "  })({\"config\": {\"view\": {\"continuousWidth\": 400, \"continuousHeight\": 300}}, \"data\": {\"url\": \"data/altair-data-4d02241bbe8ac99a527c102b44d96c08.json\", \"format\": {\"type\": \"json\"}}, \"mark\": \"point\", \"encoding\": {\"x\": {\"field\": \"feature_value\", \"title\": \"hr\", \"type\": \"quantitative\"}, \"y\": {\"field\": \"shapley_value\", \"type\": \"quantitative\"}}, \"$schema\": \"https://vega.github.io/schema/vega-lite/v4.17.0.json\"}, {\"mode\": \"vega-lite\"});\n",
       "</script>"
      ],
      "text/plain": [
       "alt.Chart(...)"
      ]
     },
     "execution_count": 21,
     "metadata": {},
     "output_type": "execute_result"
    }
   ],
   "source": [
    "plot_dependence(subset, shapley, 'hr')"
   ]
  },
  {
   "cell_type": "code",
   "execution_count": 22,
   "id": "82c76bb2",
   "metadata": {},
   "outputs": [
    {
     "data": {
      "text/html": [
       "\n",
       "<div id=\"altair-viz-d2f68bb7644143a0ad11e499cd3f039b\"></div>\n",
       "<script type=\"text/javascript\">\n",
       "  var VEGA_DEBUG = (typeof VEGA_DEBUG == \"undefined\") ? {} : VEGA_DEBUG;\n",
       "  (function(spec, embedOpt){\n",
       "    let outputDiv = document.currentScript.previousElementSibling;\n",
       "    if (outputDiv.id !== \"altair-viz-d2f68bb7644143a0ad11e499cd3f039b\") {\n",
       "      outputDiv = document.getElementById(\"altair-viz-d2f68bb7644143a0ad11e499cd3f039b\");\n",
       "    }\n",
       "    const paths = {\n",
       "      \"vega\": \"https://cdn.jsdelivr.net/npm//vega@5?noext\",\n",
       "      \"vega-lib\": \"https://cdn.jsdelivr.net/npm//vega-lib?noext\",\n",
       "      \"vega-lite\": \"https://cdn.jsdelivr.net/npm//vega-lite@4.17.0?noext\",\n",
       "      \"vega-embed\": \"https://cdn.jsdelivr.net/npm//vega-embed@6?noext\",\n",
       "    };\n",
       "\n",
       "    function maybeLoadScript(lib, version) {\n",
       "      var key = `${lib.replace(\"-\", \"\")}_version`;\n",
       "      return (VEGA_DEBUG[key] == version) ?\n",
       "        Promise.resolve(paths[lib]) :\n",
       "        new Promise(function(resolve, reject) {\n",
       "          var s = document.createElement('script');\n",
       "          document.getElementsByTagName(\"head\")[0].appendChild(s);\n",
       "          s.async = true;\n",
       "          s.onload = () => {\n",
       "            VEGA_DEBUG[key] = version;\n",
       "            return resolve(paths[lib]);\n",
       "          };\n",
       "          s.onerror = () => reject(`Error loading script: ${paths[lib]}`);\n",
       "          s.src = paths[lib];\n",
       "        });\n",
       "    }\n",
       "\n",
       "    function showError(err) {\n",
       "      outputDiv.innerHTML = `<div class=\"error\" style=\"color:red;\">${err}</div>`;\n",
       "      throw err;\n",
       "    }\n",
       "\n",
       "    function displayChart(vegaEmbed) {\n",
       "      vegaEmbed(outputDiv, spec, embedOpt)\n",
       "        .catch(err => showError(`Javascript Error: ${err.message}<br>This usually means there's a typo in your chart specification. See the javascript console for the full traceback.`));\n",
       "    }\n",
       "\n",
       "    if(typeof define === \"function\" && define.amd) {\n",
       "      requirejs.config({paths});\n",
       "      require([\"vega-embed\"], displayChart, err => showError(`Error loading script: ${err.message}`));\n",
       "    } else {\n",
       "      maybeLoadScript(\"vega\", \"5\")\n",
       "        .then(() => maybeLoadScript(\"vega-lite\", \"4.17.0\"))\n",
       "        .then(() => maybeLoadScript(\"vega-embed\", \"6\"))\n",
       "        .catch(showError)\n",
       "        .then(() => displayChart(vegaEmbed));\n",
       "    }\n",
       "  })({\"config\": {\"view\": {\"continuousWidth\": 400, \"continuousHeight\": 300}}, \"data\": {\"url\": \"data/altair-data-4c398e4ca51e7569c03371764a676417.json\", \"format\": {\"type\": \"json\"}}, \"mark\": \"point\", \"encoding\": {\"x\": {\"field\": \"feature_value\", \"title\": \"temp\", \"type\": \"quantitative\"}, \"y\": {\"field\": \"shapley_value\", \"type\": \"quantitative\"}}, \"$schema\": \"https://vega.github.io/schema/vega-lite/v4.17.0.json\"}, {\"mode\": \"vega-lite\"});\n",
       "</script>"
      ],
      "text/plain": [
       "alt.Chart(...)"
      ]
     },
     "execution_count": 22,
     "metadata": {},
     "output_type": "execute_result"
    }
   ],
   "source": [
    "plot_dependence(subset, shapley, 'temp')"
   ]
  },
  {
   "cell_type": "markdown",
   "id": "4aded774",
   "metadata": {},
   "source": [
    "### Summary Strip Plot\n",
    "\n",
    "We can create a strip plot that shows every individual shapley value. There will be one row for each feature. In each row, there will be one dot for each instance. The x position of each dot will encode the instance's shapley value. The color of each dot will encode the instance's feature value. We will jitter the dots in the y direction to reduce overlap.\n",
    "\n",
    "First, we need to transform our data to get it into a dataframe that looks like the table below. In this dataframe, there will be one row for every feature in every instance.\n",
    "\n",
    "| feature         | shapley_value | feature_value |\n",
    "|-----------------|---------------|---------------|\n",
    "| days_since_2011 | 135.0         | 6.453387      |\n",
    "| days_since_2011 | 198.0         | 2.502707      |\n",
    "| days_since_2011 | 248.0         | 16.331289     |\n",
    "\n",
    "We can use the [melt](https://pandas.pydata.org/docs/reference/api/pandas.DataFrame.melt.html) function in pandas to help with this."
   ]
  },
  {
   "cell_type": "code",
   "execution_count": 23,
   "id": "d1728bec",
   "metadata": {},
   "outputs": [
    {
     "data": {
      "text/html": [
       "<div>\n",
       "<style scoped>\n",
       "    .dataframe tbody tr th:only-of-type {\n",
       "        vertical-align: middle;\n",
       "    }\n",
       "\n",
       "    .dataframe tbody tr th {\n",
       "        vertical-align: top;\n",
       "    }\n",
       "\n",
       "    .dataframe thead th {\n",
       "        text-align: right;\n",
       "    }\n",
       "</style>\n",
       "<table border=\"1\" class=\"dataframe\">\n",
       "  <thead>\n",
       "    <tr style=\"text-align: right;\">\n",
       "      <th></th>\n",
       "      <th>days_since_2011</th>\n",
       "      <th>season</th>\n",
       "      <th>hr</th>\n",
       "      <th>holiday</th>\n",
       "      <th>weekday</th>\n",
       "      <th>workingday</th>\n",
       "      <th>weathersit</th>\n",
       "      <th>temp</th>\n",
       "      <th>hum</th>\n",
       "      <th>windspeed</th>\n",
       "    </tr>\n",
       "  </thead>\n",
       "  <tbody>\n",
       "    <tr>\n",
       "      <th>0</th>\n",
       "      <td>251</td>\n",
       "      <td>3</td>\n",
       "      <td>10</td>\n",
       "      <td>0</td>\n",
       "      <td>5</td>\n",
       "      <td>1</td>\n",
       "      <td>2</td>\n",
       "      <td>0.62</td>\n",
       "      <td>1.00</td>\n",
       "      <td>0.0000</td>\n",
       "    </tr>\n",
       "    <tr>\n",
       "      <th>1</th>\n",
       "      <td>97</td>\n",
       "      <td>2</td>\n",
       "      <td>2</td>\n",
       "      <td>0</td>\n",
       "      <td>5</td>\n",
       "      <td>1</td>\n",
       "      <td>3</td>\n",
       "      <td>0.34</td>\n",
       "      <td>0.76</td>\n",
       "      <td>0.1642</td>\n",
       "    </tr>\n",
       "    <tr>\n",
       "      <th>2</th>\n",
       "      <td>96</td>\n",
       "      <td>2</td>\n",
       "      <td>1</td>\n",
       "      <td>0</td>\n",
       "      <td>4</td>\n",
       "      <td>1</td>\n",
       "      <td>1</td>\n",
       "      <td>0.42</td>\n",
       "      <td>0.47</td>\n",
       "      <td>0.1343</td>\n",
       "    </tr>\n",
       "    <tr>\n",
       "      <th>3</th>\n",
       "      <td>76</td>\n",
       "      <td>1</td>\n",
       "      <td>0</td>\n",
       "      <td>0</td>\n",
       "      <td>5</td>\n",
       "      <td>1</td>\n",
       "      <td>1</td>\n",
       "      <td>0.42</td>\n",
       "      <td>0.58</td>\n",
       "      <td>0.2836</td>\n",
       "    </tr>\n",
       "    <tr>\n",
       "      <th>4</th>\n",
       "      <td>226</td>\n",
       "      <td>3</td>\n",
       "      <td>21</td>\n",
       "      <td>0</td>\n",
       "      <td>1</td>\n",
       "      <td>1</td>\n",
       "      <td>1</td>\n",
       "      <td>0.66</td>\n",
       "      <td>0.65</td>\n",
       "      <td>0.1940</td>\n",
       "    </tr>\n",
       "  </tbody>\n",
       "</table>\n",
       "</div>"
      ],
      "text/plain": [
       "   days_since_2011  season  hr  holiday  weekday  workingday  weathersit  \\\n",
       "0              251       3  10        0        5           1           2   \n",
       "1               97       2   2        0        5           1           3   \n",
       "2               96       2   1        0        4           1           1   \n",
       "3               76       1   0        0        5           1           1   \n",
       "4              226       3  21        0        1           1           1   \n",
       "\n",
       "   temp   hum  windspeed  \n",
       "0  0.62  1.00     0.0000  \n",
       "1  0.34  0.76     0.1642  \n",
       "2  0.42  0.47     0.1343  \n",
       "3  0.42  0.58     0.2836  \n",
       "4  0.66  0.65     0.1940  "
      ]
     },
     "execution_count": 23,
     "metadata": {},
     "output_type": "execute_result"
    }
   ],
   "source": [
    "subset.head()"
   ]
  },
  {
   "cell_type": "code",
   "execution_count": 24,
   "id": "7d290b80",
   "metadata": {},
   "outputs": [
    {
     "data": {
      "text/html": [
       "<div>\n",
       "<style scoped>\n",
       "    .dataframe tbody tr th:only-of-type {\n",
       "        vertical-align: middle;\n",
       "    }\n",
       "\n",
       "    .dataframe tbody tr th {\n",
       "        vertical-align: top;\n",
       "    }\n",
       "\n",
       "    .dataframe thead th {\n",
       "        text-align: right;\n",
       "    }\n",
       "</style>\n",
       "<table border=\"1\" class=\"dataframe\">\n",
       "  <thead>\n",
       "    <tr style=\"text-align: right;\">\n",
       "      <th></th>\n",
       "      <th>feature</th>\n",
       "      <th>feature_value</th>\n",
       "    </tr>\n",
       "  </thead>\n",
       "  <tbody>\n",
       "    <tr>\n",
       "      <th>0</th>\n",
       "      <td>days_since_2011</td>\n",
       "      <td>251.0</td>\n",
       "    </tr>\n",
       "    <tr>\n",
       "      <th>1</th>\n",
       "      <td>days_since_2011</td>\n",
       "      <td>97.0</td>\n",
       "    </tr>\n",
       "    <tr>\n",
       "      <th>2</th>\n",
       "      <td>days_since_2011</td>\n",
       "      <td>96.0</td>\n",
       "    </tr>\n",
       "    <tr>\n",
       "      <th>3</th>\n",
       "      <td>days_since_2011</td>\n",
       "      <td>76.0</td>\n",
       "    </tr>\n",
       "    <tr>\n",
       "      <th>4</th>\n",
       "      <td>days_since_2011</td>\n",
       "      <td>226.0</td>\n",
       "    </tr>\n",
       "  </tbody>\n",
       "</table>\n",
       "</div>"
      ],
      "text/plain": [
       "           feature  feature_value\n",
       "0  days_since_2011          251.0\n",
       "1  days_since_2011           97.0\n",
       "2  days_since_2011           96.0\n",
       "3  days_since_2011           76.0\n",
       "4  days_since_2011          226.0"
      ]
     },
     "execution_count": 24,
     "metadata": {},
     "output_type": "execute_result"
    }
   ],
   "source": [
    "values = subset.melt()\n",
    "values.columns = ['feature', 'feature_value']\n",
    "values.head()"
   ]
  },
  {
   "cell_type": "markdown",
   "id": "08cc58fa",
   "metadata": {},
   "source": [
    "We can do the same thing for the dataframe that contains shapley values."
   ]
  },
  {
   "cell_type": "code",
   "execution_count": 25,
   "id": "bcfcc4a0",
   "metadata": {},
   "outputs": [
    {
     "data": {
      "text/html": [
       "<div>\n",
       "<style scoped>\n",
       "    .dataframe tbody tr th:only-of-type {\n",
       "        vertical-align: middle;\n",
       "    }\n",
       "\n",
       "    .dataframe tbody tr th {\n",
       "        vertical-align: top;\n",
       "    }\n",
       "\n",
       "    .dataframe thead th {\n",
       "        text-align: right;\n",
       "    }\n",
       "</style>\n",
       "<table border=\"1\" class=\"dataframe\">\n",
       "  <thead>\n",
       "    <tr style=\"text-align: right;\">\n",
       "      <th></th>\n",
       "      <th>variable</th>\n",
       "      <th>value</th>\n",
       "    </tr>\n",
       "  </thead>\n",
       "  <tbody>\n",
       "    <tr>\n",
       "      <th>0</th>\n",
       "      <td>days_since_2011</td>\n",
       "      <td>-2.815161</td>\n",
       "    </tr>\n",
       "    <tr>\n",
       "      <th>1</th>\n",
       "      <td>days_since_2011</td>\n",
       "      <td>-1.688119</td>\n",
       "    </tr>\n",
       "    <tr>\n",
       "      <th>2</th>\n",
       "      <td>days_since_2011</td>\n",
       "      <td>-9.996812</td>\n",
       "    </tr>\n",
       "    <tr>\n",
       "      <th>3</th>\n",
       "      <td>days_since_2011</td>\n",
       "      <td>-10.889281</td>\n",
       "    </tr>\n",
       "    <tr>\n",
       "      <th>4</th>\n",
       "      <td>days_since_2011</td>\n",
       "      <td>11.028830</td>\n",
       "    </tr>\n",
       "  </tbody>\n",
       "</table>\n",
       "</div>"
      ],
      "text/plain": [
       "          variable      value\n",
       "0  days_since_2011  -2.815161\n",
       "1  days_since_2011  -1.688119\n",
       "2  days_since_2011  -9.996812\n",
       "3  days_since_2011 -10.889281\n",
       "4  days_since_2011  11.028830"
      ]
     },
     "execution_count": 25,
     "metadata": {},
     "output_type": "execute_result"
    }
   ],
   "source": [
    "shapley_values = shapley.melt()\n",
    "shapley_values.head()"
   ]
  },
  {
   "cell_type": "markdown",
   "id": "783f5c0e",
   "metadata": {},
   "source": [
    "Then we can combine our newly created dataframes."
   ]
  },
  {
   "cell_type": "code",
   "execution_count": 26,
   "id": "e01a6da5",
   "metadata": {},
   "outputs": [
    {
     "data": {
      "text/html": [
       "<div>\n",
       "<style scoped>\n",
       "    .dataframe tbody tr th:only-of-type {\n",
       "        vertical-align: middle;\n",
       "    }\n",
       "\n",
       "    .dataframe tbody tr th {\n",
       "        vertical-align: top;\n",
       "    }\n",
       "\n",
       "    .dataframe thead th {\n",
       "        text-align: right;\n",
       "    }\n",
       "</style>\n",
       "<table border=\"1\" class=\"dataframe\">\n",
       "  <thead>\n",
       "    <tr style=\"text-align: right;\">\n",
       "      <th></th>\n",
       "      <th>feature</th>\n",
       "      <th>feature_value</th>\n",
       "      <th>shapley_value</th>\n",
       "    </tr>\n",
       "  </thead>\n",
       "  <tbody>\n",
       "    <tr>\n",
       "      <th>0</th>\n",
       "      <td>days_since_2011</td>\n",
       "      <td>251.0</td>\n",
       "      <td>-2.815161</td>\n",
       "    </tr>\n",
       "    <tr>\n",
       "      <th>1</th>\n",
       "      <td>days_since_2011</td>\n",
       "      <td>97.0</td>\n",
       "      <td>-1.688119</td>\n",
       "    </tr>\n",
       "    <tr>\n",
       "      <th>2</th>\n",
       "      <td>days_since_2011</td>\n",
       "      <td>96.0</td>\n",
       "      <td>-9.996812</td>\n",
       "    </tr>\n",
       "    <tr>\n",
       "      <th>3</th>\n",
       "      <td>days_since_2011</td>\n",
       "      <td>76.0</td>\n",
       "      <td>-10.889281</td>\n",
       "    </tr>\n",
       "    <tr>\n",
       "      <th>4</th>\n",
       "      <td>days_since_2011</td>\n",
       "      <td>226.0</td>\n",
       "      <td>11.028830</td>\n",
       "    </tr>\n",
       "  </tbody>\n",
       "</table>\n",
       "</div>"
      ],
      "text/plain": [
       "           feature  feature_value  shapley_value\n",
       "0  days_since_2011          251.0      -2.815161\n",
       "1  days_since_2011           97.0      -1.688119\n",
       "2  days_since_2011           96.0      -9.996812\n",
       "3  days_since_2011           76.0     -10.889281\n",
       "4  days_since_2011          226.0      11.028830"
      ]
     },
     "execution_count": 26,
     "metadata": {},
     "output_type": "execute_result"
    }
   ],
   "source": [
    "values['shapley_value'] = shapley_values['value']\n",
    "values.head()"
   ]
  },
  {
   "cell_type": "markdown",
   "id": "2efc014b",
   "metadata": {},
   "source": [
    "**Exercise 4:** Using the `values` dataframe, create the strip plot. See the end of 01_altair_questions.ipynb for an example of a strip plot with jittering."
   ]
  },
  {
   "cell_type": "code",
   "execution_count": 27,
   "id": "aa1dabb3",
   "metadata": {},
   "outputs": [],
   "source": [
    "sorted_features = feature_importance.sort_values(by='value', ascending=False)['feature'].values"
   ]
  },
  {
   "cell_type": "code",
   "execution_count": 28,
   "id": "d785a263",
   "metadata": {},
   "outputs": [
    {
     "name": "stderr",
     "output_type": "stream",
     "text": [
      "/Users/danielkerrigan/opt/miniconda3/envs/vis4ml/lib/python3.10/site-packages/altair/utils/core.py:317: FutureWarning: iteritems is deprecated and will be removed in a future version. Use .items instead.\n",
      "  for col_name, dtype in df.dtypes.iteritems():\n"
     ]
    },
    {
     "data": {
      "text/html": [
       "\n",
       "<div id=\"altair-viz-9a8a06cefc6e4790b5ee3c088139ec3b\"></div>\n",
       "<script type=\"text/javascript\">\n",
       "  var VEGA_DEBUG = (typeof VEGA_DEBUG == \"undefined\") ? {} : VEGA_DEBUG;\n",
       "  (function(spec, embedOpt){\n",
       "    let outputDiv = document.currentScript.previousElementSibling;\n",
       "    if (outputDiv.id !== \"altair-viz-9a8a06cefc6e4790b5ee3c088139ec3b\") {\n",
       "      outputDiv = document.getElementById(\"altair-viz-9a8a06cefc6e4790b5ee3c088139ec3b\");\n",
       "    }\n",
       "    const paths = {\n",
       "      \"vega\": \"https://cdn.jsdelivr.net/npm//vega@5?noext\",\n",
       "      \"vega-lib\": \"https://cdn.jsdelivr.net/npm//vega-lib?noext\",\n",
       "      \"vega-lite\": \"https://cdn.jsdelivr.net/npm//vega-lite@4.17.0?noext\",\n",
       "      \"vega-embed\": \"https://cdn.jsdelivr.net/npm//vega-embed@6?noext\",\n",
       "    };\n",
       "\n",
       "    function maybeLoadScript(lib, version) {\n",
       "      var key = `${lib.replace(\"-\", \"\")}_version`;\n",
       "      return (VEGA_DEBUG[key] == version) ?\n",
       "        Promise.resolve(paths[lib]) :\n",
       "        new Promise(function(resolve, reject) {\n",
       "          var s = document.createElement('script');\n",
       "          document.getElementsByTagName(\"head\")[0].appendChild(s);\n",
       "          s.async = true;\n",
       "          s.onload = () => {\n",
       "            VEGA_DEBUG[key] = version;\n",
       "            return resolve(paths[lib]);\n",
       "          };\n",
       "          s.onerror = () => reject(`Error loading script: ${paths[lib]}`);\n",
       "          s.src = paths[lib];\n",
       "        });\n",
       "    }\n",
       "\n",
       "    function showError(err) {\n",
       "      outputDiv.innerHTML = `<div class=\"error\" style=\"color:red;\">${err}</div>`;\n",
       "      throw err;\n",
       "    }\n",
       "\n",
       "    function displayChart(vegaEmbed) {\n",
       "      vegaEmbed(outputDiv, spec, embedOpt)\n",
       "        .catch(err => showError(`Javascript Error: ${err.message}<br>This usually means there's a typo in your chart specification. See the javascript console for the full traceback.`));\n",
       "    }\n",
       "\n",
       "    if(typeof define === \"function\" && define.amd) {\n",
       "      requirejs.config({paths});\n",
       "      require([\"vega-embed\"], displayChart, err => showError(`Error loading script: ${err.message}`));\n",
       "    } else {\n",
       "      maybeLoadScript(\"vega\", \"5\")\n",
       "        .then(() => maybeLoadScript(\"vega-lite\", \"4.17.0\"))\n",
       "        .then(() => maybeLoadScript(\"vega-embed\", \"6\"))\n",
       "        .catch(showError)\n",
       "        .then(() => displayChart(vegaEmbed));\n",
       "    }\n",
       "  })({\"config\": {\"view\": {\"continuousWidth\": 400, \"continuousHeight\": 300}, \"legend\": {\"gradientLength\": 50}}, \"data\": {\"url\": \"data/altair-data-6b05fbd263aa1e30ae7704cd71567441.json\", \"format\": {\"type\": \"json\"}}, \"mark\": \"circle\", \"encoding\": {\"color\": {\"field\": \"feature_value\", \"scale\": {\"scheme\": \"viridis\"}, \"title\": null, \"type\": \"quantitative\"}, \"row\": {\"field\": \"feature\", \"header\": {\"labelAlign\": \"left\", \"labelAngle\": 0}, \"sort\": [\"hr\", \"temp\", \"workingday\", \"weathersit\", \"hum\", \"days_since_2011\", \"season\", \"weekday\", \"windspeed\", \"holiday\"], \"spacing\": 0, \"type\": \"nominal\"}, \"x\": {\"field\": \"shapley_value\", \"type\": \"quantitative\"}, \"y\": {\"axis\": null, \"field\": \"jitter\", \"type\": \"quantitative\"}}, \"height\": 50, \"resolve\": {\"scale\": {\"color\": \"independent\"}}, \"transform\": [{\"calculate\": \"random()\", \"as\": \"jitter\"}], \"width\": 700, \"$schema\": \"https://vega.github.io/schema/vega-lite/v4.17.0.json\"}, {\"mode\": \"vega-lite\"});\n",
       "</script>"
      ],
      "text/plain": [
       "alt.Chart(...)"
      ]
     },
     "execution_count": 28,
     "metadata": {},
     "output_type": "execute_result"
    }
   ],
   "source": [
    "alt.Chart(values).mark_circle().encode(\n",
    "    x='shapley_value',\n",
    "    row=alt.Row('feature', sort=sorted_features, spacing=0, header=alt.Header(labelAngle=0, labelAlign='left')),\n",
    "    y=alt.Y('jitter:Q', axis=None),\n",
    "    color=alt.Color('feature_value', scale=alt.Scale(scheme='viridis'), title=None)\n",
    ").properties(\n",
    "    height=50,\n",
    "    width=700\n",
    ").transform_calculate(\n",
    "    jitter='random()'\n",
    ").resolve_scale(\n",
    "    color='independent'\n",
    ").configure_legend(\n",
    "    gradientLength=50\n",
    ")"
   ]
  },
  {
   "cell_type": "code",
   "execution_count": null,
   "id": "49913093",
   "metadata": {},
   "outputs": [],
   "source": []
  }
 ],
 "metadata": {
  "kernelspec": {
   "display_name": "Python 3 (ipykernel)",
   "language": "python",
   "name": "python3"
  },
  "language_info": {
   "codemirror_mode": {
    "name": "ipython",
    "version": 3
   },
   "file_extension": ".py",
   "mimetype": "text/x-python",
   "name": "python",
   "nbconvert_exporter": "python",
   "pygments_lexer": "ipython3",
   "version": "3.10.6"
  }
 },
 "nbformat": 4,
 "nbformat_minor": 5
}
