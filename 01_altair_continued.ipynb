{
 "cells": [
  {
   "cell_type": "markdown",
   "id": "c7a7bbf9",
   "metadata": {},
   "source": [
    "# 01: Altair Continued\n",
    "\n",
    "Answers to some questions about Altair."
   ]
  },
  {
   "cell_type": "code",
   "execution_count": null,
   "id": "8467e1d9",
   "metadata": {},
   "outputs": [],
   "source": [
    "import altair as alt\n",
    "import pandas as pd\n",
    "from vega_datasets import data\n",
    "\n",
    "cars = data.cars()\n",
    "bike = pd.read_csv('https://raw.githubusercontent.com/christophM/interpretable-ml-book/master/data/bike.csv')"
   ]
  },
  {
   "cell_type": "markdown",
   "id": "4e79b539",
   "metadata": {},
   "source": [
    "## Can you sort by a column that is not encoded in the visualization?\n",
    "\n",
    "Yes, here's an example where columns x and y are used in the bar chart and the bars are sorted by column z."
   ]
  },
  {
   "cell_type": "code",
   "execution_count": null,
   "id": "9c4ce551",
   "metadata": {},
   "outputs": [],
   "source": [
    "df = pd.DataFrame({\n",
    "    'x': ['A', 'B', 'C', 'D'],\n",
    "    'y': [4, 3, 2, 1],\n",
    "    'z': [3, 1, 2, 4]\n",
    "})\n",
    "\n",
    "alt.Chart(df).mark_bar().encode(\n",
    "    x=alt.X('x').sort(field='z'),\n",
    "    y='y'\n",
    ")"
   ]
  },
  {
   "cell_type": "markdown",
   "id": "a239e4c2",
   "metadata": {},
   "source": [
    "Here's a more complex example. We have a bar chart of the median number of bikes rented by month where we sort the months by average temperature."
   ]
  },
  {
   "cell_type": "code",
   "execution_count": null,
   "id": "4616f7aa",
   "metadata": {},
   "outputs": [],
   "source": [
    "alt.Chart(bike).mark_bar().encode(\n",
    "    x=alt.X('mnth').sort(field='temp', op='average'),\n",
    "    y='median(cnt)',\n",
    ")"
   ]
  },
  {
   "cell_type": "markdown",
   "id": "5714087e",
   "metadata": {},
   "source": [
    "## Can you change the background color of a chart?\n",
    "\n",
    "Yes, you can set the background color of the entire chart."
   ]
  },
  {
   "cell_type": "code",
   "execution_count": null,
   "id": "3e2c2933",
   "metadata": {},
   "outputs": [],
   "source": [
    "alt.Chart(bike).mark_point().encode(\n",
    "    x=alt.X('temp').axis(gridColor='white'),\n",
    "    y=alt.Y('hum').axis(gridColor='white'),\n",
    ").properties(\n",
    "    background='#EEEEEE'\n",
    ")"
   ]
  },
  {
   "cell_type": "markdown",
   "id": "530640c8",
   "metadata": {},
   "source": [
    "Or you can set the background color of just the data area, which Altair calls the chart's view."
   ]
  },
  {
   "cell_type": "code",
   "execution_count": null,
   "id": "70ed24d5",
   "metadata": {},
   "outputs": [],
   "source": [
    "alt.Chart(bike).mark_point().encode(\n",
    "    x=alt.X('temp').axis(gridColor='white'),\n",
    "    y=alt.Y('hum').axis(gridColor='white'),\n",
    ").configure_view(\n",
    "    fill='#EEEEEE'\n",
    ")"
   ]
  },
  {
   "cell_type": "markdown",
   "id": "c56f5147",
   "metadata": {},
   "source": [
    "You can also choose from a set of predefined themes."
   ]
  },
  {
   "cell_type": "code",
   "execution_count": null,
   "id": "e363e38d",
   "metadata": {},
   "outputs": [],
   "source": [
    "alt.themes"
   ]
  },
  {
   "cell_type": "code",
   "execution_count": null,
   "id": "d949044c",
   "metadata": {},
   "outputs": [],
   "source": [
    "alt.themes.enable('default')\n",
    "\n",
    "plot = alt.Chart(bike).mark_point().encode(\n",
    "    x='temp',\n",
    "    y='hum',\n",
    "    color='season',\n",
    ")\n",
    "\n",
    "plot"
   ]
  },
  {
   "cell_type": "code",
   "execution_count": null,
   "id": "32c80cae",
   "metadata": {},
   "outputs": [],
   "source": [
    "alt.themes.enable('dark')\n",
    "plot"
   ]
  },
  {
   "cell_type": "code",
   "execution_count": null,
   "id": "ded31d57",
   "metadata": {},
   "outputs": [],
   "source": [
    "alt.themes.enable('fivethirtyeight')\n",
    "plot"
   ]
  },
  {
   "cell_type": "code",
   "execution_count": null,
   "id": "8904d0a7",
   "metadata": {},
   "outputs": [],
   "source": [
    "alt.themes.enable('ggplot2')\n",
    "plot"
   ]
  },
  {
   "cell_type": "code",
   "execution_count": null,
   "id": "12969c6e",
   "metadata": {},
   "outputs": [],
   "source": [
    "alt.themes.enable('latimes')\n",
    "plot"
   ]
  },
  {
   "cell_type": "code",
   "execution_count": null,
   "id": "823f2825",
   "metadata": {},
   "outputs": [],
   "source": [
    "alt.themes.enable('opaque')\n",
    "plot"
   ]
  },
  {
   "cell_type": "code",
   "execution_count": null,
   "id": "5b168fa3",
   "metadata": {},
   "outputs": [],
   "source": [
    "alt.themes.enable('quartz')\n",
    "plot"
   ]
  },
  {
   "cell_type": "code",
   "execution_count": null,
   "id": "5c0a0929",
   "metadata": {},
   "outputs": [],
   "source": [
    "alt.themes.enable('urbaninstitute')\n",
    "plot"
   ]
  },
  {
   "cell_type": "code",
   "execution_count": null,
   "id": "ce7098f7",
   "metadata": {},
   "outputs": [],
   "source": [
    "alt.themes.enable('vox')\n",
    "plot"
   ]
  },
  {
   "cell_type": "code",
   "execution_count": null,
   "id": "5c3ad212",
   "metadata": {},
   "outputs": [],
   "source": [
    "alt.themes.enable('default')"
   ]
  },
  {
   "cell_type": "markdown",
   "id": "dc32722e",
   "metadata": {},
   "source": [
    "## Can you concatenate an arbitrary number of charts?\n",
    "\n",
    "If you have a list of plots, then you can use `alt.hconcat` or `alt.vconcat` to concatenate them. For layering, there's `alt.layer`."
   ]
  },
  {
   "cell_type": "code",
   "execution_count": null,
   "id": "5b723e0a",
   "metadata": {},
   "outputs": [],
   "source": [
    "plots = [plot] * 3\n",
    "plots"
   ]
  },
  {
   "cell_type": "code",
   "execution_count": null,
   "id": "6ca25fa8",
   "metadata": {},
   "outputs": [],
   "source": [
    "alt.hconcat(*plots)"
   ]
  },
  {
   "cell_type": "code",
   "execution_count": null,
   "id": "124b10a7",
   "metadata": {},
   "outputs": [],
   "source": [
    "alt.vconcat(*plots)"
   ]
  },
  {
   "cell_type": "markdown",
   "id": "6c644ca8",
   "metadata": {},
   "source": [
    "## Can you specify the amount of padding between concatenated charts?\n",
    "\n",
    "Yes, we can set the `spacing` property for `alt.vconcat` or `alt.hconcat`."
   ]
  },
  {
   "cell_type": "code",
   "execution_count": null,
   "id": "4a5e150c",
   "metadata": {},
   "outputs": [],
   "source": [
    "alt.hconcat(plot, plot, spacing=0)"
   ]
  },
  {
   "cell_type": "code",
   "execution_count": null,
   "id": "3d60081d",
   "metadata": {},
   "outputs": [],
   "source": [
    "alt.hconcat(plot, plot, spacing=100)"
   ]
  },
  {
   "cell_type": "markdown",
   "id": "0fcc5f35",
   "metadata": {},
   "source": [
    "## Why does this chart below look fine in Altair version 4.1.0 but not 4.2.0?"
   ]
  },
  {
   "cell_type": "code",
   "execution_count": null,
   "id": "0ce181c4",
   "metadata": {
    "scrolled": false
   },
   "outputs": [],
   "source": [
    "base = alt.Chart(bike)\n",
    "\n",
    "scatter = base.mark_point().encode(\n",
    "    x='temp',\n",
    "    y='hum'\n",
    ")\n",
    "\n",
    "right_ticks = base.mark_tick().encode(\n",
    "    y=alt.Y('hum').axis(None),\n",
    "    opacity=alt.value(0.2)\n",
    ")\n",
    "\n",
    "top_ticks = base.mark_tick(opacity=0.2).encode(\n",
    "    x=alt.X('temp').axis(None)\n",
    ")\n",
    "\n",
    "chart = top_ticks & (scatter | right_ticks)\n",
    "\n",
    "chart"
   ]
  },
  {
   "cell_type": "markdown",
   "id": "1f2fefd2",
   "metadata": {},
   "source": [
    "In Altair v4.1.0, the output of `print(chart.to_json())` is:\n",
    "\n",
    "```json\n",
    "{\n",
    "  \"$schema\": \"https://vega.github.io/schema/vega-lite/v4.8.1.json\",\n",
    "  \"config\": {\n",
    "    \"view\": {\n",
    "      \"continuousHeight\": 300,\n",
    "      \"continuousWidth\": 400\n",
    "    }\n",
    "  },\n",
    "  \"data\": {\n",
    "    \"format\": {\n",
    "      \"type\": \"json\"\n",
    "    },\n",
    "    \"url\": \"data/altair-data-609d2befa370d2384ff50d4edb9c0801.json\"\n",
    "  },\n",
    "  \"vconcat\": [\n",
    "    {\n",
    "      \"encoding\": {\n",
    "        \"x\": {\n",
    "          \"axis\": null,\n",
    "          \"field\": \"temp\",\n",
    "          \"type\": \"quantitative\"\n",
    "        }\n",
    "      },\n",
    "      \"mark\": {\n",
    "        \"opacity\": 0.2,\n",
    "        \"type\": \"tick\"\n",
    "      }\n",
    "    },\n",
    "    {\n",
    "      \"hconcat\": [\n",
    "        {\n",
    "          \"encoding\": {\n",
    "            \"x\": {\n",
    "              \"field\": \"temp\",\n",
    "              \"type\": \"quantitative\"\n",
    "            },\n",
    "            \"y\": {\n",
    "              \"field\": \"hum\",\n",
    "              \"type\": \"quantitative\"\n",
    "            }\n",
    "          },\n",
    "          \"mark\": \"point\"\n",
    "        },\n",
    "        {\n",
    "          \"encoding\": {\n",
    "            \"opacity\": {\n",
    "              \"value\": 0.2\n",
    "            },\n",
    "            \"y\": {\n",
    "              \"axis\": null,\n",
    "              \"field\": \"hum\",\n",
    "              \"type\": \"quantitative\"\n",
    "            }\n",
    "          },\n",
    "          \"mark\": \"tick\"\n",
    "        }\n",
    "      ]\n",
    "    }\n",
    "  ]\n",
    "}\n",
    "```\n",
    "\n",
    "In Altair v4.2.0, the output of `print(chart.to_json())` is:\n",
    "\n",
    "```json\n",
    "{\n",
    "  \"$schema\": \"https://vega.github.io/schema/vega-lite/v4.17.0.json\",\n",
    "  \"config\": {\n",
    "    \"view\": {\n",
    "      \"continuousHeight\": 300,\n",
    "      \"continuousWidth\": 400\n",
    "    }\n",
    "  },\n",
    "  \"data\": {\n",
    "    \"format\": {\n",
    "      \"type\": \"json\"\n",
    "    },\n",
    "    \"url\": \"data/altair-data-0ac8c8d045e15b64cb25e05e9ad46beb.json\"\n",
    "  },\n",
    "  \"vconcat\": [\n",
    "    {\n",
    "      \"encoding\": {\n",
    "        \"x\": {\n",
    "          \"axis\": null,\n",
    "          \"field\": \"temp\",\n",
    "          \"type\": \"quantitative\"\n",
    "        }\n",
    "      },\n",
    "      \"mark\": {\n",
    "        \"opacity\": 0.2,\n",
    "        \"type\": \"tick\"\n",
    "      }\n",
    "    },\n",
    "    {\n",
    "      \"hconcat\": [\n",
    "        {\n",
    "          \"encoding\": {\n",
    "            \"x\": {\n",
    "              \"field\": \"temp\",\n",
    "              \"type\": \"quantitative\"\n",
    "            },\n",
    "            \"y\": {\n",
    "              \"field\": \"hum\",\n",
    "              \"type\": \"quantitative\"\n",
    "            }\n",
    "          },\n",
    "          \"mark\": \"point\"\n",
    "        },\n",
    "        {\n",
    "          \"encoding\": {\n",
    "            \"opacity\": {\n",
    "              \"value\": 0.2\n",
    "            },\n",
    "            \"y\": {\n",
    "              \"axis\": null,\n",
    "              \"field\": \"hum\",\n",
    "              \"type\": \"quantitative\"\n",
    "            }\n",
    "          },\n",
    "          \"mark\": \"tick\"\n",
    "        }\n",
    "      ]\n",
    "    }\n",
    "  ]\n",
    "}\n",
    "```\n",
    "\n",
    "The only difference in the specifications is the version of Vega-Lite that is used (v4.8.1 vs. v4.17.0). I believie this is related to this [Vega-Lite issue](https://github.com/vega/vega-lite/issues/6209). The above specification works in Vega-Lite v5, but the most recently released version of Altair does not use Vega-Lite v5.\n",
    "\n",
    "I haven't been able to get this chart to look right in Altair v4.2.0 by adjusting the dimensions. After playing with this [example](https://altair-viz.github.io/gallery/scatter_marginal_hist.html), the sizing is correct when the top marginal chart has a y-scale. A workaround is to add a column to the dataset that contains 0's and then set the y-scale of top marginal chart to use this column for the y encoding."
   ]
  },
  {
   "cell_type": "code",
   "execution_count": null,
   "id": "ab12a3ce",
   "metadata": {},
   "outputs": [],
   "source": [
    "base = alt.Chart(bike).transform_calculate(zeros='0')\n",
    "\n",
    "scatter = base.mark_point().encode(\n",
    "    x='temp',\n",
    "    y='hum'\n",
    ")\n",
    "\n",
    "right_ticks = base.mark_tick().encode(\n",
    "    y=alt.Y('hum').axis(None),\n",
    "    opacity=alt.value(0.2)\n",
    ")\n",
    "\n",
    "top_ticks = base.mark_tick(opacity=0.2).encode(\n",
    "    x=alt.X('temp').axis(None),\n",
    "    y=alt.Y('zeros:Q').axis(None)\n",
    ").properties(height=20)\n",
    "\n",
    "chart = top_ticks & (scatter | right_ticks)\n",
    "\n",
    "top_ticks & (scatter | right_ticks)"
   ]
  },
  {
   "cell_type": "markdown",
   "id": "e122b3be",
   "metadata": {},
   "source": [
    "## Can you use shorthand elsewhere in the API?\n",
    "\n",
    "For example, is there a way to specify that we want the midpoint of this diverging color scale to be the median count other than by calculating it in pandas, like below? Based on this [open Vega-Lite GitHub issue](https://github.com/vega/vega-lite/issues/8020), this does not seem possible."
   ]
  },
  {
   "cell_type": "code",
   "execution_count": null,
   "id": "8241a8c1",
   "metadata": {},
   "outputs": [],
   "source": [
    "alt.Chart(bike).mark_circle().encode(\n",
    "    x='temp',\n",
    "    y='hum',\n",
    "    color=alt.Color('cnt').scale(scheme='redblue', domainMid=bike['cnt'].median(), reverse=True)\n",
    ")"
   ]
  },
  {
   "cell_type": "markdown",
   "id": "e7943d1b",
   "metadata": {},
   "source": [
    "## Can you specify custom continuous color schemes?\n",
    "\n",
    "Yes, you can pass an array of colors and it will interpolate between them."
   ]
  },
  {
   "cell_type": "code",
   "execution_count": null,
   "id": "38fa68ec",
   "metadata": {},
   "outputs": [],
   "source": [
    "# https://gist.github.com/jscarto/6cc7f547bb7d5d9acda51e5c15256b01\n",
    "blue_fluorite = ['#291b32', '#2a1b34', '#2b1b34', '#2d1c36', '#2f1c38', '#301c39', '#301d3a', '#321d3b', '#331d3d', '#351d3f', '#351e40', '#371e41', '#381e43', '#3a1e45', '#3b1f45', '#3c1f46', '#3e1f48', '#3f1f4a', '#401f4c', '#42204d', '#43204e', '#44204f', '#462051', '#472052', '#482054', '#4a2056', '#4a2157', '#4c2158', '#4e215a', '#4f215b', '#50215d', '#52215e', '#532160', '#552162', '#552263', '#562264', '#582265', '#592267', '#5b2268', '#5c226b', '#5e226c', '#5f226e', '#60226f', '#622271', '#632272', '#642274', '#662276', '#672277', '#692278', '#6a227a', '#6c227b', '#6e227d', '#6e237e', '#6f247f', '#702480', '#712581', '#722681', '#732683', '#742783', '#752884', '#762985', '#772987', '#792a87', '#792b88', '#7a2c89', '#7b2c8a', '#7c2d8a', '#7d2d8c', '#7e2e8d', '#7f2f8d', '#80308e', '#813190', '#823191', '#833292', '#843292', '#863393', '#863494', '#873595', '#893596', '#8a3697', '#8b3798', '#8b3899', '#8c389a', '#8e399b', '#8e3a9c', '#8f3b9c', '#8f3d9d', '#8f3e9e', '#903f9e', '#90419e', '#90439f', '#9044a0', '#9046a0', '#9047a1', '#9049a1', '#914aa2', '#914ca2', '#914ca3', '#914ea3', '#9150a4', '#9151a5', '#9153a5', '#9154a6', '#9156a6', '#9157a7', '#9258a7', '#9259a8', '#925aa8', '#925ba9', '#925da9', '#925faa', '#9260ab', '#9260ab', '#9263ac', '#9264ac', '#9265ad', '#9266ae', '#9268ae', '#9269ae', '#926aaf', '#926bb0', '#926cb0', '#926eb1', '#926fb1', '#9270b2', '#9271b2', '#9273b3', '#9274b3', '#9275b4', '#9277b5', '#9277b5', '#9278b6', '#927ab6', '#927bb7', '#927cb7', '#927eb8', '#927fb8', '#9280b9', '#9281ba', '#9282ba', '#9284bb', '#9285bb', '#9285bc', '#9187bc', '#9188bd', '#918abd', '#918bbe', '#918cbf', '#918dbf', '#918ec0', '#918fc0', '#9191c1', '#9092c2', '#9094c2', '#9094c2', '#9095c3', '#9096c3', '#8f99c4', '#8f9ac5', '#8f9ac5', '#8f9bc6', '#8f9cc6', '#8f9dc7', '#8e9fc8', '#8ea0c8', '#8ea2c9', '#8ea3c9', '#8da5ca', '#8da5ca', '#8da6cb', '#8da7cb', '#8ca9cc', '#8caacc', '#8caccd', '#8bacce', '#8badce', '#8baecf', '#8ab0d0', '#8ab2d0', '#8ab2d1', '#8ab4d1', '#89b4d1', '#89b5d2', '#89b7d2', '#88b8d3', '#88bad4', '#87bad4', '#87bbd5', '#86bdd6', '#86bed6', '#86c0d7', '#85c0d7', '#85c1d8', '#84c3d8', '#84c4d9', '#83c5d9', '#83c6da', '#82c8da', '#82c8db', '#81cadc', '#81cbdc', '#80ccdd', '#81cddd', '#84cfdd', '#85cfdd', '#87d0dd', '#8ad0de', '#8dd1de', '#8fd2de', '#90d2de', '#92d4de', '#95d5de', '#97d5de', '#98d6de', '#9bd7de', '#9dd7df', '#a0d8df', '#a1d9df', '#a2dadf', '#a5dadf', '#a7dbdf', '#aadcdf', '#abdddf', '#acdde0', '#afdfe0', '#b1dfe0', '#b3e0e0', '#b4e1e0', '#b7e2e0', '#bae2e1', '#bae3e1', '#bee3e2', '#c0e4e3', '#c1e5e3', '#c4e6e3', '#c6e6e4', '#c8e7e4', '#cbe7e5', '#cde8e5', '#cee9e6', '#d2e9e7', '#d3eae7', '#d5eae7', '#d8ebe8', '#d9ece8', '#dcece9', '#deedea', '#dfeeea', '#e2eeea', '#e5efeb', '#e6f0eb', '#e9f0ec', '#ebf1ed', '#ecf2ed', '#eff3ee', '#f1f3ee']"
   ]
  },
  {
   "cell_type": "code",
   "execution_count": null,
   "id": "fe9f7208",
   "metadata": {},
   "outputs": [],
   "source": [
    "alt.Chart(bike).mark_circle().encode(\n",
    "    x='temp',\n",
    "    y='hum',\n",
    "    color=alt.Color('cnt').scale(range=blue_fluorite)\n",
    ")"
   ]
  },
  {
   "cell_type": "markdown",
   "id": "de4809f2",
   "metadata": {},
   "source": [
    "## Can you add jittering to points, like in a beeswarm plot?\n",
    "\n",
    "For example, can you add some jittering to the circles in the below plot so that they do not overlap as much?"
   ]
  },
  {
   "cell_type": "code",
   "execution_count": null,
   "id": "daa350dd",
   "metadata": {},
   "outputs": [],
   "source": [
    "alt.Chart(cars).mark_circle().encode(\n",
    "    x='Horsepower',\n",
    "    y='Cylinders:O',\n",
    "    color=alt.Color('Miles_per_Gallon').scale(scheme='viridis')\n",
    ")"
   ]
  },
  {
   "cell_type": "markdown",
   "id": "6980f829",
   "metadata": {},
   "source": [
    "We can do this by adding a column to the dataset that contains a random number. This can be done in pandas or with [transform_calculate](https://altair-viz.github.io/user_guide/transform/calculate.html). Then we can use that column offset encoding in our plot. Here are a [couple](https://altair-viz.github.io/user_guide/marks/point.html#dot-plot-with-jittering) [examples](https://altair-viz.github.io/gallery/strip_plot_jitter.html)."
   ]
  },
  {
   "cell_type": "code",
   "execution_count": null,
   "id": "8b5bf9d5",
   "metadata": {},
   "outputs": [],
   "source": [
    "alt.Chart(cars).mark_circle().encode(\n",
    "    x='Horsepower',\n",
    "    y=alt.Y('Cylinders:O').scale(paddingInner=0.25),\n",
    "    yOffset='jitter:Q',\n",
    "    color=alt.Color('Miles_per_Gallon').scale(scheme='viridis')\n",
    ").transform_calculate(\n",
    "    jitter='random()'\n",
    ").properties(\n",
    "    height=alt.Step(50)\n",
    ")"
   ]
  },
  {
   "cell_type": "markdown",
   "id": "cfafb7a5",
   "metadata": {},
   "source": [
    "Here's an alternative approach that uses faceting."
   ]
  },
  {
   "cell_type": "code",
   "execution_count": null,
   "id": "c17fe671",
   "metadata": {},
   "outputs": [],
   "source": [
    "alt.Chart(cars).mark_circle().encode(\n",
    "    x='Horsepower',\n",
    "    row=alt.Row('Cylinders', spacing=0),\n",
    "    y=alt.Y('jitter:Q', axis=None),\n",
    "    color=alt.Color('Miles_per_Gallon').scale(scheme='viridis')\n",
    ").properties(\n",
    "    height=50\n",
    ").transform_calculate(\n",
    "    jitter='random()'\n",
    ").configure_legend(\n",
    "    # make the legend taller\n",
    "    gradientLength=200\n",
    ")"
   ]
  },
  {
   "cell_type": "code",
   "execution_count": null,
   "id": "f9044dbd",
   "metadata": {},
   "outputs": [],
   "source": []
  }
 ],
 "metadata": {
  "kernelspec": {
   "display_name": "Python 3 (ipykernel)",
   "language": "python",
   "name": "python3"
  },
  "language_info": {
   "codemirror_mode": {
    "name": "ipython",
    "version": 3
   },
   "file_extension": ".py",
   "mimetype": "text/x-python",
   "name": "python",
   "nbconvert_exporter": "python",
   "pygments_lexer": "ipython3",
   "version": "3.10.13"
  }
 },
 "nbformat": 4,
 "nbformat_minor": 5
}
