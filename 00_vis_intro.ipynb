{
 "cells": [
  {
   "cell_type": "markdown",
   "id": "c7a7bbf9",
   "metadata": {},
   "source": [
    "# 00: Intro to Visualization in Python\n",
    "\n",
    "## Resources\n",
    "\n",
    "Python has several data visualization libraries, including:\n",
    "\n",
    "- [Matplotlib](https://matplotlib.org)\n",
    "- [Seaborn](https://seaborn.pydata.org)\n",
    "- [Bokeh](https://docs.bokeh.org/en/latest/)\n",
    "- [Altair](https://github.com/altair-viz/altair)\n",
    "- [Plotly](https://plotly.com/python/)\n",
    "- [Plotnine](https://plotnine.readthedocs.io/en/stable/)\n",
    "\n",
    "If you're interested in building an interactive application or dashboard in Python for your project, then you may want to check out:\n",
    "\n",
    "- [streamlit](https://streamlit.io)\n",
    "- [Plotly Dash](https://dash.plotly.com/introduction)\n",
    "- [Panel](https://panel.holoviz.org)\n",
    "- [H20 Wave](https://wave.h2o.ai)\n",
    "\n",
    "## Altair\n",
    "\n",
    "In case you are not familiar with any Python visualization libraries, then this notebook will provide an overview of Altair. This content is based on the [Altair documentation](https://altair-viz.github.io).\n",
    "\n",
    "Altair is essentially a Python API for [Vega-Lite](https://vega.github.io/vega-lite/), which is a grammar for specifying interactive graphics in JSON. Altair has a straightforward API that focuses on specifying marks and channel encodings, which is a nice match to how we conceptually describe visualizations. Learning Altair will also make for an easy transition to using Vega-Lite elsewhere, such as in a web app. One downside of Altair is that it is cumbersome to create static visualizations outside of the browser. If your goal is to write a Python script that saves charts to an image file on your computer without using the browser, then Altair is not the best choice. In some cases, the Altair documentation is not very thorough and you may be better off referencing the Vega-Lite documentation instead.\n",
    "\n",
    "### Data\n",
    "\n",
    "You can pass your dataset to Altair as a pandas dataframe or as a path to a JSON or CSV file. Altair works best with data that is in [tidy](https://vita.had.co.nz/papers/tidy-data.pdf) (or [long](https://altair-viz.github.io/user_guide/data.html#long-form-vs-wide-form-data)) format. If you pass a pandas dataframe, then Altair will automatically infer data types, but it will include the entire dataset in the chart's specification. With large datasets, this can lead to large chart and notebook sizes."
   ]
  },
  {
   "cell_type": "code",
   "execution_count": null,
   "id": "8467e1d9",
   "metadata": {},
   "outputs": [],
   "source": [
    "import altair as alt\n",
    "import pandas as pd"
   ]
  },
  {
   "cell_type": "code",
   "execution_count": null,
   "id": "2c23ed55",
   "metadata": {},
   "outputs": [],
   "source": [
    "# dataset is from https://observablehq.com/@d3/bar-chart\n",
    "letter_frequencies = pd.DataFrame({\n",
    "    'letter': [\"A\",\"B\",\"C\",\"D\",\"E\",\"F\",\"G\",\"H\",\"I\",\"J\",\"K\",\"L\",\"M\",\"N\",\"O\",\"P\",\"Q\",\"R\",\"S\",\"T\",\"U\",\"V\",\"W\",\"X\",\"Y\",\"Z\"],\n",
    "    'frequency': [0.08167,0.01492,0.02782,0.04253,0.12702,0.02288,0.02015,0.06094,0.06966,0.00153,0.00772,0.04025,0.02406,0.06749,0.07507,0.01929,0.00095,0.05987,0.06327,0.09056,0.02758,0.00978,0.0236,0.0015,0.01974,0.00074]\n",
    "})\n",
    "\n",
    "letter_frequencies"
   ]
  },
  {
   "cell_type": "markdown",
   "id": "077dbbcb",
   "metadata": {},
   "source": [
    "Here, we are passing the dataset as a pandas dataframe."
   ]
  },
  {
   "cell_type": "code",
   "execution_count": null,
   "id": "8b0efcad",
   "metadata": {},
   "outputs": [],
   "source": [
    "letter_freq_bar_chart = alt.Chart(letter_frequencies).mark_bar().encode(\n",
    "    x='letter',\n",
    "    y='frequency'\n",
    ")\n",
    "\n",
    "letter_freq_bar_chart"
   ]
  },
  {
   "cell_type": "markdown",
   "id": "618a95d4",
   "metadata": {},
   "source": [
    "When we look at the Vega-Lite specification that Altair creates for this chart, we can see that the entire dataset is included. This makes the chart portable, but increases its size."
   ]
  },
  {
   "cell_type": "code",
   "execution_count": null,
   "id": "f86416de",
   "metadata": {
    "scrolled": false
   },
   "outputs": [],
   "source": [
    "print(letter_freq_bar_chart.to_json())"
   ]
  },
  {
   "cell_type": "markdown",
   "id": "71b2130e",
   "metadata": {},
   "source": [
    "We can avoid having the dataset included in the chart specification by saving the dataset to a JSON file and then passing the path to that file to Altair. **Note that this works locally, but not on Colab**."
   ]
  },
  {
   "cell_type": "markdown",
   "id": "96ac7ed7",
   "metadata": {},
   "source": [
    "However, when we do this, we have to specify the types of our data.\n",
    "\n",
    "|Data Type    | Shorthand|\n",
    "|-------------|----------|\n",
    "|quantitative | Q        |\n",
    "|ordinal      | O        |\n",
    "|nominal      | N        |\n",
    "|temporal     | T        |\n",
    "|geojson      | G        |"
   ]
  },
  {
   "cell_type": "code",
   "execution_count": null,
   "id": "f0966d24",
   "metadata": {},
   "outputs": [],
   "source": [
    "!mkdir data\n",
    "\n",
    "letter_frequencies.to_json('data/letter_frequencies.json', orient='records')\n",
    "\n",
    "letter_freq_bar_chart_2 = alt.Chart('data/letter_frequencies.json').mark_bar().encode(\n",
    "    x='letter:N',\n",
    "    y='frequency:Q'\n",
    ")\n",
    "\n",
    "letter_freq_bar_chart_2"
   ]
  },
  {
   "cell_type": "markdown",
   "id": "8777e7b4",
   "metadata": {},
   "source": [
    "Now we can see that the entire dataset is not included in the Vega-Lite specification."
   ]
  },
  {
   "cell_type": "code",
   "execution_count": null,
   "id": "530f7824",
   "metadata": {},
   "outputs": [],
   "source": [
    "print(letter_freq_bar_chart_2.to_json())"
   ]
  },
  {
   "cell_type": "markdown",
   "id": "8b711666",
   "metadata": {},
   "source": [
    "We can also have Altair save our dataframe to a file automatically. With this enabled, Altair will still infer data types and the chart specification won't include the dataset. Again, **note that this does not work on Colab**."
   ]
  },
  {
   "cell_type": "code",
   "execution_count": null,
   "id": "94391ece",
   "metadata": {},
   "outputs": [],
   "source": [
    "alt.data_transformers.enable('json', prefix='data/altair-data')\n",
    "\n",
    "letter_freq_bar_chart_3 = alt.Chart(letter_frequencies).mark_bar().encode(\n",
    "    x='letter',\n",
    "    y='frequency'\n",
    ")\n",
    "\n",
    "letter_freq_bar_chart_3"
   ]
  },
  {
   "cell_type": "code",
   "execution_count": null,
   "id": "ba59cf6e",
   "metadata": {},
   "outputs": [],
   "source": [
    "print(letter_freq_bar_chart_3.to_json())"
   ]
  },
  {
   "cell_type": "markdown",
   "id": "a73a938d",
   "metadata": {},
   "source": [
    "### Fundamentals\n",
    "\n",
    "To create a chart in Altair, you specify the type of mark that you want to use and what you want the channels of the marks to encode. \n",
    "\n",
    "#### Marks\n",
    "\n",
    "In the next few charts, we use the same encodings with different marks."
   ]
  },
  {
   "cell_type": "code",
   "execution_count": null,
   "id": "61e1c6e3",
   "metadata": {},
   "outputs": [],
   "source": [
    "alt.Chart(letter_frequencies).mark_bar().encode(\n",
    "    x='letter',\n",
    "    y='frequency'\n",
    ")"
   ]
  },
  {
   "cell_type": "code",
   "execution_count": null,
   "id": "0d6c10fa",
   "metadata": {},
   "outputs": [],
   "source": [
    "alt.Chart(letter_frequencies).mark_point().encode(\n",
    "    x='letter',\n",
    "    y='frequency'\n",
    ")"
   ]
  },
  {
   "cell_type": "code",
   "execution_count": null,
   "id": "69e9d640",
   "metadata": {},
   "outputs": [],
   "source": [
    "alt.Chart(letter_frequencies).mark_square().encode(\n",
    "    x='letter',\n",
    "    y='frequency'\n",
    ")"
   ]
  },
  {
   "cell_type": "code",
   "execution_count": null,
   "id": "01615423",
   "metadata": {},
   "outputs": [],
   "source": [
    "alt.Chart(letter_frequencies).mark_rule().encode(\n",
    "    x='letter',\n",
    "    y='frequency'\n",
    ")"
   ]
  },
  {
   "cell_type": "code",
   "execution_count": null,
   "id": "a0f8469b",
   "metadata": {
    "scrolled": true
   },
   "outputs": [],
   "source": [
    "alt.Chart(letter_frequencies).mark_tick().encode(\n",
    "    x='letter',\n",
    "    y='frequency'\n",
    ")"
   ]
  },
  {
   "cell_type": "markdown",
   "id": "98bd6890",
   "metadata": {},
   "source": [
    "Another way that we could have done this is by specifying a base chart that does not have an encoding."
   ]
  },
  {
   "cell_type": "code",
   "execution_count": null,
   "id": "93eb81c4",
   "metadata": {},
   "outputs": [],
   "source": [
    "base = alt.Chart(letter_frequencies).encode(\n",
    "    x='letter',\n",
    "    y='frequency'\n",
    ")"
   ]
  },
  {
   "cell_type": "markdown",
   "id": "29833bf5",
   "metadata": {},
   "source": [
    "And then call the mark that we want on the base chart."
   ]
  },
  {
   "cell_type": "code",
   "execution_count": null,
   "id": "8a4fbc50",
   "metadata": {},
   "outputs": [],
   "source": [
    "base.mark_bar()"
   ]
  },
  {
   "cell_type": "code",
   "execution_count": null,
   "id": "24499d0e",
   "metadata": {},
   "outputs": [],
   "source": [
    "base.mark_point()"
   ]
  },
  {
   "cell_type": "markdown",
   "id": "0c470c1b",
   "metadata": {},
   "source": [
    "#### Encodings\n",
    "\n",
    "If we want a horizontal bar chart instead of a vertical bar chart, then we can swap the x and y encodings."
   ]
  },
  {
   "cell_type": "code",
   "execution_count": null,
   "id": "b4247c15",
   "metadata": {},
   "outputs": [],
   "source": [
    "alt.Chart(letter_frequencies).mark_bar().encode(\n",
    "    y='letter',\n",
    "    x='frequency'\n",
    ")"
   ]
  },
  {
   "cell_type": "markdown",
   "id": "ad05917d",
   "metadata": {},
   "source": [
    "For another example of using channels to encode data, we add a column to our dataframe to indicate whether or not the letter is a vowel and then color the bars accordingly."
   ]
  },
  {
   "cell_type": "code",
   "execution_count": null,
   "id": "d3309973",
   "metadata": {},
   "outputs": [],
   "source": [
    "letter_frequencies['is_vowel'] = letter_frequencies['letter'].isin(('A', 'E', 'I', 'O', 'U'))"
   ]
  },
  {
   "cell_type": "code",
   "execution_count": null,
   "id": "47e34228",
   "metadata": {},
   "outputs": [],
   "source": [
    "alt.Chart(letter_frequencies).mark_bar().encode(\n",
    "    x='letter',\n",
    "    y='frequency',\n",
    "    color='is_vowel'\n",
    ")"
   ]
  },
  {
   "cell_type": "markdown",
   "id": "9a2fc1f2",
   "metadata": {},
   "source": [
    "#### Sorting\n",
    "\n",
    "Up to this point, we've been using a shorthand way to specify the encodings. If you need greater control over the scale or axis, then you can use the long-form. For example, the long-form of `x='letter'` is `x=alt.X('letter')`. Through this long-form `alt.X()`, we can specify how to sort bars. Below, we sort the bars in alphabetical order, which is the order that the dataset was already in."
   ]
  },
  {
   "cell_type": "code",
   "execution_count": null,
   "id": "c3dd3a6f",
   "metadata": {},
   "outputs": [],
   "source": [
    "alt.Chart(letter_frequencies).mark_bar().encode(\n",
    "    x=alt.X('letter').sort('ascending'),\n",
    "    y='frequency',\n",
    ")"
   ]
  },
  {
   "cell_type": "markdown",
   "id": "a4083cf6",
   "metadata": {},
   "source": [
    "Here we sort the in reverse alphabetical order."
   ]
  },
  {
   "cell_type": "code",
   "execution_count": null,
   "id": "7439087d",
   "metadata": {},
   "outputs": [],
   "source": [
    "alt.Chart(letter_frequencies).mark_bar().encode(\n",
    "    x=alt.X('letter').sort('descending'),\n",
    "    y='frequency',\n",
    ")"
   ]
  },
  {
   "cell_type": "markdown",
   "id": "a9236b6d",
   "metadata": {},
   "source": [
    "We can also sort the bars according to another channel. For example, here we sort the bars in descending order by frequency."
   ]
  },
  {
   "cell_type": "code",
   "execution_count": null,
   "id": "5c842525",
   "metadata": {},
   "outputs": [],
   "source": [
    "alt.Chart(letter_frequencies).mark_bar().encode(\n",
    "    x=alt.X('letter').sort('-y'),\n",
    "    y='frequency',\n",
    ")"
   ]
  },
  {
   "cell_type": "markdown",
   "id": "46487deb",
   "metadata": {},
   "source": [
    "#### Aggregation\n",
    "\n",
    "Altair [supports](https://altair-viz.github.io/altair-tutorial/notebooks/03-Binning-and-aggregation.html) grouping, binning, and aggregating your data. For example, here we have a bar chart that shows the average frequency of vowels and consonants. The same approach applies for other aggregations, like min, max, median, q1 (first quartile), q3 (third quartile), count, stdev (standard deviation), etc."
   ]
  },
  {
   "cell_type": "code",
   "execution_count": null,
   "id": "440c798f",
   "metadata": {},
   "outputs": [],
   "source": [
    "alt.Chart(letter_frequencies).mark_bar().encode(\n",
    "    x='average(frequency)',\n",
    "    y='is_vowel'\n",
    ")"
   ]
  },
  {
   "cell_type": "markdown",
   "id": "35db490a",
   "metadata": {},
   "source": [
    "In the long-form, the above chart would look like this."
   ]
  },
  {
   "cell_type": "code",
   "execution_count": null,
   "id": "1e8a0949",
   "metadata": {},
   "outputs": [],
   "source": [
    "alt.Chart(letter_frequencies).mark_bar().encode(\n",
    "    x=alt.X('frequency').aggregate('average'),\n",
    "    y='is_vowel'\n",
    ")"
   ]
  },
  {
   "cell_type": "markdown",
   "id": "7492c1b4",
   "metadata": {},
   "source": [
    "count behaves differently from the other aggregations in that it does not need a column. For example, here we count the number of vowels and consonants."
   ]
  },
  {
   "cell_type": "code",
   "execution_count": null,
   "id": "52c99595",
   "metadata": {},
   "outputs": [],
   "source": [
    "alt.Chart(letter_frequencies).mark_bar().encode(\n",
    "    x='count()',\n",
    "    y='is_vowel'\n",
    ")"
   ]
  },
  {
   "cell_type": "markdown",
   "id": "f019f826",
   "metadata": {},
   "source": [
    "For binning, we need to use the long-form. Here we have a histogram that bins the frequencies and shows the number of letters in each bin."
   ]
  },
  {
   "cell_type": "code",
   "execution_count": null,
   "id": "e05d01dc",
   "metadata": {
    "scrolled": false
   },
   "outputs": [],
   "source": [
    "alt.Chart(letter_frequencies).mark_bar().encode(\n",
    "    x=alt.X('frequency').bin(),\n",
    "    y='count()'\n",
    ")"
   ]
  },
  {
   "cell_type": "markdown",
   "id": "7b47ee97",
   "metadata": {},
   "source": [
    "We can use [.bin()](https://altair-viz.github.io/user_guide/generated/core/altair.BinParams.html) to get more control over the bins."
   ]
  },
  {
   "cell_type": "code",
   "execution_count": null,
   "id": "5e3c34fe",
   "metadata": {},
   "outputs": [],
   "source": [
    "alt.Chart(letter_frequencies).mark_bar().encode(\n",
    "    x=alt.X('frequency').bin(step=0.05),\n",
    "    y='count()'\n",
    ")"
   ]
  },
  {
   "cell_type": "markdown",
   "id": "1cf8b4d0",
   "metadata": {},
   "source": [
    "*Practice*\n",
    "\n",
    "Below we have a dataset on daily bike rentals."
   ]
  },
  {
   "cell_type": "code",
   "execution_count": null,
   "id": "eebe19fc",
   "metadata": {
    "scrolled": true
   },
   "outputs": [],
   "source": [
    "bike = pd.read_csv('https://raw.githubusercontent.com/christophM/interpretable-ml-book/master/data/bike.csv')\n",
    "bike.head()"
   ]
  },
  {
   "cell_type": "markdown",
   "id": "95c49a78",
   "metadata": {},
   "source": [
    "Make a bar chart that shows the median number of bikes rented (\"cnt\") for each weather situation (\"weathersit\"). Sort the bars from lowest to highest count."
   ]
  },
  {
   "cell_type": "code",
   "execution_count": null,
   "id": "b2e4b51d",
   "metadata": {},
   "outputs": [],
   "source": []
  },
  {
   "cell_type": "markdown",
   "id": "c3333bc5",
   "metadata": {},
   "source": [
    "Make a histogram for the number of bikes rented (\"cnt\")."
   ]
  },
  {
   "cell_type": "code",
   "execution_count": null,
   "id": "0dde3b76",
   "metadata": {},
   "outputs": [],
   "source": []
  },
  {
   "cell_type": "markdown",
   "id": "6f106c6a",
   "metadata": {},
   "source": [
    "### Basic Plots\n",
    "\n",
    "#### Scatter plot"
   ]
  },
  {
   "cell_type": "code",
   "execution_count": null,
   "id": "0dc28c4c",
   "metadata": {},
   "outputs": [],
   "source": [
    "alt.Chart(bike).mark_point().encode(\n",
    "    x='temp',\n",
    "    y='hum'\n",
    ")"
   ]
  },
  {
   "cell_type": "code",
   "execution_count": null,
   "id": "1570a27e",
   "metadata": {},
   "outputs": [],
   "source": [
    "alt.Chart(bike).mark_point().encode(\n",
    "    x='temp',\n",
    "    y='hum',\n",
    "    color='season'\n",
    ")"
   ]
  },
  {
   "cell_type": "code",
   "execution_count": null,
   "id": "6e8e6e17",
   "metadata": {},
   "outputs": [],
   "source": [
    "alt.Chart(bike).mark_point().encode(\n",
    "    x='temp',\n",
    "    y='hum',\n",
    "    shape='season'\n",
    ")"
   ]
  },
  {
   "cell_type": "code",
   "execution_count": null,
   "id": "abae87ef",
   "metadata": {},
   "outputs": [],
   "source": [
    "alt.Chart(bike).mark_circle().encode(\n",
    "    x='temp',\n",
    "    y='hum',\n",
    "    color='cnt'\n",
    ")"
   ]
  },
  {
   "cell_type": "code",
   "execution_count": null,
   "id": "4e7e5c68",
   "metadata": {},
   "outputs": [],
   "source": [
    "alt.Chart(bike).mark_point().encode(\n",
    "    x='temp',\n",
    "    y='hum',\n",
    "    size='cnt'\n",
    ")"
   ]
  },
  {
   "cell_type": "markdown",
   "id": "87de41e6",
   "metadata": {},
   "source": [
    "#### Strip plot\n",
    "\n",
    "We can explicitly set the sorted order for the seasons."
   ]
  },
  {
   "cell_type": "code",
   "execution_count": null,
   "id": "2509bd3b",
   "metadata": {},
   "outputs": [],
   "source": [
    "alt.Chart(bike).mark_tick().encode(\n",
    "    x='temp',\n",
    "    y=alt.Y('season').sort(['WINTER', 'SPRING', 'SUMMER', 'FALL']),\n",
    ")"
   ]
  },
  {
   "cell_type": "markdown",
   "id": "8c1723f5",
   "metadata": {},
   "source": [
    "#### 2D Histogram"
   ]
  },
  {
   "cell_type": "code",
   "execution_count": null,
   "id": "d099127a",
   "metadata": {},
   "outputs": [],
   "source": [
    "alt.Chart(bike).mark_circle().encode(\n",
    "    x=alt.X('temp').bin(),\n",
    "    y=alt.Y('hum').bin(),\n",
    "    size='average(cnt)',\n",
    ")"
   ]
  },
  {
   "cell_type": "markdown",
   "id": "7613d7be",
   "metadata": {},
   "source": [
    "#### Adjacency Matrix\n",
    "\n",
    "We can use `.properties()` to set top-level properties, like the width and height of the chart."
   ]
  },
  {
   "cell_type": "code",
   "execution_count": null,
   "id": "1e7f47b2",
   "metadata": {},
   "outputs": [],
   "source": [
    "alt.Chart(bike).mark_rect().encode(\n",
    "    x='season',\n",
    "    y='weathersit',\n",
    "    color='average(cnt)',\n",
    ").properties(\n",
    "    width=200,\n",
    "    height=200\n",
    ")"
   ]
  },
  {
   "cell_type": "code",
   "execution_count": null,
   "id": "b35d1bf2",
   "metadata": {},
   "outputs": [],
   "source": [
    "alt.Chart(bike).mark_circle().encode(\n",
    "    x='season',\n",
    "    y='weathersit',\n",
    "    size='average(cnt)',\n",
    ")"
   ]
  },
  {
   "cell_type": "markdown",
   "id": "9ae1444f",
   "metadata": {},
   "source": [
    "Note that changing the plot dimensions does not change the size of the circles automatically."
   ]
  },
  {
   "cell_type": "code",
   "execution_count": null,
   "id": "59dcce0e",
   "metadata": {},
   "outputs": [],
   "source": [
    "alt.Chart(bike).mark_circle().encode(\n",
    "    x='season',\n",
    "    y='weathersit',\n",
    "    size='average(cnt)',\n",
    ").properties(\n",
    "    width=200,\n",
    "    height=150\n",
    ")"
   ]
  },
  {
   "cell_type": "markdown",
   "id": "f3175919",
   "metadata": {},
   "source": [
    "To do that, we can set the width and height of the chart based on the step of the scales. Now the chart is 200 pixels wide (4 * 50, for the four seasons) and 150 pixels tall (3 * 50, for the three weather situations)."
   ]
  },
  {
   "cell_type": "code",
   "execution_count": null,
   "id": "2c2e23c5",
   "metadata": {},
   "outputs": [],
   "source": [
    "alt.Chart(bike).mark_circle().encode(\n",
    "    x='season',\n",
    "    y='weathersit',\n",
    "    size='average(cnt)',\n",
    ").properties(\n",
    "    width=alt.Step(50),\n",
    "    height=alt.Step(50)\n",
    ")"
   ]
  },
  {
   "cell_type": "markdown",
   "id": "5927e0ac",
   "metadata": {},
   "source": [
    "#### Line and area charts"
   ]
  },
  {
   "cell_type": "code",
   "execution_count": null,
   "id": "6092cea2",
   "metadata": {},
   "outputs": [],
   "source": [
    "alt.Chart(bike).mark_line().encode(\n",
    "    x='days_since_2011',\n",
    "    y='cnt'\n",
    ")"
   ]
  },
  {
   "cell_type": "markdown",
   "id": "d1df6c5c",
   "metadata": {},
   "source": [
    "For more complex aggregations, like rolling windows, you [can](https://altair-viz.github.io/user_guide/transform/window.html#user-guide-window-transform) do them directly in Altair, but it's probably easier to just do it in pandas."
   ]
  },
  {
   "cell_type": "code",
   "execution_count": null,
   "id": "a877674e",
   "metadata": {},
   "outputs": [],
   "source": [
    "bike_rolling_avg = bike.rolling(on='days_since_2011', window=7)['cnt'].mean().reset_index()"
   ]
  },
  {
   "cell_type": "code",
   "execution_count": null,
   "id": "477f2b82",
   "metadata": {},
   "outputs": [],
   "source": [
    "alt.Chart(bike_rolling_avg).mark_line().encode(\n",
    "    x='index',\n",
    "    y='cnt'\n",
    ")"
   ]
  },
  {
   "cell_type": "markdown",
   "id": "942f66c0",
   "metadata": {},
   "source": [
    "We can replace `mark_line` with `mark_area` to get an area plot."
   ]
  },
  {
   "cell_type": "code",
   "execution_count": null,
   "id": "b2ea3e66",
   "metadata": {},
   "outputs": [],
   "source": [
    "alt.Chart(bike_rolling_avg).mark_area().encode(\n",
    "    x='index',\n",
    "    y='cnt'\n",
    ")"
   ]
  },
  {
   "cell_type": "code",
   "execution_count": null,
   "id": "22bf96ee",
   "metadata": {},
   "outputs": [],
   "source": [
    "months = bike['mnth'].unique()\n",
    "months"
   ]
  },
  {
   "cell_type": "markdown",
   "id": "72eb0080",
   "metadata": {},
   "source": [
    "For `mark_line`, adding a color encoding will create multiple lines. Note that when setting the encoding for color, we have to correct the type for year."
   ]
  },
  {
   "cell_type": "code",
   "execution_count": null,
   "id": "42343359",
   "metadata": {},
   "outputs": [],
   "source": [
    "alt.Chart(bike).mark_line().encode(\n",
    "    x=alt.X('mnth').sort(months),\n",
    "    y='median(cnt)',\n",
    "    color='yr:N'\n",
    ")"
   ]
  },
  {
   "cell_type": "markdown",
   "id": "96e4fab3",
   "metadata": {},
   "source": [
    "For `mark_area`, adding a color encoding will create stacked areas."
   ]
  },
  {
   "cell_type": "code",
   "execution_count": null,
   "id": "7a8a7187",
   "metadata": {},
   "outputs": [],
   "source": [
    "alt.Chart(bike).mark_area().encode(\n",
    "    x=alt.X('mnth').sort(months),\n",
    "    y='median(cnt)',\n",
    "    color='yr:N'\n",
    ")"
   ]
  },
  {
   "cell_type": "markdown",
   "id": "6422d580",
   "metadata": {},
   "source": [
    "We can use the order channel to specify how the layers are ordered."
   ]
  },
  {
   "cell_type": "code",
   "execution_count": null,
   "id": "1fcf1a1c",
   "metadata": {},
   "outputs": [],
   "source": [
    "alt.Chart(bike).mark_area().encode(\n",
    "    x=alt.X('mnth').sort(months),\n",
    "    y='median(cnt)',\n",
    "    color='yr:N',\n",
    "    order='yr'\n",
    ")"
   ]
  },
  {
   "cell_type": "markdown",
   "id": "eaa7e96c",
   "metadata": {},
   "source": [
    "We can use the stack property to make a normalized stacked area chart."
   ]
  },
  {
   "cell_type": "code",
   "execution_count": null,
   "id": "4e9bd982",
   "metadata": {},
   "outputs": [],
   "source": [
    "alt.Chart(bike).mark_area().encode(\n",
    "    x=alt.X('mnth').sort(months),\n",
    "    y=alt.Y('median(cnt)').stack('normalize'),\n",
    "    color='yr:N'\n",
    ")"
   ]
  },
  {
   "cell_type": "markdown",
   "id": "96f36dd2",
   "metadata": {},
   "source": [
    "#### Stacked Bar Chart"
   ]
  },
  {
   "cell_type": "code",
   "execution_count": null,
   "id": "348bd09f",
   "metadata": {},
   "outputs": [],
   "source": [
    "alt.Chart(bike).mark_bar().encode(\n",
    "    y='season',\n",
    "    x='count()',\n",
    "    color='weathersit'\n",
    ")"
   ]
  },
  {
   "cell_type": "code",
   "execution_count": null,
   "id": "ef52da8e",
   "metadata": {},
   "outputs": [],
   "source": [
    "alt.Chart(bike).mark_bar().encode(\n",
    "    y='season',\n",
    "    x=alt.X('count()').stack('normalize'),\n",
    "    color='weathersit'\n",
    ")"
   ]
  },
  {
   "cell_type": "markdown",
   "id": "5c2592ae",
   "metadata": {},
   "source": [
    "### Facets\n",
    "\n",
    "To create faceted charts or small multiples, we can use the `row` and `column` channels."
   ]
  },
  {
   "cell_type": "code",
   "execution_count": null,
   "id": "9bda6e10",
   "metadata": {},
   "outputs": [],
   "source": [
    "alt.Chart(bike).mark_bar().encode(\n",
    "    y='weathersit',\n",
    "    x='count()',\n",
    "    row='season'\n",
    ")"
   ]
  },
  {
   "cell_type": "code",
   "execution_count": null,
   "id": "0b1554fa",
   "metadata": {},
   "outputs": [],
   "source": [
    "alt.Chart(bike).mark_bar().encode(\n",
    "    x='weathersit',\n",
    "    y='count()',\n",
    "    column='season'\n",
    ")"
   ]
  },
  {
   "cell_type": "markdown",
   "id": "682243cc",
   "metadata": {},
   "source": [
    "Note that for faceted charts, the width and height properties set the size of one of the charts, not all of them together."
   ]
  },
  {
   "cell_type": "code",
   "execution_count": null,
   "id": "5ba8bf55",
   "metadata": {},
   "outputs": [],
   "source": [
    "alt.Chart(bike).mark_point().encode(\n",
    "    x='temp',\n",
    "    y='hum',\n",
    "    column='season',\n",
    "    row='weathersit'\n",
    ").properties(\n",
    "    width=150,\n",
    "    height=150\n",
    ")"
   ]
  },
  {
   "cell_type": "code",
   "execution_count": null,
   "id": "cd361fba",
   "metadata": {},
   "outputs": [],
   "source": [
    "alt.Chart(bike, width=150, height=150).mark_point().encode(\n",
    "    x='temp',\n",
    "    y='hum',\n",
    "    column='season',\n",
    ")"
   ]
  },
  {
   "cell_type": "markdown",
   "id": "5c9449f1",
   "metadata": {},
   "source": [
    "If we want to wrap a facet across multiple rows, then we can use the facet channel."
   ]
  },
  {
   "cell_type": "code",
   "execution_count": null,
   "id": "2b872bee",
   "metadata": {},
   "outputs": [],
   "source": [
    "alt.Chart(bike).mark_point().encode(\n",
    "    x='temp',\n",
    "    y='hum',\n",
    "    facet=alt.Facet('season').columns(2)\n",
    ").properties(\n",
    "    width=150,\n",
    "    height=150,\n",
    ")"
   ]
  },
  {
   "cell_type": "markdown",
   "id": "f22e22c1",
   "metadata": {},
   "source": [
    "### Concatenation and Layers\n",
    "\n",
    "We can use the plus sign (+) to layer one chart over another."
   ]
  },
  {
   "cell_type": "code",
   "execution_count": null,
   "id": "5f8f6fa7",
   "metadata": {},
   "outputs": [],
   "source": [
    "base = alt.Chart(bike).encode(\n",
    "    x=alt.X('mnth').sort(months),\n",
    "    y='median(cnt)',\n",
    "    color='yr:N'\n",
    ")"
   ]
  },
  {
   "cell_type": "code",
   "execution_count": null,
   "id": "de4e40d2",
   "metadata": {},
   "outputs": [],
   "source": [
    "base.mark_line()"
   ]
  },
  {
   "cell_type": "code",
   "execution_count": null,
   "id": "1268b1b3",
   "metadata": {},
   "outputs": [],
   "source": [
    "base.mark_circle()"
   ]
  },
  {
   "cell_type": "code",
   "execution_count": null,
   "id": "20b35ef9",
   "metadata": {},
   "outputs": [],
   "source": [
    "base.mark_line() + base.mark_circle()"
   ]
  },
  {
   "cell_type": "markdown",
   "id": "766edac1",
   "metadata": {},
   "source": [
    "*Practice*\n",
    "\n",
    "Make a [lollipop chart](https://datavizproject.com/data-type/lollipop-chart/) that shows the median count for each month."
   ]
  },
  {
   "cell_type": "code",
   "execution_count": null,
   "id": "e84ebad5",
   "metadata": {},
   "outputs": [],
   "source": []
  },
  {
   "cell_type": "markdown",
   "id": "d966697c",
   "metadata": {},
   "source": [
    "We can use the pipe (|) to horizontally concatenate charts."
   ]
  },
  {
   "cell_type": "code",
   "execution_count": null,
   "id": "c9d46b80",
   "metadata": {},
   "outputs": [],
   "source": [
    "base = alt.Chart(bike)\n",
    "\n",
    "scatter = base.mark_point().encode(\n",
    "    x='temp',\n",
    "    y='hum'\n",
    ")\n",
    "\n",
    "bar = base.mark_bar().encode(\n",
    "    y='count()',\n",
    "    x='weathersit'\n",
    ")\n",
    "\n",
    "scatter | bar"
   ]
  },
  {
   "cell_type": "markdown",
   "id": "1f609015",
   "metadata": {},
   "source": [
    "We can use an ampersand (&) to vertically concatenate charts."
   ]
  },
  {
   "cell_type": "code",
   "execution_count": null,
   "id": "7a887427",
   "metadata": {},
   "outputs": [],
   "source": [
    "scatter & bar"
   ]
  },
  {
   "cell_type": "markdown",
   "id": "c8586afe",
   "metadata": {},
   "source": [
    "We can use both together, such as to show marginal distributions."
   ]
  },
  {
   "cell_type": "code",
   "execution_count": null,
   "id": "0ce181c4",
   "metadata": {},
   "outputs": [],
   "source": [
    "base = alt.Chart(bike)\n",
    "\n",
    "scatter = base.mark_point().encode(\n",
    "    x='temp',\n",
    "    y='hum'\n",
    ")\n",
    "\n",
    "right_ticks = base.mark_tick().encode(\n",
    "    y=alt.Y('hum').axis(None),\n",
    "    opacity=alt.value(0.2)\n",
    ")\n",
    "\n",
    "top_ticks = base.mark_tick(opacity=0.2).encode(\n",
    "    x=alt.X('temp').axis(None)\n",
    ")\n",
    "\n",
    "top_ticks & (scatter | right_ticks)"
   ]
  },
  {
   "cell_type": "markdown",
   "id": "65cdd740",
   "metadata": {},
   "source": [
    "### Customization\n",
    "\n",
    "#### Dimensions"
   ]
  },
  {
   "cell_type": "code",
   "execution_count": null,
   "id": "ab0eebd4",
   "metadata": {},
   "outputs": [],
   "source": [
    "alt.Chart(bike).mark_point().encode(\n",
    "    x='temp',\n",
    "    y='hum'\n",
    ").properties(\n",
    "    width=500,\n",
    "    height=500\n",
    ")"
   ]
  },
  {
   "cell_type": "markdown",
   "id": "6c4cdb22",
   "metadata": {},
   "source": [
    "#### Mark properties"
   ]
  },
  {
   "cell_type": "code",
   "execution_count": null,
   "id": "04109be8",
   "metadata": {},
   "outputs": [],
   "source": [
    "alt.Chart(bike).mark_point(opacity=0.25).encode(\n",
    "    x='temp',\n",
    "    y='hum',\n",
    "    color=alt.value('red')\n",
    ")"
   ]
  },
  {
   "cell_type": "markdown",
   "id": "7eb59972",
   "metadata": {},
   "source": [
    "#### Labels"
   ]
  },
  {
   "cell_type": "code",
   "execution_count": null,
   "id": "296b1532",
   "metadata": {},
   "outputs": [],
   "source": [
    "alt.Chart(bike).mark_point().encode(\n",
    "    x=alt.X('temp').title('Temperature'),\n",
    "    y=alt.Y('hum').title('Humidity')\n",
    ").properties(\n",
    "    title='Temperature vs. Humidity'\n",
    ")"
   ]
  },
  {
   "cell_type": "markdown",
   "id": "d50f3625",
   "metadata": {},
   "source": [
    "#### Axes"
   ]
  },
  {
   "cell_type": "code",
   "execution_count": null,
   "id": "cf2149bc",
   "metadata": {},
   "outputs": [],
   "source": [
    "alt.Chart(bike).mark_point().encode(\n",
    "    x=alt.X('temp').axis(grid=False),\n",
    "    y=alt.Y('hum').axis(format='.2f')\n",
    ")"
   ]
  },
  {
   "cell_type": "markdown",
   "id": "05df11ab",
   "metadata": {},
   "source": [
    "#### Scales"
   ]
  },
  {
   "cell_type": "code",
   "execution_count": null,
   "id": "41cd8c3c",
   "metadata": {},
   "outputs": [],
   "source": [
    "alt.Chart(bike).mark_bar().encode(\n",
    "    x=alt.X('mnth').sort(months).scale(padding=0.5),\n",
    "    y=alt.Y('average(cnt)').scale(type='log')\n",
    ")"
   ]
  },
  {
   "cell_type": "code",
   "execution_count": null,
   "id": "99536db7",
   "metadata": {},
   "outputs": [],
   "source": [
    "alt.Chart(bike).mark_point().encode(\n",
    "    x=alt.X('temp').scale(nice=False),\n",
    "    y=alt.Y('hum').scale(nice=False)\n",
    ")"
   ]
  },
  {
   "cell_type": "code",
   "execution_count": null,
   "id": "9bf6ae68",
   "metadata": {},
   "outputs": [],
   "source": [
    "alt.Chart(bike).mark_line().encode(\n",
    "    x=alt.X('mnth').sort(months),\n",
    "    y=alt.Y('median(cnt)').scale(zero=False),\n",
    "    color='yr:N'\n",
    ")"
   ]
  },
  {
   "cell_type": "markdown",
   "id": "6e8e8094",
   "metadata": {},
   "source": [
    "Here are the included [color schemes](https://vega.github.io/vega/docs/schemes/#reference)."
   ]
  },
  {
   "cell_type": "code",
   "execution_count": null,
   "id": "0d25588e",
   "metadata": {},
   "outputs": [],
   "source": [
    "alt.Chart(bike).mark_circle().encode(\n",
    "    x='temp',\n",
    "    y='hum',\n",
    "    color=alt.Color('cnt').scale(scheme='viridis')\n",
    ")"
   ]
  },
  {
   "cell_type": "code",
   "execution_count": null,
   "id": "29914b1a",
   "metadata": {},
   "outputs": [],
   "source": [
    "alt.Chart(bike).mark_circle().encode(\n",
    "    x='temp',\n",
    "    y='hum',\n",
    "    color=alt.Color('cnt').scale(scheme='brownbluegreen', domainMid=bike['cnt'].median(), reverse=True)\n",
    ")"
   ]
  },
  {
   "cell_type": "markdown",
   "id": "8ca8e20a",
   "metadata": {},
   "source": [
    "We can also specify our own custom color scheme."
   ]
  },
  {
   "cell_type": "code",
   "execution_count": null,
   "id": "fe9f7208",
   "metadata": {},
   "outputs": [],
   "source": [
    "alt.Chart(bike).mark_point().encode(\n",
    "    x='temp',\n",
    "    y='hum',\n",
    "    color=alt.Color('season').scale(\n",
    "        domain=['WINTER', 'SPRING', 'SUMMER', 'FALL'],\n",
    "        range=['#264653', '#2A9D8F', '#E9C46A', '#F4A261']\n",
    "    )\n",
    ")"
   ]
  },
  {
   "cell_type": "markdown",
   "id": "e841d9bb",
   "metadata": {},
   "source": [
    "### Interaction"
   ]
  },
  {
   "cell_type": "markdown",
   "id": "2a52c4cd",
   "metadata": {},
   "source": [
    "Basic interaction can be achieved with `.interaction()` and by setting a tooltip."
   ]
  },
  {
   "cell_type": "code",
   "execution_count": null,
   "id": "7c5eacef",
   "metadata": {},
   "outputs": [],
   "source": [
    "alt.Chart(bike).mark_point().encode(\n",
    "    x='temp',\n",
    "    y='hum',\n",
    "    color='season',\n",
    "    tooltip=['temp', 'hum', 'season']\n",
    ").interactive()"
   ]
  },
  {
   "cell_type": "markdown",
   "id": "ae54fac9",
   "metadata": {},
   "source": [
    "We can also add brushing."
   ]
  },
  {
   "cell_type": "code",
   "execution_count": null,
   "id": "c9d861a8",
   "metadata": {},
   "outputs": [],
   "source": [
    "brush = alt.selection_interval()\n",
    "\n",
    "alt.Chart(bike).mark_point().encode(\n",
    "    x='temp',\n",
    "    y='hum',\n",
    "    color=alt.condition(brush, 'season', alt.value('#dddddd')),\n",
    ").add_params(\n",
    "    brush\n",
    ")"
   ]
  },
  {
   "cell_type": "code",
   "execution_count": null,
   "id": "bed8d7e6",
   "metadata": {},
   "outputs": [],
   "source": [
    "brush = alt.selection_interval()\n",
    "\n",
    "base = alt.Chart(bike).mark_point().encode(\n",
    "    color=alt.condition(brush, 'season', alt.value('#dddddd')),\n",
    ").add_params(\n",
    "    brush\n",
    ").properties(\n",
    "    width=350,\n",
    "    height=350\n",
    ")\n",
    "\n",
    "base.encode(x='temp', y='hum') | base.encode(x='windspeed', y='cnt')"
   ]
  },
  {
   "cell_type": "markdown",
   "id": "825044b1",
   "metadata": {},
   "source": [
    "Previously we had this static chart."
   ]
  },
  {
   "cell_type": "code",
   "execution_count": null,
   "id": "1c55100b",
   "metadata": {},
   "outputs": [],
   "source": [
    "base = alt.Chart(bike)\n",
    "\n",
    "scatter = base.mark_point().encode(\n",
    "    x='temp',\n",
    "    y='hum'\n",
    ")\n",
    "\n",
    "bar = base.mark_bar().encode(\n",
    "    y='count()',\n",
    "    x='weathersit'\n",
    ")\n",
    "\n",
    "scatter | bar"
   ]
  },
  {
   "cell_type": "markdown",
   "id": "602f3093",
   "metadata": {},
   "source": [
    "We can use brushing to make it interactive."
   ]
  },
  {
   "cell_type": "code",
   "execution_count": null,
   "id": "fdddf54f",
   "metadata": {
    "scrolled": false
   },
   "outputs": [],
   "source": [
    "brush = alt.selection_interval()\n",
    "\n",
    "scatter = alt.Chart(bike).mark_point().encode(\n",
    "    x='temp',\n",
    "    y='hum',\n",
    "    color=alt.condition(brush, alt.value('steelblue'), alt.value('#dddddd'))\n",
    ").add_params(brush)\n",
    "\n",
    "bar = alt.Chart(bike).mark_bar().encode(\n",
    "    y='count()',\n",
    "    x='weathersit'\n",
    ").transform_filter(\n",
    "    brush\n",
    ")\n",
    "\n",
    "scatter | bar"
   ]
  },
  {
   "cell_type": "markdown",
   "id": "c67bf278",
   "metadata": {},
   "source": [
    "### Practice"
   ]
  },
  {
   "cell_type": "code",
   "execution_count": null,
   "id": "c41f2049",
   "metadata": {},
   "outputs": [],
   "source": [
    "from vega_datasets import data\n",
    "cars = data.cars()\n",
    "cars.head()"
   ]
  },
  {
   "cell_type": "markdown",
   "id": "555c5baf",
   "metadata": {},
   "source": [
    "What's the relationship between Miles_per_Gallon, Horsepower, and Cylinders?"
   ]
  },
  {
   "cell_type": "code",
   "execution_count": null,
   "id": "9451c3f6",
   "metadata": {},
   "outputs": [],
   "source": []
  },
  {
   "cell_type": "markdown",
   "id": "4ad78d57",
   "metadata": {},
   "source": [
    "How many cars are there from each origin?"
   ]
  },
  {
   "cell_type": "code",
   "execution_count": null,
   "id": "f27f9d72",
   "metadata": {},
   "outputs": [],
   "source": []
  },
  {
   "cell_type": "markdown",
   "id": "f4dec56e",
   "metadata": {},
   "source": [
    "How many cars are there from each origin for each number of cylinders?"
   ]
  },
  {
   "cell_type": "code",
   "execution_count": null,
   "id": "f0393bfd",
   "metadata": {},
   "outputs": [],
   "source": []
  },
  {
   "cell_type": "markdown",
   "id": "0d50ce5d",
   "metadata": {},
   "source": [
    "..."
   ]
  },
  {
   "cell_type": "code",
   "execution_count": null,
   "id": "e958b171",
   "metadata": {},
   "outputs": [],
   "source": []
  }
 ],
 "metadata": {
  "kernelspec": {
   "display_name": "Python 3 (ipykernel)",
   "language": "python",
   "name": "python3"
  },
  "language_info": {
   "codemirror_mode": {
    "name": "ipython",
    "version": 3
   },
   "file_extension": ".py",
   "mimetype": "text/x-python",
   "name": "python",
   "nbconvert_exporter": "python",
   "pygments_lexer": "ipython3",
   "version": "3.10.13"
  }
 },
 "nbformat": 4,
 "nbformat_minor": 5
}
