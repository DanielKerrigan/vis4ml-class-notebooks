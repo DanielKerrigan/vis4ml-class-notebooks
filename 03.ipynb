{
 "cells": [
  {
   "cell_type": "markdown",
   "id": "f7faaed8",
   "metadata": {},
   "source": [
    "# 03: Projections\n",
    "\n",
    "It's hard to visualize high-dimensional data. There's a limited number of channels that we can use at once to encode the dimensions. One approach is to project the high-dimensional data into fewer dimensions, often 2. There are many techniques for doing this, such as t-SNE, UMAP, PCA, and locally linear embeddings. Let's see how projections can be useful for exploring machine learning datasets and model predictions.\n",
    "\n",
    "## Imports"
   ]
  },
  {
   "cell_type": "code",
   "execution_count": null,
   "id": "2fcdad40",
   "metadata": {},
   "outputs": [],
   "source": [
    "# If you're running this on colab, then you can uncomment the below command to\n",
    "# install the pmlb library.\n",
    "# !pip install pmlb"
   ]
  },
  {
   "cell_type": "code",
   "execution_count": null,
   "id": "83fb0a9e",
   "metadata": {},
   "outputs": [],
   "source": [
    "import altair as alt\n",
    "import numpy as np\n",
    "import pandas as pd\n",
    "import pmlb\n",
    "from itertools import product\n",
    "\n",
    "from sklearn.model_selection import train_test_split, GridSearchCV\n",
    "from sklearn.ensemble import RandomForestClassifier\n",
    "from sklearn.manifold import TSNE\n",
    "from sklearn.datasets import load_digits\n",
    "\n",
    "\n",
    "from io import BytesIO\n",
    "import base64\n",
    "from PIL import Image"
   ]
  },
  {
   "cell_type": "code",
   "execution_count": null,
   "id": "09ce258e",
   "metadata": {},
   "outputs": [],
   "source": [
    "# If you're running this code locally, then you can uncomment this to automatically\n",
    "# save the chart data in files, rather than including the data in the spec. \n",
    "\n",
    "# !mkdir -p data\n",
    "# alt.data_transformers.enable('json', prefix='data/altair-data')"
   ]
  },
  {
   "cell_type": "markdown",
   "id": "ea058baa",
   "metadata": {},
   "source": [
    "## Data Preparation and t-SNE\n",
    "\n",
    "Load the dataset and take a random sample of it."
   ]
  },
  {
   "cell_type": "code",
   "execution_count": null,
   "id": "30db205c",
   "metadata": {},
   "outputs": [],
   "source": [
    "mnist = pmlb.fetch_data('mnist')"
   ]
  },
  {
   "cell_type": "code",
   "execution_count": null,
   "id": "7c02ca31",
   "metadata": {},
   "outputs": [],
   "source": [
    "mnist_small = mnist.sample(n=5000)"
   ]
  },
  {
   "cell_type": "markdown",
   "id": "7ddc5fc1",
   "metadata": {},
   "source": [
    "Separate the feature values from the target labels. Split the dataset into train and test sets."
   ]
  },
  {
   "cell_type": "code",
   "execution_count": null,
   "id": "79164ea4",
   "metadata": {},
   "outputs": [],
   "source": [
    "X = mnist_small.drop(columns=['target'])\n",
    "y = mnist_small['target'].values"
   ]
  },
  {
   "cell_type": "code",
   "execution_count": null,
   "id": "a7739c16",
   "metadata": {},
   "outputs": [],
   "source": [
    "X_train, X_test, y_train, y_test = train_test_split(X, y, test_size=0.5)"
   ]
  },
  {
   "cell_type": "markdown",
   "id": "ef515e0e",
   "metadata": {},
   "source": [
    "Create 2D projections of the dataset."
   ]
  },
  {
   "cell_type": "code",
   "execution_count": null,
   "id": "b26fc24d",
   "metadata": {},
   "outputs": [],
   "source": [
    "tsne = TSNE(n_components=2, learning_rate='auto', init='random', perplexity=3)\n",
    "X_train_embedded = tsne.fit_transform(X_train)\n",
    "X_test_embedded = tsne.fit_transform(X_test)"
   ]
  },
  {
   "cell_type": "markdown",
   "id": "07c17835",
   "metadata": {},
   "source": [
    "Create a [data URL](https://developer.mozilla.org/en-US/docs/Web/HTTP/Basics_of_HTTP/Data_URLs) for each image \\[[1](https://stackoverflow.com/a/70751215/5016634)\\]."
   ]
  },
  {
   "cell_type": "code",
   "execution_count": null,
   "id": "1c27a991",
   "metadata": {},
   "outputs": [],
   "source": [
    "def encode_images(matrix, prefix):\n",
    "    paths = []\n",
    "    \n",
    "    for i, row in enumerate(matrix):\n",
    "        d = int(np.sqrt(len(row)))\n",
    "        matrix = row.reshape((d, d)).astype(np.uint8)\n",
    "        \n",
    "        img = Image.fromarray(matrix)\n",
    "        \n",
    "        with BytesIO() as buffer:\n",
    "            img.save(buffer, 'png')\n",
    "            data = base64.encodebytes(buffer.getvalue()).decode('utf-8')\n",
    "            \n",
    "        \n",
    "        paths.append(f'data:image/png;base64,{data}')\n",
    "        \n",
    "    return paths"
   ]
  },
  {
   "cell_type": "code",
   "execution_count": null,
   "id": "5f9a36ee",
   "metadata": {},
   "outputs": [],
   "source": [
    "!mkdir -p digits\n",
    "\n",
    "images_train = encode_images(X_train.values, 'train')\n",
    "images_test = encode_images(X_test.values, 'test')"
   ]
  },
  {
   "cell_type": "markdown",
   "id": "23552688",
   "metadata": {},
   "source": [
    "Prepare the data frames for visualizaiton."
   ]
  },
  {
   "cell_type": "code",
   "execution_count": null,
   "id": "18e6f02f",
   "metadata": {},
   "outputs": [],
   "source": [
    "df_train = pd.DataFrame(X_train_embedded, columns=['x-tsne', 'y-tsne'])\n",
    "df_train['target'] = y_train\n",
    "df_train['image'] = images_train\n",
    "\n",
    "df_train.head()"
   ]
  },
  {
   "cell_type": "code",
   "execution_count": null,
   "id": "4089e9f1",
   "metadata": {},
   "outputs": [],
   "source": [
    "df_test = pd.DataFrame(X_test_embedded, columns=['x-tsne', 'y-tsne'])\n",
    "df_test['target'] = y_test\n",
    "df_test['image'] = images_test\n",
    "\n",
    "df_test.head()"
   ]
  },
  {
   "cell_type": "markdown",
   "id": "7990fd01",
   "metadata": {},
   "source": [
    "## Visualizing Training Data\n",
    "\n",
    "**Exercise 1:** Create a scatterplot of the projection in `df_train`. What would make this scatterplot more useful?"
   ]
  },
  {
   "cell_type": "code",
   "execution_count": null,
   "id": "f27aab50",
   "metadata": {
    "scrolled": false
   },
   "outputs": [],
   "source": []
  },
  {
   "cell_type": "markdown",
   "id": "44e38237",
   "metadata": {},
   "source": [
    "**Exercise 2:** Replace the circles with digits. Is this effective?"
   ]
  },
  {
   "cell_type": "code",
   "execution_count": null,
   "id": "0077621d",
   "metadata": {},
   "outputs": [],
   "source": []
  },
  {
   "cell_type": "markdown",
   "id": "9c428a8f",
   "metadata": {},
   "source": [
    "**Exercise 3:** Color the circles by their target label. Make the scatterplot support panning and zooming. Do you notice anything interesting? What would make this visualization more useful?"
   ]
  },
  {
   "cell_type": "code",
   "execution_count": null,
   "id": "3cba40f5",
   "metadata": {},
   "outputs": [],
   "source": []
  },
  {
   "cell_type": "markdown",
   "id": "5b252c8a",
   "metadata": {},
   "source": [
    "**Exercise 4:** Add a tooltip to the visualization that shows the image and the target label. Does this lead to any interesting findings?"
   ]
  },
  {
   "cell_type": "code",
   "execution_count": null,
   "id": "dea4de26",
   "metadata": {},
   "outputs": [],
   "source": []
  },
  {
   "cell_type": "markdown",
   "id": "34d6afcd",
   "metadata": {},
   "source": [
    "**Exercise 5:** Follow this [example](https://altair-viz.github.io/user_guide/marks.html#image-mark) of the `mark_image` to create a scatterplot that shows the images rather than circles. You'll likely only want to show a subset of the data. Do you find this visualization more or less useful than the previous one?"
   ]
  },
  {
   "cell_type": "code",
   "execution_count": null,
   "id": "b5b1d294",
   "metadata": {
    "scrolled": false
   },
   "outputs": [],
   "source": []
  },
  {
   "cell_type": "markdown",
   "id": "fb464d23",
   "metadata": {},
   "source": [
    "Let's add another projection to compare to t-SNE."
   ]
  },
  {
   "cell_type": "code",
   "execution_count": null,
   "id": "72155765",
   "metadata": {},
   "outputs": [],
   "source": [
    "from sklearn.decomposition import PCA\n",
    "\n",
    "pca = PCA(n_components=2)\n",
    "X_train_pca = pca.fit_transform(X_train)\n",
    "\n",
    "df_train['x-pca'] = X_train_pca[:,0]\n",
    "df_train['y-pca'] = X_train_pca[:,1]"
   ]
  },
  {
   "cell_type": "markdown",
   "id": "3024dbb6",
   "metadata": {},
   "source": [
    "**Exercise 6:** Create side-by-side scatterplots for the t-SNE projection and the PCA projection."
   ]
  },
  {
   "cell_type": "code",
   "execution_count": null,
   "id": "7b61f58e",
   "metadata": {},
   "outputs": [],
   "source": []
  },
  {
   "cell_type": "markdown",
   "id": "509404f5",
   "metadata": {},
   "source": [
    "**Exercise 7:** Add a brush selection to the scatterplots so that selecting points in one of the scatterplots highlights them in the other."
   ]
  },
  {
   "cell_type": "code",
   "execution_count": null,
   "id": "fd239206",
   "metadata": {},
   "outputs": [],
   "source": []
  },
  {
   "cell_type": "markdown",
   "id": "0401324e",
   "metadata": {},
   "source": [
    "## Modeling\n",
    "\n",
    "**Exercise 8:** Train a model on this dataset. You can use [scikit-learn](https://scikit-learn.org/stable/) or any library of your choosing. Save the predictions on the test dataset in `df_test`."
   ]
  },
  {
   "cell_type": "code",
   "execution_count": null,
   "id": "d9ec6398",
   "metadata": {},
   "outputs": [],
   "source": []
  },
  {
   "cell_type": "markdown",
   "id": "70d6e0a9",
   "metadata": {},
   "source": [
    "**Exercise 9:** Create a confusion matrix. What are the most common mistakes that the model makes?"
   ]
  },
  {
   "cell_type": "code",
   "execution_count": null,
   "id": "bf9b7b6f",
   "metadata": {},
   "outputs": [],
   "source": []
  },
  {
   "cell_type": "markdown",
   "id": "fcfaa0cb",
   "metadata": {},
   "source": [
    "**Exercise 10:** Create a scatterplot that shows the t-SNE projection of the test data. How can the scatteplot be made useful for exploring incorrectly classified points? Can you show which points were correctly classified vs. incorrectly classified? Can you provide a way for the user to see both the target and predicted labels?"
   ]
  },
  {
   "cell_type": "code",
   "execution_count": null,
   "id": "03643260",
   "metadata": {},
   "outputs": [],
   "source": []
  }
 ],
 "metadata": {
  "kernelspec": {
   "display_name": "Python 3 (ipykernel)",
   "language": "python",
   "name": "python3"
  },
  "language_info": {
   "codemirror_mode": {
    "name": "ipython",
    "version": 3
   },
   "file_extension": ".py",
   "mimetype": "text/x-python",
   "name": "python",
   "nbconvert_exporter": "python",
   "pygments_lexer": "ipython3",
   "version": "3.10.6"
  }
 },
 "nbformat": 4,
 "nbformat_minor": 5
}
