{
 "cells": [
  {
   "cell_type": "markdown",
   "id": "f7faaed8",
   "metadata": {},
   "source": [
    "# 03: Projections\n",
    "\n",
    "It's hard to visualize high-dimensional data. There's a limited number of channels that we can use at once to encode the dimensions. One approach is to project the high-dimensional data into fewer dimensions, often 2. There are many techniques for doing this, such as t-SNE, UMAP, PCA, and locally linear embeddings. Let's see how projections can be useful for exploring machine learning datasets and model predictions.\n",
    "\n",
    "## Imports"
   ]
  },
  {
   "cell_type": "code",
   "execution_count": null,
   "id": "2fcdad40",
   "metadata": {},
   "outputs": [],
   "source": [
    "# If you're running this on colab, then you can uncomment the below command to\n",
    "# install the pmlb library.\n",
    "# !pip install pmlb"
   ]
  },
  {
   "cell_type": "code",
   "execution_count": null,
   "id": "83fb0a9e",
   "metadata": {},
   "outputs": [],
   "source": [
    "import altair as alt\n",
    "import numpy as np\n",
    "import pandas as pd\n",
    "import pmlb\n",
    "from itertools import product\n",
    "\n",
    "from sklearn.model_selection import train_test_split, GridSearchCV\n",
    "from sklearn.ensemble import RandomForestClassifier\n",
    "from sklearn.manifold import TSNE\n",
    "from sklearn.datasets import load_digits\n",
    "\n",
    "from PIL import Image"
   ]
  },
  {
   "cell_type": "code",
   "execution_count": null,
   "id": "09ce258e",
   "metadata": {},
   "outputs": [],
   "source": [
    "# If you're running this code locally, then you can uncomment this to automatically\n",
    "# save the chart data in files, rather than including the data in the spec. \n",
    "\n",
    "!mkdir -p data\n",
    "alt.data_transformers.enable('json', prefix='data/altair-data')"
   ]
  },
  {
   "cell_type": "markdown",
   "id": "ea058baa",
   "metadata": {},
   "source": [
    "## Data Preparation and t-SNE\n",
    "\n",
    "Load the dataset and take a random sample of it."
   ]
  },
  {
   "cell_type": "code",
   "execution_count": null,
   "id": "30db205c",
   "metadata": {},
   "outputs": [],
   "source": [
    "mnist = pmlb.fetch_data('mnist')"
   ]
  },
  {
   "cell_type": "code",
   "execution_count": null,
   "id": "7c02ca31",
   "metadata": {},
   "outputs": [],
   "source": [
    "mnist_small = mnist.sample(n=5000)"
   ]
  },
  {
   "cell_type": "markdown",
   "id": "7ddc5fc1",
   "metadata": {},
   "source": [
    "Separate the feature values from the target labels. Split the dataset into train and test sets."
   ]
  },
  {
   "cell_type": "code",
   "execution_count": null,
   "id": "79164ea4",
   "metadata": {},
   "outputs": [],
   "source": [
    "X = mnist_small.drop(columns=['target'])\n",
    "y = mnist_small['target'].values"
   ]
  },
  {
   "cell_type": "code",
   "execution_count": null,
   "id": "a7739c16",
   "metadata": {},
   "outputs": [],
   "source": [
    "X_train, X_test, y_train, y_test = train_test_split(X, y, test_size=0.5)"
   ]
  },
  {
   "cell_type": "markdown",
   "id": "ef515e0e",
   "metadata": {},
   "source": [
    "Create 2D projections of the dataset."
   ]
  },
  {
   "cell_type": "code",
   "execution_count": null,
   "id": "b26fc24d",
   "metadata": {},
   "outputs": [],
   "source": [
    "tsne = TSNE(n_components=2, learning_rate='auto', init='random', perplexity=3)\n",
    "X_train_embedded = tsne.fit_transform(X_train)\n",
    "X_test_embedded = tsne.fit_transform(X_test)"
   ]
  },
  {
   "cell_type": "markdown",
   "id": "07c17835",
   "metadata": {},
   "source": [
    "Save the instances as image files."
   ]
  },
  {
   "cell_type": "code",
   "execution_count": null,
   "id": "1c27a991",
   "metadata": {},
   "outputs": [],
   "source": [
    "def save_images(matrix, prefix):\n",
    "    paths = []\n",
    "    \n",
    "    for i, row in enumerate(matrix):\n",
    "        path = f'digits/{prefix}-{i}.png'\n",
    "        \n",
    "        d = int(np.sqrt(len(row)))\n",
    "        \n",
    "        img = row.reshape((d, d)).astype(np.uint8)\n",
    "        \n",
    "        Image.fromarray(img).save(path)\n",
    "        paths.append(path)\n",
    "        \n",
    "    return paths"
   ]
  },
  {
   "cell_type": "code",
   "execution_count": null,
   "id": "5f9a36ee",
   "metadata": {},
   "outputs": [],
   "source": [
    "!mkdir -p digits\n",
    "\n",
    "images_train = save_images(X_train.values, 'train')\n",
    "images_test = save_images(X_test.values, 'test')"
   ]
  },
  {
   "cell_type": "markdown",
   "id": "23552688",
   "metadata": {},
   "source": [
    "Prepare the data frames for visualizaiton."
   ]
  },
  {
   "cell_type": "code",
   "execution_count": null,
   "id": "18e6f02f",
   "metadata": {},
   "outputs": [],
   "source": [
    "df_train = pd.DataFrame(X_train_embedded, columns=['x-tsne', 'y-tsne'])\n",
    "df_train['target'] = y_train\n",
    "df_train['image'] = images_train\n",
    "\n",
    "df_train.head()"
   ]
  },
  {
   "cell_type": "code",
   "execution_count": null,
   "id": "4089e9f1",
   "metadata": {},
   "outputs": [],
   "source": [
    "df_test = pd.DataFrame(X_test_embedded, columns=['x-tsne', 'y-tsne'])\n",
    "df_test['target'] = y_test\n",
    "df_test['image'] = images_test\n",
    "\n",
    "df_test.head()"
   ]
  },
  {
   "cell_type": "markdown",
   "id": "7990fd01",
   "metadata": {},
   "source": [
    "## Visualizing Training Data\n",
    "\n",
    "**Exercise 1:** Create a scatterplot of the projection in `df_train`. What would make this scatterplot more useful?"
   ]
  },
  {
   "cell_type": "code",
   "execution_count": null,
   "id": "f27aab50",
   "metadata": {
    "scrolled": false
   },
   "outputs": [],
   "source": [
    "alt.Chart(df_train).mark_circle().encode(\n",
    "    x='x-tsne',\n",
    "    y='y-tsne',\n",
    ")"
   ]
  },
  {
   "cell_type": "markdown",
   "id": "44e38237",
   "metadata": {},
   "source": [
    "**Exercise 2:** Replace the circles with digits. Is this effective?"
   ]
  },
  {
   "cell_type": "code",
   "execution_count": null,
   "id": "0077621d",
   "metadata": {},
   "outputs": [],
   "source": [
    "alt.Chart(df_train).mark_text().encode(\n",
    "    x='x-tsne',\n",
    "    y='y-tsne',\n",
    "    text='target'\n",
    ")"
   ]
  },
  {
   "cell_type": "markdown",
   "id": "9c428a8f",
   "metadata": {},
   "source": [
    "**Exercise 3:** Color the circles by their target label. Make the scatterplot support panning and zooming. Do you notice anything interesting? What would make this visualization more useful?"
   ]
  },
  {
   "cell_type": "code",
   "execution_count": null,
   "id": "3cba40f5",
   "metadata": {},
   "outputs": [],
   "source": [
    "alt.Chart(df_train).mark_circle().encode(\n",
    "    x='x-tsne',\n",
    "    y='y-tsne',\n",
    "    color='target:N'\n",
    ").interactive()"
   ]
  },
  {
   "cell_type": "markdown",
   "id": "5b252c8a",
   "metadata": {},
   "source": [
    "**Exercise 4:** Add a tooltip to the visualization that shows the image and the target label. Does this lead to any interesting findings?"
   ]
  },
  {
   "cell_type": "code",
   "execution_count": null,
   "id": "dea4de26",
   "metadata": {},
   "outputs": [],
   "source": [
    "alt.Chart(df_train).mark_circle().encode(\n",
    "    x='x-tsne',\n",
    "    y='y-tsne',\n",
    "    color='target:N',\n",
    "    tooltip=['image', 'target']\n",
    ").interactive()"
   ]
  },
  {
   "cell_type": "markdown",
   "id": "34d6afcd",
   "metadata": {},
   "source": [
    "**Exercise 5:** Follow this [example](https://altair-viz.github.io/user_guide/marks.html#image-mark) of the `mark_image` to create a scatterplot that shows the images rather than circles. You'll likely only want to show a subset of the data. Do you find this visualization more or less useful than the previous one?"
   ]
  },
  {
   "cell_type": "code",
   "execution_count": null,
   "id": "b5b1d294",
   "metadata": {
    "scrolled": false
   },
   "outputs": [],
   "source": [
    "alt.Chart(df_train.sample(500)).mark_image(width=14, height=14).encode(\n",
    "    x='x-tsne',\n",
    "    y='y-tsne',\n",
    "    url='image'\n",
    ").interactive()"
   ]
  },
  {
   "cell_type": "markdown",
   "id": "58c90371",
   "metadata": {},
   "source": [
    "Let's add another projection to compare to t-SNE."
   ]
  },
  {
   "cell_type": "code",
   "execution_count": null,
   "id": "5d9cefe6",
   "metadata": {},
   "outputs": [],
   "source": [
    "from sklearn.decomposition import PCA\n",
    "\n",
    "pca = PCA(n_components=2)\n",
    "X_train_pca = pca.fit_transform(X_train)\n",
    "\n",
    "df_train['x-pca'] = X_train_pca[:,0]\n",
    "df_train['y-pca'] = X_train_pca[:,1]"
   ]
  },
  {
   "cell_type": "code",
   "execution_count": null,
   "id": "9529dd36",
   "metadata": {},
   "outputs": [],
   "source": [
    "alt.Chart(df_train).mark_circle().encode(\n",
    "    x='x-pca',\n",
    "    y='y-pca',\n",
    "    color='target:N',\n",
    "    tooltip=['image', 'target']\n",
    ").interactive()"
   ]
  },
  {
   "cell_type": "markdown",
   "id": "a2019dbe",
   "metadata": {},
   "source": [
    "**Exercise 6:** Create side-by-side scatterplots for the t-SNE projection and the PCA projection."
   ]
  },
  {
   "cell_type": "code",
   "execution_count": null,
   "id": "60acc92d",
   "metadata": {},
   "outputs": [],
   "source": [
    "base = alt.Chart(df_train).mark_circle().encode(\n",
    "    color='target:N',\n",
    ").properties(\n",
    "    width=350,\n",
    "    height=350\n",
    ")\n",
    "\n",
    "base.encode(x='x-tsne', y='y-tsne') | base.encode(x='x-pca', y='y-pca')"
   ]
  },
  {
   "cell_type": "markdown",
   "id": "4447c9f1",
   "metadata": {},
   "source": [
    "**Exercise 7:** Add a brush selection to the scatterplots so that selecting points in one of the scatterplots highlights them in the other."
   ]
  },
  {
   "cell_type": "code",
   "execution_count": null,
   "id": "332da1bb",
   "metadata": {},
   "outputs": [],
   "source": [
    "brush = alt.selection_interval()\n",
    "\n",
    "base = alt.Chart(df_train).mark_circle().encode(\n",
    "    color=alt.condition(brush, 'target:N', alt.value('#dddddd')),\n",
    ").add_selection(\n",
    "    brush\n",
    ").properties(\n",
    "    width=350,\n",
    "    height=350\n",
    ")\n",
    "\n",
    "base.encode(x='x-tsne', y='y-tsne') | base.encode(x='x-pca', y='y-pca')"
   ]
  },
  {
   "cell_type": "markdown",
   "id": "0401324e",
   "metadata": {},
   "source": [
    "## Modeling\n",
    "\n",
    "**Exercise 8:** Train a model on this dataset. You can use [scikit-learn](https://scikit-learn.org/stable/) or any library of your choosing. Save the predictions on the test dataset in `df_test`."
   ]
  },
  {
   "cell_type": "code",
   "execution_count": null,
   "id": "5d71de71",
   "metadata": {},
   "outputs": [],
   "source": [
    "from sklearn.neighbors import KNeighborsClassifier"
   ]
  },
  {
   "cell_type": "code",
   "execution_count": null,
   "id": "d9ec6398",
   "metadata": {},
   "outputs": [],
   "source": [
    "param_grid = {\n",
    "    'n_neighbors': [2, 4, 8, 16, 32, 64, 128],\n",
    "    'weights': ['uniform', 'distance'],\n",
    "    'algorithm': ['ball_tree', 'kd_tree', 'brute'],\n",
    "    'p': [1, 2]\n",
    "}\n",
    "\n",
    "cv = GridSearchCV(estimator=KNeighborsClassifier(), param_grid=param_grid, scoring='accuracy', n_jobs=-1)\n",
    "\n",
    "cv.fit(X_train, y_train)"
   ]
  },
  {
   "cell_type": "code",
   "execution_count": null,
   "id": "dc6b94a3",
   "metadata": {},
   "outputs": [],
   "source": [
    "cv.best_params_"
   ]
  },
  {
   "cell_type": "code",
   "execution_count": null,
   "id": "c2b06db1",
   "metadata": {},
   "outputs": [],
   "source": [
    "cv.best_score_"
   ]
  },
  {
   "cell_type": "code",
   "execution_count": null,
   "id": "3d546a4b",
   "metadata": {},
   "outputs": [],
   "source": [
    "model = cv.best_estimator_"
   ]
  },
  {
   "cell_type": "code",
   "execution_count": null,
   "id": "9d5287b3",
   "metadata": {},
   "outputs": [],
   "source": [
    "df_test['prediction'] = model.predict(X_test)"
   ]
  },
  {
   "cell_type": "markdown",
   "id": "8207299a",
   "metadata": {},
   "source": [
    "**Exercise 9:** Create a confusion matrix. What are the most common mistakes that the model makes?"
   ]
  },
  {
   "cell_type": "code",
   "execution_count": null,
   "id": "a9547037",
   "metadata": {},
   "outputs": [],
   "source": [
    "cm = df_test.groupby(['target', 'prediction'], as_index=False).size()\n",
    "cm"
   ]
  },
  {
   "cell_type": "code",
   "execution_count": null,
   "id": "2cb65647",
   "metadata": {},
   "outputs": [],
   "source": [
    "base = alt.Chart(cm).encode(\n",
    "    x=alt.X('prediction:N', title='predicted class', axis=alt.Axis(labelAngle=0)),\n",
    "    y=alt.Y('target:N', title='actual class'),\n",
    ").properties(\n",
    "    width=300,\n",
    "    height=300\n",
    ")\n",
    "\n",
    "rect = base.mark_rect().encode(\n",
    "    color=alt.Color('prediction:N', legend=None),\n",
    "    opacity=alt.Opacity('size', legend=None),\n",
    ")\n",
    "\n",
    "text = base.mark_text().encode(\n",
    "    text='size',\n",
    ")\n",
    "\n",
    "rect + text"
   ]
  },
  {
   "cell_type": "markdown",
   "id": "a91cf384",
   "metadata": {},
   "source": [
    "Confusion matrix with zeros \\[[1](https://stackoverflow.com/a/42854842/5016634)\\]."
   ]
  },
  {
   "cell_type": "code",
   "execution_count": null,
   "id": "5c0794a0",
   "metadata": {},
   "outputs": [],
   "source": [
    "cm_with_zeros = df_test.groupby(['target', 'prediction']).size().unstack(fill_value=0).stack().reset_index()\n",
    "cm_with_zeros.rename(columns={0: 'size'}, inplace=True)\n",
    "cm_with_zeros"
   ]
  },
  {
   "cell_type": "code",
   "execution_count": null,
   "id": "2977af56",
   "metadata": {
    "scrolled": false
   },
   "outputs": [],
   "source": [
    "base = alt.Chart(cm_with_zeros).encode(\n",
    "    x=alt.X('prediction:N', title='predicted class', axis=alt.Axis(labelAngle=0)),\n",
    "    y=alt.Y('target:N', title='actual class'),\n",
    ").properties(\n",
    "    width=300,\n",
    "    height=300\n",
    ")\n",
    "\n",
    "rect = base.mark_rect().encode(\n",
    "    color=alt.Color('prediction:N', legend=None),\n",
    "    opacity=alt.Opacity('size', scale=alt.Scale(range=[0, 1], type='symlog'), legend=None),\n",
    ")\n",
    "\n",
    "text = base.mark_text().encode(\n",
    "    text='size',\n",
    ")\n",
    "\n",
    "rect + text"
   ]
  },
  {
   "cell_type": "markdown",
   "id": "30bce8a7",
   "metadata": {},
   "source": [
    "**Exercise 10:** Create a scatterplot that shows the t-SNE projection of the test data. How can the scatteplot be made useful for exploring incorrectly classified points? Can you show which points were correctly classified vs. incorrectly classified? Can you provide a way for the user to see both the target and predicted labels?"
   ]
  },
  {
   "cell_type": "code",
   "execution_count": null,
   "id": "2c44e0a0",
   "metadata": {},
   "outputs": [],
   "source": [
    "df_test['correct'] = df_test['target'] == df_test['prediction']"
   ]
  },
  {
   "cell_type": "code",
   "execution_count": null,
   "id": "d09f7cbe",
   "metadata": {},
   "outputs": [],
   "source": [
    "alt.Chart(df_test).mark_circle().encode(\n",
    "    x='x-tsne',\n",
    "    y='y-tsne',\n",
    "    stroke='target:N',\n",
    "    fill='prediction:N',\n",
    "    opacity=alt.condition(alt.datum.correct, alt.value(0.15), alt.value(1)),\n",
    "    size=alt.condition(alt.datum.correct, alt.value(25), alt.value(50)),\n",
    "    order=alt.Order('correct', sort='descending'),\n",
    "    tooltip=['image', 'target', 'prediction']\n",
    ").interactive()"
   ]
  },
  {
   "cell_type": "code",
   "execution_count": null,
   "id": "3b8f71b8",
   "metadata": {},
   "outputs": [],
   "source": []
  }
 ],
 "metadata": {
  "kernelspec": {
   "display_name": "Python 3 (ipykernel)",
   "language": "python",
   "name": "python3"
  },
  "language_info": {
   "codemirror_mode": {
    "name": "ipython",
    "version": 3
   },
   "file_extension": ".py",
   "mimetype": "text/x-python",
   "name": "python",
   "nbconvert_exporter": "python",
   "pygments_lexer": "ipython3",
   "version": "3.10.6"
  }
 },
 "nbformat": 4,
 "nbformat_minor": 5
}
