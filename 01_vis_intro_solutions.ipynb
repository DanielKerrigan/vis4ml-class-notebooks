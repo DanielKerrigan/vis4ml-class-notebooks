{
 "cells": [
  {
   "cell_type": "markdown",
   "id": "c1fb74bd",
   "metadata": {},
   "source": [
    "# 01: Intro to Visualization in Python\n",
    "\n",
    "## Resources\n",
    "\n",
    "Python has several data visualization libraries, including:\n",
    "\n",
    "- [Matplotlib](https://matplotlib.org)\n",
    "- [Seaborn](https://seaborn.pydata.org)\n",
    "- [Bokeh](https://docs.bokeh.org/en/latest/)\n",
    "- [Altair](https://github.com/altair-viz/altair)\n",
    "- [Plotly](https://plotly.com/python/)\n",
    "- [Plotnine](https://plotnine.readthedocs.io/en/stable/)\n",
    "\n",
    "All of these are pre-installed in Colab. Throughout this course, you are welcome to use any libraries of your choosing. If there is a library that you want to use, but is not installed in Colab,  then you can follow these [instructions](https://colab.research.google.com/notebooks/snippets/importing_libraries.ipynb).\n",
    "\n",
    "If you're interested in building an interactive application or dashboard in Python for your project, then you may want to check out:\n",
    "- [streamlit](https://streamlit.io)\n",
    "- [Plotly Dash](https://dash.plotly.com/introduction)\n",
    "- [Panel](https://panel.holoviz.org)\n",
    "- [H20 Wave](https://wave.h2o.ai)\n",
    "\n",
    "## Altair\n",
    "\n",
    "In case you are not familiar with any Python visualization libraries, then this notebook will provide an overview of Altair. This content is based on the [Altair documentation](https://altair-viz.github.io).\n",
    "\n",
    "Altair is essentially a Python API for [Vega-Lite](https://vega.github.io/vega-lite/), which is a grammar for specifying interactive graphics in JSON. Altair has a straightforward API that focuses on specifying marks and channel encodings, which is a nice match to how we conceptually describe visualizations. Learning Altair will also make for an easy transition to using Vega-Lite elsewhere, such as in a web app. One downside of Altair is that it is cumbersome to create static visualizations outside of the browser. If your goal is to write a Python script that saves charts to an image file on your computer without using the browser, then Altair is not the best choice.\n",
    "\n",
    "### Data\n",
    "\n",
    "You can pass your dataset to Altair as a pandas dataframe or as a path to a JSON or CSV file. Altair works best with data that is in [tidy](https://vita.had.co.nz/papers/tidy-data.pdf) (or [long](https://altair-viz.github.io/user_guide/data.html#long-form-vs-wide-form-data)) format. If you pass a pandas dataframe, then Altair will automatically infer data types, but it will include the entire dataset in the chart's specification. With large datasets, this can lead to large chart and notebook sizes."
   ]
  },
  {
   "cell_type": "code",
   "execution_count": null,
   "id": "a6bbb297",
   "metadata": {},
   "outputs": [],
   "source": [
    "import altair as alt\n",
    "import pandas as pd"
   ]
  },
  {
   "cell_type": "code",
   "execution_count": null,
   "id": "eb711a4d",
   "metadata": {},
   "outputs": [],
   "source": [
    "# dataset is from https://observablehq.com/@d3/bar-chart\n",
    "letter_frequencies = pd.DataFrame({\n",
    "    'letter': [\"A\",\"B\",\"C\",\"D\",\"E\",\"F\",\"G\",\"H\",\"I\",\"J\",\"K\",\"L\",\"M\",\"N\",\"O\",\"P\",\"Q\",\"R\",\"S\",\"T\",\"U\",\"V\",\"W\",\"X\",\"Y\",\"Z\"],\n",
    "    'frequency': [0.08167,0.01492,0.02782,0.04253,0.12702,0.02288,0.02015,0.06094,0.06966,0.00153,0.00772,0.04025,0.02406,0.06749,0.07507,0.01929,0.00095,0.05987,0.06327,0.09056,0.02758,0.00978,0.0236,0.0015,0.01974,0.00074]\n",
    "})\n",
    "\n",
    "letter_frequencies"
   ]
  },
  {
   "cell_type": "markdown",
   "id": "49d48b3e",
   "metadata": {},
   "source": [
    "Here, we are passing the dataset as a pandas dataframe."
   ]
  },
  {
   "cell_type": "code",
   "execution_count": null,
   "id": "d387211e",
   "metadata": {},
   "outputs": [],
   "source": [
    "letter_freq_bar_chart = alt.Chart(letter_frequencies).mark_bar().encode(\n",
    "    x='letter',\n",
    "    y='frequency'\n",
    ")\n",
    "\n",
    "letter_freq_bar_chart"
   ]
  },
  {
   "cell_type": "markdown",
   "id": "2ae86fbe",
   "metadata": {},
   "source": [
    "When we look at the Vega-Lite specification that Altair creates for this chart, we can see that the entire dataset is included. This makes the chart portable, but increases its size."
   ]
  },
  {
   "cell_type": "code",
   "execution_count": null,
   "id": "8778cb62",
   "metadata": {
    "scrolled": false
   },
   "outputs": [],
   "source": [
    "print(letter_freq_bar_chart.to_json())"
   ]
  },
  {
   "cell_type": "markdown",
   "id": "736df821",
   "metadata": {},
   "source": [
    "We can avoid having the dataset included in the chart specification by saving the dataset to a JSON file and then passing the path to that file to Altair."
   ]
  },
  {
   "cell_type": "code",
   "execution_count": null,
   "id": "f6db613d",
   "metadata": {},
   "outputs": [],
   "source": [
    "!mkdir data"
   ]
  },
  {
   "cell_type": "code",
   "execution_count": null,
   "id": "63a19eb3",
   "metadata": {},
   "outputs": [],
   "source": [
    "letter_frequencies.to_json('data/letter_frequencies.json', orient='records')"
   ]
  },
  {
   "cell_type": "markdown",
   "id": "824b259d",
   "metadata": {},
   "source": [
    "However, when we do this, we have to specify the types of our data.\n",
    "\n",
    "|Data Type    | Shorthand|\n",
    "|-------------|----------|\n",
    "|quantitative | Q        |\n",
    "|ordinal      | O        |\n",
    "|nominal      | N        |\n",
    "|temporal     | T        |\n",
    "|geojson      | G        |"
   ]
  },
  {
   "cell_type": "code",
   "execution_count": null,
   "id": "ef3058c6",
   "metadata": {},
   "outputs": [],
   "source": [
    "letter_freq_bar_chart_2 = alt.Chart('data/letter_frequencies.json').mark_bar().encode(\n",
    "    x='letter:N',\n",
    "    y='frequency:Q'\n",
    ")\n",
    "\n",
    "letter_freq_bar_chart_2"
   ]
  },
  {
   "cell_type": "markdown",
   "id": "11be44e8",
   "metadata": {},
   "source": [
    "Now we can see that the entire dataset is not included in the Vega-Lite specification."
   ]
  },
  {
   "cell_type": "code",
   "execution_count": null,
   "id": "2e7c0c43",
   "metadata": {},
   "outputs": [],
   "source": [
    "print(letter_freq_bar_chart_2.to_json())"
   ]
  },
  {
   "cell_type": "markdown",
   "id": "ecd56ce4",
   "metadata": {},
   "source": [
    "We can also have Altair save our dataframe to a file automatically. With this enabled, Altair will still infer data types and the chart specification won't include the dataset."
   ]
  },
  {
   "cell_type": "code",
   "execution_count": null,
   "id": "0aa2be8c",
   "metadata": {},
   "outputs": [],
   "source": [
    "alt.data_transformers.enable('json', prefix='data/altair-data')"
   ]
  },
  {
   "cell_type": "code",
   "execution_count": null,
   "id": "e1208fdf",
   "metadata": {},
   "outputs": [],
   "source": [
    "letter_freq_bar_chart_3 = alt.Chart(letter_frequencies).mark_bar().encode(\n",
    "    x='letter',\n",
    "    y='frequency'\n",
    ")\n",
    "\n",
    "letter_freq_bar_chart_3"
   ]
  },
  {
   "cell_type": "code",
   "execution_count": null,
   "id": "0f32234e",
   "metadata": {},
   "outputs": [],
   "source": [
    "print(letter_freq_bar_chart_3.to_json())"
   ]
  },
  {
   "cell_type": "markdown",
   "id": "f9816a60",
   "metadata": {},
   "source": [
    "### Fundamentals\n",
    "\n",
    "To create a chart in Altair, you specify the type of mark that you want to use and what you want the channels of the marks to encode. \n",
    "\n",
    "#### Marks\n",
    "\n",
    "In the next few charts, we use the same encodings with different marks."
   ]
  },
  {
   "cell_type": "code",
   "execution_count": null,
   "id": "dec1752b",
   "metadata": {},
   "outputs": [],
   "source": [
    "alt.Chart(letter_frequencies).mark_bar().encode(\n",
    "    x='letter',\n",
    "    y='frequency'\n",
    ")"
   ]
  },
  {
   "cell_type": "code",
   "execution_count": null,
   "id": "99173312",
   "metadata": {},
   "outputs": [],
   "source": [
    "alt.Chart(letter_frequencies).mark_point().encode(\n",
    "    x='letter',\n",
    "    y='frequency'\n",
    ")"
   ]
  },
  {
   "cell_type": "code",
   "execution_count": null,
   "id": "2b369ccf",
   "metadata": {},
   "outputs": [],
   "source": [
    "alt.Chart(letter_frequencies).mark_square().encode(\n",
    "    x='letter',\n",
    "    y='frequency'\n",
    ")"
   ]
  },
  {
   "cell_type": "code",
   "execution_count": null,
   "id": "0012a2ed",
   "metadata": {},
   "outputs": [],
   "source": [
    "alt.Chart(letter_frequencies).mark_rule().encode(\n",
    "    x='letter',\n",
    "    y='frequency'\n",
    ")"
   ]
  },
  {
   "cell_type": "code",
   "execution_count": null,
   "id": "387e9a9d",
   "metadata": {
    "scrolled": true
   },
   "outputs": [],
   "source": [
    "alt.Chart(letter_frequencies).mark_tick().encode(\n",
    "    x='letter',\n",
    "    y='frequency'\n",
    ")"
   ]
  },
  {
   "cell_type": "markdown",
   "id": "816d5882",
   "metadata": {},
   "source": [
    "#### Encodings\n",
    "\n",
    "If we want a horizontal bar chart instead of a vertical bar chart, then we can swap the x and y encodings."
   ]
  },
  {
   "cell_type": "code",
   "execution_count": null,
   "id": "3ec85848",
   "metadata": {},
   "outputs": [],
   "source": [
    "alt.Chart(letter_frequencies).mark_bar().encode(\n",
    "    y='letter',\n",
    "    x='frequency'\n",
    ")"
   ]
  },
  {
   "cell_type": "markdown",
   "id": "228ea9c4",
   "metadata": {},
   "source": [
    "For another example of using channels to encode data, we add a column to our dataframe to indicate whether or not the letter is a vowel and then color the bars accordingly."
   ]
  },
  {
   "cell_type": "code",
   "execution_count": null,
   "id": "45f1bf02",
   "metadata": {},
   "outputs": [],
   "source": [
    "letter_frequencies['is_vowel'] = letter_frequencies['letter'].isin(('A', 'E', 'I', 'O', 'U'))"
   ]
  },
  {
   "cell_type": "code",
   "execution_count": null,
   "id": "43a57ea8",
   "metadata": {},
   "outputs": [],
   "source": [
    "alt.Chart(letter_frequencies).mark_bar().encode(\n",
    "    x='letter',\n",
    "    y='frequency',\n",
    "    fill='is_vowel'\n",
    ")"
   ]
  },
  {
   "cell_type": "markdown",
   "id": "24e57c22",
   "metadata": {},
   "source": [
    "#### Sorting\n",
    "\n",
    "Up to this point, we've been using a shorthand way to specify the encodings. If you need greater control over the scale or axis, then you can use the long-form. For example, the long-form of `x='letter'` is `x=alt.X('letter')`. Through this long-form `alt.X()`, we can specify how to sort bars. Below, we sort the bars in alphabetical order, which is the order that the dataset was already in."
   ]
  },
  {
   "cell_type": "code",
   "execution_count": null,
   "id": "32c34277",
   "metadata": {},
   "outputs": [],
   "source": [
    "alt.Chart(letter_frequencies).mark_bar().encode(\n",
    "    x=alt.X('letter', sort='ascending'),\n",
    "    y='frequency',\n",
    ")"
   ]
  },
  {
   "cell_type": "markdown",
   "id": "e7046e13",
   "metadata": {},
   "source": [
    "Here we sort the in reverse alphabetical order."
   ]
  },
  {
   "cell_type": "code",
   "execution_count": null,
   "id": "bccb2b81",
   "metadata": {},
   "outputs": [],
   "source": [
    "alt.Chart(letter_frequencies).mark_bar().encode(\n",
    "    x=alt.X('letter', sort='descending'),\n",
    "    y='frequency',\n",
    ")"
   ]
  },
  {
   "cell_type": "markdown",
   "id": "c455cce2",
   "metadata": {},
   "source": [
    "We can also sort the bars according to another channel. For example, here we sort the bars in descending order"
   ]
  },
  {
   "cell_type": "code",
   "execution_count": null,
   "id": "a7db52ca",
   "metadata": {},
   "outputs": [],
   "source": [
    "alt.Chart(letter_frequencies).mark_bar().encode(\n",
    "    x=alt.X('letter', sort='-y'),\n",
    "    y='frequency',\n",
    ")"
   ]
  },
  {
   "cell_type": "markdown",
   "id": "b912c1b3",
   "metadata": {},
   "source": [
    "#### Aggregation\n",
    "\n",
    "Altair [supports](https://altair-viz.github.io/user_guide/encoding.html#binning-and-aggregation) grouping, binning, and aggregating your data. For example, here we have a bar chart that shows the average frequency of vowels and consonants. The same approach applies for other aggregations, like min, max, median, q1 (first quartile), q3 (third quartile), count, stdev (standard deviation), etc."
   ]
  },
  {
   "cell_type": "code",
   "execution_count": null,
   "id": "fd22e1c9",
   "metadata": {},
   "outputs": [],
   "source": [
    "alt.Chart(letter_frequencies).mark_bar().encode(\n",
    "    x='average(frequency)',\n",
    "    y='is_vowel'\n",
    ")"
   ]
  },
  {
   "cell_type": "markdown",
   "id": "ff8d8984",
   "metadata": {},
   "source": [
    "In the long-form, the above chart would look like this."
   ]
  },
  {
   "cell_type": "code",
   "execution_count": null,
   "id": "6e37d011",
   "metadata": {},
   "outputs": [],
   "source": [
    "alt.Chart(letter_frequencies).mark_bar().encode(\n",
    "    x=alt.X('frequency', aggregate='average'),\n",
    "    y='is_vowel'\n",
    ")"
   ]
  },
  {
   "cell_type": "markdown",
   "id": "aef07090",
   "metadata": {},
   "source": [
    "count behaves differently from the other aggregations in that it does not need a column. For example, here we count the number of vowels and consonants."
   ]
  },
  {
   "cell_type": "code",
   "execution_count": null,
   "id": "c6a72fe6",
   "metadata": {},
   "outputs": [],
   "source": [
    "alt.Chart(letter_frequencies).mark_bar().encode(\n",
    "    x='count()',\n",
    "    y='is_vowel'\n",
    ")"
   ]
  },
  {
   "cell_type": "markdown",
   "id": "b679358c",
   "metadata": {},
   "source": [
    "For binning, we need to use the long-form. Here we have a histogram that bins the frequencies and shows the number of letters in each bin."
   ]
  },
  {
   "cell_type": "code",
   "execution_count": null,
   "id": "52a36086",
   "metadata": {
    "scrolled": false
   },
   "outputs": [],
   "source": [
    "alt.Chart(letter_frequencies).mark_bar().encode(\n",
    "    x=alt.X('frequency', bin=True),\n",
    "    y='count()'\n",
    ")"
   ]
  },
  {
   "cell_type": "markdown",
   "id": "fc7a5536",
   "metadata": {},
   "source": [
    "We can use [alt.Bin()](https://altair-viz.github.io/user_guide/generated/core/altair.BinParams.html) to get more control over the bins."
   ]
  },
  {
   "cell_type": "code",
   "execution_count": null,
   "id": "d197f0f6",
   "metadata": {},
   "outputs": [],
   "source": [
    "alt.Chart(letter_frequencies).mark_bar().encode(\n",
    "    x=alt.X('frequency', bin=alt.Bin(step=0.05)),\n",
    "    y='count()'\n",
    ")"
   ]
  },
  {
   "cell_type": "markdown",
   "id": "7f1e88f7",
   "metadata": {},
   "source": [
    "#### Exercise\n",
    "\n",
    "Below we have a dataset on daily bike rentals."
   ]
  },
  {
   "cell_type": "code",
   "execution_count": null,
   "id": "17164073",
   "metadata": {
    "scrolled": true
   },
   "outputs": [],
   "source": [
    "bike = pd.read_csv('https://raw.githubusercontent.com/christophM/interpretable-ml-book/master/data/bike.csv')\n",
    "bike.head()"
   ]
  },
  {
   "cell_type": "markdown",
   "id": "be71342f",
   "metadata": {},
   "source": [
    "Make a bar chart that shows the median number of bikes rented (\"cnt\") for each weather situation (\"weathersit\"). Sort the bars from lowest to highest count."
   ]
  },
  {
   "cell_type": "code",
   "execution_count": null,
   "id": "f358fb07",
   "metadata": {},
   "outputs": [],
   "source": [
    "alt.Chart(bike).mark_bar().encode(\n",
    "    x='median(cnt)',\n",
    "    y=alt.Y('weathersit', sort='x'),\n",
    ")"
   ]
  },
  {
   "cell_type": "markdown",
   "id": "e9ecd311",
   "metadata": {},
   "source": [
    "Make a histogram for the number of bikes rented (\"cnt\")."
   ]
  },
  {
   "cell_type": "code",
   "execution_count": null,
   "id": "556552b0",
   "metadata": {},
   "outputs": [],
   "source": [
    "alt.Chart(bike).mark_bar().encode(\n",
    "    x=alt.X('cnt', bin=True),\n",
    "    y='count()',\n",
    ")"
   ]
  },
  {
   "cell_type": "markdown",
   "id": "61b04898",
   "metadata": {},
   "source": [
    "### Basic Plots\n",
    "\n",
    "#### Scatter plot"
   ]
  },
  {
   "cell_type": "code",
   "execution_count": null,
   "id": "daa7c5e8",
   "metadata": {},
   "outputs": [],
   "source": [
    "alt.Chart(bike).mark_point().encode(\n",
    "    x='temp',\n",
    "    y='hum'\n",
    ")"
   ]
  },
  {
   "cell_type": "code",
   "execution_count": null,
   "id": "0c36a389",
   "metadata": {},
   "outputs": [],
   "source": [
    "alt.Chart(bike).mark_point().encode(\n",
    "    x='temp',\n",
    "    y='hum',\n",
    "    stroke='season'\n",
    ")"
   ]
  },
  {
   "cell_type": "code",
   "execution_count": null,
   "id": "24ab8c02",
   "metadata": {},
   "outputs": [],
   "source": [
    "alt.Chart(bike).mark_point().encode(\n",
    "    x='temp',\n",
    "    y='hum',\n",
    "    shape='season'\n",
    ")"
   ]
  },
  {
   "cell_type": "code",
   "execution_count": null,
   "id": "e102ab50",
   "metadata": {},
   "outputs": [],
   "source": [
    "alt.Chart(bike).mark_circle().encode(\n",
    "    x='temp',\n",
    "    y='hum',\n",
    "    fill='cnt'\n",
    ")"
   ]
  },
  {
   "cell_type": "code",
   "execution_count": null,
   "id": "215078dd",
   "metadata": {},
   "outputs": [],
   "source": [
    "alt.Chart(bike).mark_point().encode(\n",
    "    x='temp',\n",
    "    y='hum',\n",
    "    size='cnt'\n",
    ")"
   ]
  },
  {
   "cell_type": "markdown",
   "id": "197d8f80",
   "metadata": {},
   "source": [
    "#### Strip plot"
   ]
  },
  {
   "cell_type": "code",
   "execution_count": null,
   "id": "b2af8526",
   "metadata": {},
   "outputs": [],
   "source": [
    "alt.Chart(bike).mark_tick().encode(\n",
    "    x='temp',\n",
    "    y=alt.Y('season', sort=['WINTER', 'SPRING', 'SUMMER', 'FALL']),\n",
    ")"
   ]
  },
  {
   "cell_type": "markdown",
   "id": "51bc4c81",
   "metadata": {},
   "source": [
    "#### 2D Histogram"
   ]
  },
  {
   "cell_type": "code",
   "execution_count": null,
   "id": "3c79cfd7",
   "metadata": {},
   "outputs": [],
   "source": [
    "alt.Chart(bike).mark_circle().encode(\n",
    "    x=alt.X('temp', bin=True),\n",
    "    y=alt.Y('hum', bin=True),\n",
    "    size='average(cnt)',\n",
    ")"
   ]
  },
  {
   "cell_type": "markdown",
   "id": "c39bfd51",
   "metadata": {},
   "source": [
    "#### Heatmap"
   ]
  },
  {
   "cell_type": "code",
   "execution_count": null,
   "id": "21633410",
   "metadata": {},
   "outputs": [],
   "source": [
    "alt.Chart(bike).mark_rect().encode(\n",
    "    x='season',\n",
    "    y='weathersit',\n",
    "    fill='average(cnt)',\n",
    ").properties(\n",
    "    width=200,\n",
    "    height=200,\n",
    ")"
   ]
  },
  {
   "cell_type": "markdown",
   "id": "7ddbb5b5",
   "metadata": {},
   "source": [
    "#### Line and area charts"
   ]
  },
  {
   "cell_type": "code",
   "execution_count": null,
   "id": "c09e0232",
   "metadata": {},
   "outputs": [],
   "source": [
    "alt.Chart(bike).mark_line().encode(\n",
    "    x='days_since_2011',\n",
    "    y='cnt'\n",
    ")"
   ]
  },
  {
   "cell_type": "markdown",
   "id": "bc7d93df",
   "metadata": {},
   "source": [
    "For more complex aggregations, like rolling windows, you [can](https://altair-viz.github.io/user_guide/transform/window.html#user-guide-window-transform) do them directly in Altair, but it's probably easier to just do it in pandas."
   ]
  },
  {
   "cell_type": "code",
   "execution_count": null,
   "id": "adfdeafd",
   "metadata": {},
   "outputs": [],
   "source": [
    "bike_rolling_avg = bike.rolling(on='days_since_2011', window=7)['cnt'].mean().reset_index()"
   ]
  },
  {
   "cell_type": "code",
   "execution_count": null,
   "id": "8b1fb0c2",
   "metadata": {},
   "outputs": [],
   "source": [
    "alt.Chart(bike_rolling_avg).mark_line().encode(\n",
    "    x='index',\n",
    "    y='cnt'\n",
    ")"
   ]
  },
  {
   "cell_type": "code",
   "execution_count": null,
   "id": "383930e5",
   "metadata": {},
   "outputs": [],
   "source": [
    "alt.Chart(bike_rolling_avg).mark_area().encode(\n",
    "    x='index',\n",
    "    y='cnt'\n",
    ")"
   ]
  },
  {
   "cell_type": "code",
   "execution_count": null,
   "id": "a44cf57d",
   "metadata": {},
   "outputs": [],
   "source": [
    "months = bike['mnth'].unique()"
   ]
  },
  {
   "cell_type": "code",
   "execution_count": null,
   "id": "8eb45245",
   "metadata": {},
   "outputs": [],
   "source": [
    "alt.Chart(bike).mark_line().encode(\n",
    "    x=alt.X('mnth', sort=months),\n",
    "    y='median(cnt)',\n",
    "    stroke='yr:N'\n",
    ")"
   ]
  },
  {
   "cell_type": "code",
   "execution_count": null,
   "id": "d4ee596b",
   "metadata": {},
   "outputs": [],
   "source": [
    "alt.Chart(bike).mark_area().encode(\n",
    "    x=alt.X('mnth', sort=months),\n",
    "    y='median(cnt)',\n",
    "    fill='yr:N'\n",
    ")"
   ]
  },
  {
   "cell_type": "code",
   "execution_count": null,
   "id": "6bdc2c14",
   "metadata": {},
   "outputs": [],
   "source": [
    "alt.Chart(bike).mark_area().encode(\n",
    "    x=alt.X('mnth', sort=months),\n",
    "    y=alt.Y('median(cnt)', stack='normalize'),\n",
    "    fill='yr:N'\n",
    ")"
   ]
  },
  {
   "cell_type": "markdown",
   "id": "599aa188",
   "metadata": {},
   "source": [
    "#### Stacked Bar Chart"
   ]
  },
  {
   "cell_type": "code",
   "execution_count": null,
   "id": "8c35a9a8",
   "metadata": {},
   "outputs": [],
   "source": [
    "alt.Chart(bike).mark_bar().encode(\n",
    "    y='season',\n",
    "    x='count()',\n",
    "    fill='weathersit'\n",
    ")"
   ]
  },
  {
   "cell_type": "code",
   "execution_count": null,
   "id": "08eb59b3",
   "metadata": {},
   "outputs": [],
   "source": [
    "alt.Chart(bike).mark_bar().encode(\n",
    "    y='season',\n",
    "    x=alt.X('count()', stack='normalize'),\n",
    "    fill='weathersit'\n",
    ")"
   ]
  },
  {
   "cell_type": "markdown",
   "id": "d683d619",
   "metadata": {},
   "source": [
    "### Layers and Facets"
   ]
  },
  {
   "cell_type": "code",
   "execution_count": null,
   "id": "081c8518",
   "metadata": {},
   "outputs": [],
   "source": []
  },
  {
   "cell_type": "markdown",
   "id": "8bd928e2",
   "metadata": {},
   "source": [
    "### Interaction"
   ]
  },
  {
   "cell_type": "markdown",
   "id": "92ce9d51",
   "metadata": {},
   "source": [
    "### Customization"
   ]
  },
  {
   "cell_type": "code",
   "execution_count": null,
   "id": "587d23c6",
   "metadata": {},
   "outputs": [],
   "source": [
    "alt.Chart(bike).mark_point().encode(\n",
    "    x=alt.X('temp'),\n",
    "    y='hum'\n",
    ")"
   ]
  },
  {
   "cell_type": "code",
   "execution_count": null,
   "id": "1f1d1f89",
   "metadata": {},
   "outputs": [],
   "source": [
    "alt.Chart(letter_frequencies).mark_bar(\n",
    "    fill='blue',\n",
    "    opacity=0.5,\n",
    "    stroke='orange'\n",
    ").encode(\n",
    "    x='letter',\n",
    "    y='frequency'\n",
    ")"
   ]
  },
  {
   "cell_type": "code",
   "execution_count": null,
   "id": "82f34879",
   "metadata": {},
   "outputs": [],
   "source": []
  }
 ],
 "metadata": {
  "kernelspec": {
   "display_name": "Python 3 (ipykernel)",
   "language": "python",
   "name": "python3"
  },
  "language_info": {
   "codemirror_mode": {
    "name": "ipython",
    "version": 3
   },
   "file_extension": ".py",
   "mimetype": "text/x-python",
   "name": "python",
   "nbconvert_exporter": "python",
   "pygments_lexer": "ipython3",
   "version": "3.10.4"
  }
 },
 "nbformat": 4,
 "nbformat_minor": 5
}
