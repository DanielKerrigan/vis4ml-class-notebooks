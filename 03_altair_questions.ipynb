{
 "cells": [
  {
   "cell_type": "markdown",
   "id": "f7faaed8",
   "metadata": {},
   "source": [
    "# Questions from Lab 03\n",
    "\n",
    "## Imports"
   ]
  },
  {
   "cell_type": "code",
   "execution_count": null,
   "id": "2fcdad40",
   "metadata": {},
   "outputs": [],
   "source": [
    "# If you're running this on colab, then you can uncomment the below command to\n",
    "# install the pmlb library.\n",
    "# !pip install pmlb"
   ]
  },
  {
   "cell_type": "code",
   "execution_count": null,
   "id": "83fb0a9e",
   "metadata": {},
   "outputs": [],
   "source": [
    "import altair as alt\n",
    "import numpy as np\n",
    "import pandas as pd\n",
    "import pmlb\n",
    "from itertools import product\n",
    "\n",
    "from sklearn.model_selection import train_test_split\n",
    "from sklearn.manifold import TSNE\n",
    "from sklearn.datasets import load_digits\n",
    "from sklearn.decomposition import PCA"
   ]
  },
  {
   "cell_type": "code",
   "execution_count": null,
   "id": "09ce258e",
   "metadata": {},
   "outputs": [],
   "source": [
    "# If you're running this code locally, then you can uncomment this to automatically\n",
    "# save the chart data in files, rather than including the data in the spec. \n",
    "\n",
    "# !mkdir -p data\n",
    "# alt.data_transformers.enable('json', prefix='data/altair-data')"
   ]
  },
  {
   "cell_type": "markdown",
   "id": "ea058baa",
   "metadata": {},
   "source": [
    "## Setup"
   ]
  },
  {
   "cell_type": "code",
   "execution_count": null,
   "id": "30db205c",
   "metadata": {},
   "outputs": [],
   "source": [
    "mnist = pmlb.fetch_data('mnist')\n",
    "mnist_small = mnist.sample(n=5000)\n",
    "\n",
    "X = mnist_small.drop(columns=['target'])\n",
    "y = mnist_small['target'].values\n",
    "\n",
    "X_train, X_test, y_train, y_test = train_test_split(X, y, test_size=0.5)\n",
    "\n",
    "tsne = TSNE(n_components=2, learning_rate='auto', init='random', perplexity=3)\n",
    "X_train_embedded = tsne.fit_transform(X_train)\n",
    "\n",
    "pca = PCA(n_components=2)\n",
    "X_train_pca = pca.fit_transform(X_train)\n",
    "\n",
    "df_train = pd.DataFrame(X_train_embedded, columns=['x-tsne', 'y-tsne'])\n",
    "df_train['target'] = y_train\n",
    "\n",
    "df_train['x-pca'] = X_train_pca[:,0]\n",
    "df_train['y-pca'] = X_train_pca[:,1]"
   ]
  },
  {
   "cell_type": "markdown",
   "id": "5b84d2ec",
   "metadata": {},
   "source": [
    "## Is there a better way to have brushing plus panning and zooming?\n",
    "\n",
    "Interval selections don't work nicely with `.interactive()`:"
   ]
  },
  {
   "cell_type": "code",
   "execution_count": null,
   "id": "1a455238",
   "metadata": {},
   "outputs": [],
   "source": [
    "brush = alt.selection_interval()\n",
    "\n",
    "base = alt.Chart(df_train).mark_circle().encode(\n",
    "    color=alt.condition(brush, 'target:N', alt.value('#dddddd')),\n",
    ").add_selection(\n",
    "    brush\n",
    ").properties(\n",
    "    width=350,\n",
    "    height=350\n",
    ").interactive()\n",
    "\n",
    "base.encode(x='x-tsne', y='y-tsne') | base.encode(x='x-pca', y='y-pca')"
   ]
  },
  {
   "cell_type": "markdown",
   "id": "65423f8b",
   "metadata": {},
   "source": [
    "In the version below, you can hold down the shift key to use the brush. This example is based on this [StackOverflow answer](https://stackoverflow.com/a/65006769/5016634) from the author of Altair. For additional resources, see the [Altair docs on interaction](https://altair-viz.github.io/user_guide/interactions.html#) and the [Vega docs on event stream selectors](https://vega.github.io/vega/docs/event-streams/#selector)."
   ]
  },
  {
   "cell_type": "code",
   "execution_count": null,
   "id": "2f19cd6b",
   "metadata": {},
   "outputs": [],
   "source": [
    "brush = alt.selection_interval(\n",
    "    on='[mousedown[event.shiftKey], mouseup] > mousemove',\n",
    "    translate='[mousedown[event.shiftKey], mouseup] > mousemove!'\n",
    ")\n",
    "\n",
    "pan_zoom = alt.selection_interval(\n",
    "    on='[mousedown[!event.shiftKey], mouseup] > mousemove',\n",
    "    translate='[mousedown[!event.shiftKey], mouseup] > mousemove!',\n",
    "    bind='scales'\n",
    ")\n",
    "\n",
    "base = alt.Chart(df_train).mark_circle().encode(\n",
    "    color=alt.condition(brush, 'target:N', alt.value('#dddddd')),\n",
    ").properties(\n",
    "    width=350,\n",
    "    height=350\n",
    ").add_selection(\n",
    "    pan_zoom, brush\n",
    ")\n",
    "\n",
    "alt.hconcat(base.encode(x='x-tsne', y='y-tsne'), base.encode(x='x-pca', y='y-pca'))"
   ]
  },
  {
   "cell_type": "markdown",
   "id": "7990fd01",
   "metadata": {},
   "source": [
    "## Can you have multiple brushes?\n",
    "\n",
    "The [docs](https://altair-viz.github.io/user_guide/interactions.html#composing-multiple-selections) give an example of two having brushes. One is created by holding down the shift key and the other is created by holding down the alt (or option) key. I'm not sure of a way to have an arbitrary number of interval selections."
   ]
  },
  {
   "cell_type": "code",
   "execution_count": null,
   "id": "65055c10",
   "metadata": {},
   "outputs": [],
   "source": [
    "brush1 = alt.selection_interval(\n",
    "    on='[mousedown[event.shiftKey], mouseup] > mousemove'\n",
    ")\n",
    "\n",
    "brush2 = alt.selection_interval(\n",
    "    on='[mousedown[event.altKey], mouseup] > mousemove'\n",
    ")\n",
    "\n",
    "base = alt.Chart(df_train).mark_circle().encode(\n",
    "    color=alt.condition(brush1 | brush2, 'target:N', alt.value('#dddddd')),\n",
    ").properties(\n",
    "    width=350,\n",
    "    height=350\n",
    ").add_selection(\n",
    "    brush1, brush2\n",
    ")\n",
    "\n",
    "alt.hconcat(base.encode(x='x-tsne', y='y-tsne'), base.encode(x='x-pca', y='y-pca'))"
   ]
  },
  {
   "cell_type": "markdown",
   "id": "3df425a6",
   "metadata": {},
   "source": [
    "Alternatively, you can select multiple items individually. For example, below you can click on a circle to select it. To select multiple circles, you can shift-click."
   ]
  },
  {
   "cell_type": "code",
   "execution_count": null,
   "id": "23bed34e",
   "metadata": {},
   "outputs": [],
   "source": [
    "select = alt.selection_multi()\n",
    "\n",
    "base = alt.Chart(df_train).mark_circle().encode(\n",
    "    color=alt.condition(select, 'target:N', alt.value('#dddddd')),\n",
    ").properties(\n",
    "    width=350,\n",
    "    height=350\n",
    ").add_selection(\n",
    "    select\n",
    ")\n",
    "\n",
    "alt.hconcat(base.encode(x='x-tsne', y='y-tsne'), base.encode(x='x-pca', y='y-pca'))"
   ]
  },
  {
   "cell_type": "markdown",
   "id": "1a5470b5",
   "metadata": {},
   "source": [
    "In this example, you can select multiple points by holding down shift and hovering over them."
   ]
  },
  {
   "cell_type": "code",
   "execution_count": null,
   "id": "f3239b97",
   "metadata": {},
   "outputs": [],
   "source": [
    "select = alt.selection_multi(on='mouseover')\n",
    "\n",
    "base = alt.Chart(df_train).mark_circle().encode(\n",
    "    color=alt.condition(select, 'target:N', alt.value('#dddddd')),\n",
    ").properties(\n",
    "    width=350,\n",
    "    height=350\n",
    ").add_selection(\n",
    "    select\n",
    ")\n",
    "\n",
    "alt.hconcat(base.encode(x='x-tsne', y='y-tsne'), base.encode(x='x-pca', y='y-pca'))"
   ]
  },
  {
   "cell_type": "markdown",
   "id": "602d5623",
   "metadata": {},
   "source": [
    "## Other interaction\n",
    "\n",
    "So far we've used selections to highlight the same data point in other views. With the `fields` attribute, we can specify which columns we want to consider when determining what data points are selected. In the below example, when we hover over a data point, we select all data points that have the same target. Note that this does not work with brushes, only `selection_single` and `selection_multi`.\n",
    "\n",
    "For more examples, see the [docs](https://altair-viz.github.io/user_guide/interactions.html#selection-targets-fields-and-encodings)."
   ]
  },
  {
   "cell_type": "code",
   "execution_count": null,
   "id": "3cba3952",
   "metadata": {
    "scrolled": false
   },
   "outputs": [],
   "source": [
    "select = alt.selection_single(on='mouseover', fields=['target'])\n",
    "\n",
    "base = alt.Chart(df_train).mark_circle().encode(\n",
    "    color=alt.condition(select, 'target:N', alt.value('#dddddd')),\n",
    ").properties(\n",
    "    width=350,\n",
    "    height=350\n",
    ").add_selection(\n",
    "    select\n",
    ")\n",
    "\n",
    "alt.hconcat(base.encode(x='x-tsne', y='y-tsne'), base.encode(x='x-pca', y='y-pca'))"
   ]
  },
  {
   "cell_type": "code",
   "execution_count": null,
   "id": "7b192918",
   "metadata": {},
   "outputs": [],
   "source": []
  }
 ],
 "metadata": {
  "kernelspec": {
   "display_name": "Python 3 (ipykernel)",
   "language": "python",
   "name": "python3"
  },
  "language_info": {
   "codemirror_mode": {
    "name": "ipython",
    "version": 3
   },
   "file_extension": ".py",
   "mimetype": "text/x-python",
   "name": "python",
   "nbconvert_exporter": "python",
   "pygments_lexer": "ipython3",
   "version": "3.10.6"
  }
 },
 "nbformat": 4,
 "nbformat_minor": 5
}
